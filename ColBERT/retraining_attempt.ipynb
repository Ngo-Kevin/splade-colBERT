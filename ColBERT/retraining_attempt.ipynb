{
 "cells": [
  {
   "cell_type": "code",
   "execution_count": 1,
   "id": "0fb623ab-d2c2-41cb-827d-4a711b68a0cf",
   "metadata": {},
   "outputs": [],
   "source": [
    "from colbert.infra import Run, RunConfig, ColBERTConfig\n",
    "from colbert import Trainer"
   ]
  },
  {
   "cell_type": "code",
   "execution_count": 2,
   "id": "bd0957f2-0875-4c29-99ea-da153322fd82",
   "metadata": {},
   "outputs": [],
   "source": [
    "config = ColBERTConfig(\n",
    "        bsize=64,\n",
    "        root=r\"../retrain_colbert\",\n",
    "    )"
   ]
  },
  {
   "cell_type": "code",
   "execution_count": null,
   "id": "7ab2d642-efbd-487c-9d50-d12b36ff7a79",
   "metadata": {},
   "outputs": [
    {
     "name": "stdout",
     "output_type": "stream",
     "text": [
      "#> Starting...\n"
     ]
    }
   ],
   "source": [
    "with Run().context(RunConfig(nranks=1, experiment=\"msmarco\")):\n",
    "    trainer = Trainer(\n",
    "        triples= r\"../data/triples.train.small.tsv\",\n",
    "        queries= r\"../data/queries.train.tsv\",\n",
    "        collection= r\"../data/collection.tsv\",\n",
    "        config=config,\n",
    "    )\n",
    "\n",
    "    checkpoint_path = trainer.train()\n",
    "\n",
    "    print(f\"Saved checkpoint to {checkpoint_path}...\")"
   ]
  },
  {
   "cell_type": "code",
   "execution_count": 1,
   "id": "de0f68c2-508f-4024-8e7e-33d0c8f4c784",
   "metadata": {},
   "outputs": [],
   "source": [
    "from colbert.evaluation.loaders import *"
   ]
  },
  {
   "cell_type": "code",
   "execution_count": 5,
   "id": "614a8213-ab05-40b3-92bd-62b4844821c6",
   "metadata": {},
   "outputs": [],
   "source": [
    "from tqdm.auto import tqdm"
   ]
  },
  {
   "cell_type": "code",
   "execution_count": 2,
   "id": "a78c298f-13d1-4908-9e34-82909c380324",
   "metadata": {},
   "outputs": [],
   "source": [
    "param = {\n",
    "    'triples': '../data/triples.train.small.tsv',\n",
    "    'queries': '../data/queries.train.tsv',\n",
    "    'collection': '../data/collection.tsv'\n",
    "}"
   ]
  },
  {
   "cell_type": "code",
   "execution_count": 171,
   "id": "e5a9b816-97c2-425d-8a1f-381584f8ce61",
   "metadata": {},
   "outputs": [],
   "source": [
    "def load_queries(queries_path):\n",
    "    queries = OrderedDict()\n",
    "\n",
    "    print_message(\"#> Loading the queries from\", queries_path, \"...\")\n",
    "\n",
    "    with open(queries_path, encoding='utf-8') as f:\n",
    "        for line in f:\n",
    "            qid, query, *_ = line.replace(\"\\xa0\", \" \").strip().split('\\t')\n",
    "            qid = int(qid)\n",
    "\n",
    "            assert (qid not in queries), (\"Query QID\", qid, \"is repeated!\")\n",
    "            queries[re.sub('[^ 0-9a-zA-Z_-]', '', query.strip(\" \"))] = qid\n",
    "\n",
    "    print_message(\"#> Got\", len(queries), \"queries. All QIDs are unique.\\n\")\n",
    "\n",
    "    return queries"
   ]
  },
  {
   "cell_type": "code",
   "execution_count": 9,
   "id": "90c49dcf-46a7-4085-852f-816b288c3f7d",
   "metadata": {},
   "outputs": [],
   "source": [
    "def load_collection(collection_path):\n",
    "    print_message(\"#> Loading collection...\")\n",
    "\n",
    "    collection = {}\n",
    "\n",
    "    with open(collection_path, encoding=\"utf-8\") as f:\n",
    "        for line_idx, line in enumerate(f):\n",
    "            if line_idx % (1000*1000) == 0:\n",
    "                print(f'{line_idx // 1000 // 1000}M', end=' ', flush=True)\n",
    "\n",
    "            pid, passage, *rest = line.strip('\\n\\r ').split('\\t')\n",
    "            assert pid == 'id' or int(pid) == line_idx\n",
    "\n",
    "            if len(rest) >= 1:\n",
    "                title = rest[0]\n",
    "                passage = title + ' | ' + passage\n",
    "\n",
    "            collection[passage] = line_idx\n",
    "\n",
    "    print()\n",
    "\n",
    "    return collection"
   ]
  },
  {
   "cell_type": "code",
   "execution_count": 172,
   "id": "c1af172c-d378-47c5-8137-a8f75a3cb953",
   "metadata": {},
   "outputs": [
    {
     "name": "stdout",
     "output_type": "stream",
     "text": [
      "[Sep 26, 16:31:04] #> Loading the queries from ../data/queries.train.tsv ...\n",
      "[Sep 26, 16:31:05] #> Got 806349 queries. All QIDs are unique.\n",
      "\n"
     ]
    }
   ],
   "source": [
    "queries = load_queries(param['queries'])"
   ]
  },
  {
   "cell_type": "code",
   "execution_count": null,
   "id": "406fe3e6-2310-49ab-a67c-f7b233839eb8",
   "metadata": {},
   "outputs": [
    {
     "name": "stdout",
     "output_type": "stream",
     "text": [
      "[Sep 26, 15:43:32] #> Loading collection...\n",
      "0M 1M 2M 3M 4M 5M 6M 7M 8M \n"
     ]
    }
   ],
   "source": [
    "collection = load_collection(param['collection'])"
   ]
  },
  {
   "cell_type": "code",
   "execution_count": 209,
   "id": "c12b7dcc-581a-4bfd-855f-39539d37d38a",
   "metadata": {},
   "outputs": [],
   "source": [
    "def get_id(text, data):\n",
    "    _id = data.get(exceptions.get(text, text), None)\n",
    "    text = \n",
    "    if _id is None: \n",
    "        _id = data.get(exceptions.get(re.sub('[^ 0-9a-zA-Z_-]', '', text), re.sub('[^ 0-9a-zA-Z_-]', '', text)), None)\n",
    "    if _id is None: _id = data.get(text.strip(' '), None)\n",
    "    \n",
    "    if _id is None:\n",
    "        print(text)\n",
    "        raise Exception(text)\n",
    "    return _id"
   ]
  },
  {
   "cell_type": "code",
   "execution_count": 227,
   "id": "a49e380b-f7a1-4f26-80e5-3cc1e90ab775",
   "metadata": {},
   "outputs": [],
   "source": [
    "import thefuzz"
   ]
  },
  {
   "cell_type": "code",
   "execution_count": 176,
   "id": "a2b9c212-08df-4e82-a912-edc00f00f4d9",
   "metadata": {},
   "outputs": [],
   "source": [
    "import re"
   ]
  },
  {
   "cell_type": "code",
   "execution_count": 105,
   "id": "b036987e-b802-4cb2-b409-b4ec10c631a5",
   "metadata": {},
   "outputs": [],
   "source": [
    "exceptions = {\n",
    "    \"divorce et sÃ©paration\": 'divorce et séparation',\n",
    "    \"what is intelÂ® vpro technology\": 'what is intel® vpro technology',\n",
    "    \"what is aÂ\\xa0shock wave\":'what is a shock wave',\n",
    "    'Germanyâ\\x80\\x99s perspective, the Treaty of Versailles was a fair settlement for its national interests': 'Germany’s perspective, the Treaty of Versailles was a fair settlement for its national interests',\n",
    "}"
   ]
  },
  {
   "cell_type": "code",
   "execution_count": 234,
   "id": "2dbe9c35-bc7f-478f-a820-0f6a8e976e0c",
   "metadata": {
    "tags": []
   },
   "outputs": [
    {
     "data": {
      "application/vnd.jupyter.widget-view+json": {
       "model_id": "80694c3395d741658ccee636a51b17fc",
       "version_major": 2,
       "version_minor": 0
      },
      "text/plain": [
       "0it [00:00, ?it/s]"
      ]
     },
     "metadata": {},
     "output_type": "display_data"
    },
    {
     "name": "stdout",
     "output_type": "stream",
     "text": [
      "which of the followingÂ is an ascending tract of the spinal cord?\n"
     ]
    },
    {
     "ename": "Exception",
     "evalue": "which of the followingÂ is an ascending tract of the spinal cord?",
     "output_type": "error",
     "traceback": [
      "\u001b[1;31m---------------------------------------------------------------------------\u001b[0m",
      "\u001b[1;31mException\u001b[0m                                 Traceback (most recent call last)",
      "Cell \u001b[1;32mIn [234], line 5\u001b[0m\n\u001b[0;32m      3\u001b[0m \u001b[38;5;28;01mfor\u001b[39;00m line \u001b[38;5;129;01min\u001b[39;00m tqdm(f):\n\u001b[0;32m      4\u001b[0m     q_str, p_str_p, p_str_n \u001b[38;5;241m=\u001b[39m line\u001b[38;5;241m.\u001b[39mstrip(\u001b[38;5;124m'\u001b[39m\u001b[38;5;130;01m\\n\u001b[39;00m\u001b[38;5;124m'\u001b[39m)\u001b[38;5;241m.\u001b[39msplit(\u001b[38;5;124m'\u001b[39m\u001b[38;5;130;01m\\t\u001b[39;00m\u001b[38;5;124m'\u001b[39m)\n\u001b[1;32m----> 5\u001b[0m     qid \u001b[38;5;241m=\u001b[39m \u001b[43mget_id\u001b[49m\u001b[43m(\u001b[49m\u001b[43mq_str\u001b[49m\u001b[43m,\u001b[49m\u001b[43m \u001b[49m\u001b[43mqueries\u001b[49m\u001b[43m)\u001b[49m\n\u001b[0;32m      6\u001b[0m     pid_p \u001b[38;5;241m=\u001b[39m get_id(p_str_p, collection)\n\u001b[0;32m      7\u001b[0m     pid_n \u001b[38;5;241m=\u001b[39m get_id(p_str_n, collection)\n",
      "Cell \u001b[1;32mIn [209], line 8\u001b[0m, in \u001b[0;36mget_id\u001b[1;34m(text, data)\u001b[0m\n\u001b[0;32m      6\u001b[0m \u001b[38;5;28;01mif\u001b[39;00m _id \u001b[38;5;129;01mis\u001b[39;00m \u001b[38;5;28;01mNone\u001b[39;00m:\n\u001b[0;32m      7\u001b[0m     \u001b[38;5;28mprint\u001b[39m(text)\n\u001b[1;32m----> 8\u001b[0m     \u001b[38;5;28;01mraise\u001b[39;00m \u001b[38;5;167;01mException\u001b[39;00m(text)\n\u001b[0;32m      9\u001b[0m \u001b[38;5;28;01mreturn\u001b[39;00m _id\n",
      "\u001b[1;31mException\u001b[0m: which of the followingÂ is an ascending tract of the spinal cord?"
     ]
    }
   ],
   "source": [
    "examples = []\n",
    "with open(param['triples'], encoding='utf-8') as f:\n",
    "    for line in tqdm(f):\n",
    "        q_str, p_str_p, p_str_n = line.strip('\\n').split('\\t')\n",
    "        qid = get_id(q_str, queries)\n",
    "        pid_p = get_id(p_str_p, collection)\n",
    "        pid_n = get_id(p_str_n, collection)\n",
    "        example = [qid, pid_p, pid_n]\n",
    "        examples.append(example)"
   ]
  },
  {
   "cell_type": "code",
   "execution_count": 235,
   "id": "8df2c116-17f6-4619-9fe9-8664b713c2d5",
   "metadata": {},
   "outputs": [],
   "source": [
    "from difflib import SequenceMatcher"
   ]
  },
  {
   "cell_type": "code",
   "execution_count": 228,
   "id": "c94ad02b-3c9c-4623-bdb9-992893f93a3b",
   "metadata": {},
   "outputs": [],
   "source": [
    "from thefuzz import process"
   ]
  },
  {
   "cell_type": "code",
   "execution_count": 243,
   "id": "08ca93b1-c862-47d2-ada2-7d31fcb4fa10",
   "metadata": {},
   "outputs": [
    {
     "name": "stdout",
     "output_type": "stream",
     "text": [
      "13.9 s ± 57 ms per loop (mean ± std. dev. of 5 runs, 1 loop each)\n"
     ]
    }
   ],
   "source": [
    "%%timeit -n 1 -r 5\n",
    "sorted( [[q, SequenceMatcher(None, q_str, q).quick_ratio()] for q in data.keys()], key=lambda x: x[1], reverse=True)"
   ]
  },
  {
   "cell_type": "code",
   "execution_count": 244,
   "id": "c596cc4c-b3e2-430a-9f55-5bd633507846",
   "metadata": {},
   "outputs": [
    {
     "name": "stdout",
     "output_type": "stream",
     "text": [
      "13.6 s ± 72.2 ms per loop (mean ± std. dev. of 5 runs, 1 loop each)\n"
     ]
    }
   ],
   "source": [
    "%%timeit -n 1 -r 5\n",
    "hit, max_ratio = '', 0\n",
    "for q in data.keys():\n",
    "    score = SequenceMatcher(None, q_str, q).quick_ratio()\n",
    "    if score >= max_ratio:\n",
    "        hit, max_ratio = q, score"
   ]
  },
  {
   "cell_type": "code",
   "execution_count": 246,
   "id": "b52ab6f8-a69c-4263-b176-40e99c029ade",
   "metadata": {},
   "outputs": [
    {
     "data": {
      "text/plain": [
       "'which of the followingÂ\\xa0is an ascending tract of the spinal cord?'"
      ]
     },
     "execution_count": 246,
     "metadata": {},
     "output_type": "execute_result"
    }
   ],
   "source": [
    "q_str"
   ]
  },
  {
   "cell_type": "code",
   "execution_count": 248,
   "id": "a0222f0c-ca61-48c9-aaf6-2fe9672a6609",
   "metadata": {},
   "outputs": [
    {
     "data": {
      "text/plain": [
       "'which of the followingÂ is an ascending tract of the spinal cord?'"
      ]
     },
     "execution_count": 248,
     "metadata": {},
     "output_type": "execute_result"
    }
   ],
   "source": [
    "q_str.replace(\"\\xa0\", ' ')"
   ]
  },
  {
   "cell_type": "code",
   "execution_count": 247,
   "id": "0b6d370c-708e-4aa7-bb42-3b43aba26822",
   "metadata": {},
   "outputs": [
    {
     "data": {
      "text/plain": [
       "'which of the followingis an ascending tract of the spinal cord'"
      ]
     },
     "execution_count": 247,
     "metadata": {},
     "output_type": "execute_result"
    }
   ],
   "source": [
    "re.sub('[^ 0-9a-zA-Z_-]', '', q_str)"
   ]
  },
  {
   "cell_type": "code",
   "execution_count": 232,
   "id": "10e1187d-c05b-495c-b796-98e35bffe2f3",
   "metadata": {},
   "outputs": [
    {
     "data": {
      "text/plain": [
       "['the lithosphere consists of  ____________']"
      ]
     },
     "execution_count": 232,
     "metadata": {},
     "output_type": "execute_result"
    }
   ],
   "source": [
    "# data = collection\n",
    "data = queries\n",
    "qid = [k for k in data.keys() if \"he lithosphere consis\" in k]\n",
    "qid"
   ]
  },
  {
   "cell_type": "code",
   "execution_count": null,
   "id": "b782bc0e-bbe1-4975-83fb-a553694e71fd",
   "metadata": {},
   "outputs": [],
   "source": [
    "list(exceptions.keys())[-1]"
   ]
  },
  {
   "cell_type": "code",
   "execution_count": 233,
   "id": "cf666a92-1378-4abf-b4f1-32e94a42e6c1",
   "metadata": {},
   "outputs": [
    {
     "data": {
      "text/plain": [
       "{'divorce et sÃ©paration': 'divorce et séparation',\n",
       " 'what is intelÂ® vpro technology': 'what is intel® vpro technology',\n",
       " 'what is aÂ\\xa0shock wave': 'what is a shock wave',\n",
       " 'Germanyâ\\x80\\x99s perspective, the Treaty of Versailles was a fair settlement for its national interests': 'Germany’s perspective, the Treaty of Versailles was a fair settlement for its national interests',\n",
       " 'yesÃ¼n temÃ¼r khan emperor taiding of yuan': 'yesün temür khan emperor taiding of yuan',\n",
       " ' The vitamin that prevents beriberi is ': ' The vitamin that prevents beriberi is',\n",
       " ' phosphates as food ingredients ': ' phosphates as food ingredients',\n",
       " ' who invented the periodic table ': ' who invented the periodic table',\n",
       " 'what does bokmÃ¥l mean': 'what does bokmål mean',\n",
       " 'which action should youÂ\\xa0never take when selecting quotations': 'which action should you never take when selecting quotations',\n",
       " 'dermatitis, anemia, convulsions, depressions, and confusion are all signs of a vitamin _________Â\\xa0deficiency.': 'dermatitis anemia convulsions depressions and confusion are all signs of a vitamin _________ deficiency',\n",
       " ' In humans, the normal set point for body temperature is ': 'In humans the normal set point for body temperature is',\n",
       " 'what did you notice about the relationship between pressure and volume when the temperatureÂ\\xa0 is held constant?': 'what did you notice about the relationship between pressure and volume when the temperature  is held constant',\n",
       " 'the Â\\xa0____________Â\\xa0 that vibrates like a drum when sound waves hit.': 'the  ____________  that vibrates like a drum when sound waves hit',\n",
       " 'what is composition?Â\\xa0 why is composition important?': 'what is composition  why is composition important',\n",
       " 'the lithosphere consists of Â\\xa0____________': 'the lithosphere consists of  ____________'}"
      ]
     },
     "execution_count": 233,
     "metadata": {},
     "output_type": "execute_result"
    }
   ],
   "source": [
    "exceptions = {**exceptions, **{q_str: qid[0]}}\n",
    "exceptions"
   ]
  }
 ],
 "metadata": {
  "kernelspec": {
   "display_name": "Python 3 (ipykernel)",
   "language": "python",
   "name": "python3"
  },
  "language_info": {
   "codemirror_mode": {
    "name": "ipython",
    "version": 3
   },
   "file_extension": ".py",
   "mimetype": "text/x-python",
   "name": "python",
   "nbconvert_exporter": "python",
   "pygments_lexer": "ipython3",
   "version": "3.9.13"
  }
 },
 "nbformat": 4,
 "nbformat_minor": 5
}
