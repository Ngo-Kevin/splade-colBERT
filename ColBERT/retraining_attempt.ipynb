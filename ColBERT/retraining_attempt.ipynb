{
 "cells": [
  {
   "cell_type": "code",
   "execution_count": 1,
   "id": "0fb623ab-d2c2-41cb-827d-4a711b68a0cf",
   "metadata": {},
   "outputs": [],
   "source": [
    "from colbert.infra import Run, RunConfig, ColBERTConfig\n",
    "from colbert import Trainer"
   ]
  },
  {
   "cell_type": "code",
   "execution_count": 2,
   "id": "bd0957f2-0875-4c29-99ea-da153322fd82",
   "metadata": {},
   "outputs": [],
   "source": [
    "config = ColBERTConfig(\n",
    "        bsize=64,\n",
    "        root=r\"../retrain_colbert\",\n",
    "    )"
   ]
  },
  {
   "cell_type": "code",
   "execution_count": 3,
   "id": "7ab2d642-efbd-487c-9d50-d12b36ff7a79",
   "metadata": {},
   "outputs": [
    {
     "name": "stdout",
     "output_type": "stream",
     "text": [
      "#> Starting...\n",
      "#> Joined...\n",
      "Saved checkpoint to None...\n"
     ]
    }
   ],
   "source": [
    "with Run().context(RunConfig(nranks=1, experiment=\"msmarco\")):\n",
    "    trainer = Trainer(\n",
    "        triples= r\"../data/triples.train.small.id.json\",\n",
    "        queries= r\"../data/queries.train.tsv\",\n",
    "        collection= r\"../data/collection.tsv\",\n",
    "        config=config,\n",
    "    )\n",
    "\n",
    "    checkpoint_path = trainer.train()\n",
    "\n",
    "    print(f\"Saved checkpoint to {checkpoint_path}...\")"
   ]
  },
  {
   "cell_type": "code",
   "execution_count": null,
   "id": "c73083fa-72c9-4181-8be4-70a00569c14b",
   "metadata": {},
   "outputs": [],
   "source": [
    "checkpoint_path"
   ]
  },
  {
   "cell_type": "code",
   "execution_count": 2,
   "id": "de0f68c2-508f-4024-8e7e-33d0c8f4c784",
   "metadata": {},
   "outputs": [],
   "source": [
    "from colbert.evaluation.loaders import *"
   ]
  },
  {
   "cell_type": "code",
   "execution_count": 3,
   "id": "614a8213-ab05-40b3-92bd-62b4844821c6",
   "metadata": {},
   "outputs": [],
   "source": [
    "from tqdm.auto import tqdm"
   ]
  },
  {
   "cell_type": "code",
   "execution_count": 15,
   "id": "a78c298f-13d1-4908-9e34-82909c380324",
   "metadata": {},
   "outputs": [],
   "source": [
    "param = {\n",
    "    'triples': '../data/triples.train.small.tsv',\n",
    "    'queries': '../data/queries.train.tsv',\n",
    "    'collection': '../data/collection.tsv'\n",
    "}"
   ]
  },
  {
   "cell_type": "code",
   "execution_count": null,
   "id": "e5a9b816-97c2-425d-8a1f-381584f8ce61",
   "metadata": {},
   "outputs": [],
   "source": [
    "def load_queries(queries_path):\n",
    "    queries = OrderedDict()\n",
    "\n",
    "    print_message(\"#> Loading the queries from\", queries_path, \"...\")\n",
    "\n",
    "    with open(queries_path, encoding='utf-8') as f:\n",
    "        for line in f:\n",
    "            qid, query, *_ = line.replace(\"\\xa0\", \" \").strip().split('\\t')\n",
    "            qid = int(qid)\n",
    "\n",
    "            assert (qid not in queries), (\"Query QID\", qid, \"is repeated!\")\n",
    "            queries[re.sub('[^ 0-9a-zA-Z_-]', '', query.strip(\" \"))] = qid\n",
    "\n",
    "    print_message(\"#> Got\", len(queries), \"queries. All QIDs are unique.\\n\")\n",
    "\n",
    "    return queries"
   ]
  },
  {
   "cell_type": "code",
   "execution_count": null,
   "id": "90c49dcf-46a7-4085-852f-816b288c3f7d",
   "metadata": {},
   "outputs": [],
   "source": [
    "def load_collection(collection_path):\n",
    "    print_message(\"#> Loading collection...\")\n",
    "\n",
    "    collection = {}\n",
    "\n",
    "    with open(collection_path, encoding=\"utf-8\") as f:\n",
    "        for line_idx, line in enumerate(f):\n",
    "            if line_idx % (1000*1000) == 0:\n",
    "                print(f'{line_idx // 1000 // 1000}M', end=' ', flush=True)\n",
    "\n",
    "            pid, passage, *rest = line.strip('\\n\\r ').split('\\t')\n",
    "            assert pid == 'id' or int(pid) == line_idx\n",
    "\n",
    "            if len(rest) >= 1:\n",
    "                title = rest[0]\n",
    "                passage = title + ' | ' + passage\n",
    "\n",
    "            collection[passage] = line_idx\n",
    "\n",
    "    print()\n",
    "\n",
    "    return collection"
   ]
  },
  {
   "cell_type": "code",
   "execution_count": null,
   "id": "c1a72a85-fff0-41c7-af74-72a12066136b",
   "metadata": {},
   "outputs": [],
   "source": [
    "import re"
   ]
  },
  {
   "cell_type": "code",
   "execution_count": null,
   "id": "c1af172c-d378-47c5-8137-a8f75a3cb953",
   "metadata": {},
   "outputs": [
    {
     "name": "stdout",
     "output_type": "stream",
     "text": [
      "[Sep 26, 18:41:38] #> Loading the queries from ../data/queries.train.tsv ...\n",
      "[Sep 26, 18:41:39] #> Got 806349 queries. All QIDs are unique.\n",
      "\n"
     ]
    }
   ],
   "source": [
    "queries = load_queries(param['queries'])"
   ]
  },
  {
   "cell_type": "code",
   "execution_count": null,
   "id": "406fe3e6-2310-49ab-a67c-f7b233839eb8",
   "metadata": {},
   "outputs": [
    {
     "name": "stdout",
     "output_type": "stream",
     "text": [
      "[Sep 26, 18:41:39] #> Loading collection...\n",
      "0M 1M 2M 3M 4M 5M 6M 7M 8M \n"
     ]
    }
   ],
   "source": [
    "collection = load_collection(param['collection'])"
   ]
  },
  {
   "cell_type": "code",
   "execution_count": null,
   "id": "c12b7dcc-581a-4bfd-855f-39539d37d38a",
   "metadata": {},
   "outputs": [],
   "source": [
    "global err_text\n",
    "err_text = \"\"\n",
    "def get_id(text, data):\n",
    "    err_text = text\n",
    "    _id = data.get(exceptions.get(text, text), None)\n",
    "    if _id is None: \n",
    "        text = text.replace(\"\\xa0\",' ')\n",
    "        _id = data.get(exceptions.get(text, text), None)\n",
    "    if _id is None: \n",
    "        n_text = text.strip(' ')\n",
    "        _id = data.get(exceptions.get(n_text, n_text), None)\n",
    "    if _id is None: \n",
    "        n_text = re.sub('[^ 0-9a-zA-Z_-]', '', n_text)\n",
    "        _id = data.get(exceptions.get(n_text, n_text), None)\n",
    "    if _id is None: \n",
    "        _id = data.get(text.strip(' '), None)\n",
    "    \n",
    "    if _id is None:\n",
    "        print(text)\n",
    "        raise Exception(text)\n",
    "    return _id"
   ]
  },
  {
   "cell_type": "code",
   "execution_count": null,
   "id": "b036987e-b802-4cb2-b409-b4ec10c631a5",
   "metadata": {},
   "outputs": [],
   "source": [
    "exceptions = {'divorce et sÃ©paration': 'divorce et séparation',\n",
    " 'what is intelÂ® vpro technology': 'what is intel® vpro technology',\n",
    " 'what is aÂ\\xa0shock wave': 'what is a shock wave',\n",
    " 'Germanyâ\\x80\\x99s perspective, the Treaty of Versailles was a fair settlement for its national interests': 'Germany’s perspective, the Treaty of Versailles was a fair settlement for its national interests',\n",
    " 'yesÃ¼n temÃ¼r khan emperor taiding of yuan': 'yesün temür khan emperor taiding of yuan',\n",
    " ' The vitamin that prevents beriberi is ': ' The vitamin that prevents beriberi is',\n",
    " ' phosphates as food ingredients ': ' phosphates as food ingredients',\n",
    " ' who invented the periodic table ': ' who invented the periodic table',\n",
    " 'what does bokmÃ¥l mean': 'what does bokmål mean',\n",
    " 'which action should youÂ\\xa0never take when selecting quotations': 'which action should you never take when selecting quotations',\n",
    " 'dermatitis, anemia, convulsions, depressions, and confusion are all signs of a vitamin _________Â\\xa0deficiency.': 'dermatitis anemia convulsions depressions and confusion are all signs of a vitamin _________ deficiency',\n",
    " ' In humans, the normal set point for body temperature is ': 'In humans the normal set point for body temperature is',\n",
    " 'what did you notice about the relationship between pressure and volume when the temperatureÂ\\xa0 is held constant?': 'what did you notice about the relationship between pressure and volume when the temperature  is held constant',\n",
    " 'the Â\\xa0____________Â\\xa0 that vibrates like a drum when sound waves hit.': 'the  ____________  that vibrates like a drum when sound waves hit',\n",
    " 'what is composition?Â\\xa0 why is composition important?': 'what is composition  why is composition important',\n",
    " 'the lithosphere consists of Â\\xa0____________': 'the lithosphere consists of  ____________',\n",
    " \"what is a 'cost engineer \": 'what is a cost engineer',\n",
    " 'A simple way to save with a competitive interest rate. Your Personal Savings account earns interest daily and is posted to your account monthly. You can easily set up recurring transfers from your current bank accounts to your Personal Savings account.â\\x80\\xa0. Just deposit your savings and watch it grow. Your Personal Savings account earns interest daily and is posted to your account monthly. You can easily set up recurring transfers from your current bank accounts to your Personal Savings account.â\\x80\\xa0. ': 'A simple way to save with a competitive interest rate. Your Personal Savings account earns interest daily and is posted to your account monthly. You can easily set up recurring transfers from your current bank accounts to your Personal Savings account.â\\x80\\xa0. Just deposit your savings and watch it grow. Your Personal Savings account earns interest daily and is posted to your account monthly. You can easily set up recurring transfers from your current bank accounts to your Personal Savings account.â\\x80\\xa0.',\n",
    " \"Islamic Laws are made up of Shari'ah ('â\\x80\\x8eØ´Ø±Ù\\x8aØ¹Ø© Å\\xa0arÄ«Ê¿ah) and Islamic jurisprudence (Ù\\x81Ù\\x82Ù\\x87â\\x80\\x8e Fiqh). Shari'ah is seen as sacred and constitutes the Qur'an and Prophet Muhammad 's Sunnah (way), which is found in the Hadith and Sira. Islamic jurisprudence is a complimentary expansion of the former by Islamic juris efinition [edit]. Islamic Laws are made up of Shari'ah ('â\\x80\\x8eØ´Ø±Ù\\x8aØ¹Ø© Å\\xa0arÄ«Ê¿ah) and Islamic jurisprudence (Ù\\x81Ù\\x82Ù\\x87â\\x80\\x8e Fiqh). Shari'ah is seen as sacred and constitutes the Qur'an and Prophet Muhammad 's Sunnah (way), which is found in the Hadith and Sir \": \"Islamic Laws are made up of Shari'ah ('â\\x80\\x8eØ´Ø±Ù\\x8aØ¹Ø© Å\\xa0arÄ«Ê¿ah) and Islamic jurisprudence (Ù\\x81Ù\\x82Ù\\x87â\\x80\\x8e Fiqh). Shari'ah is seen as sacred and constitutes the Qur'an and Prophet Muhammad 's Sunnah (way), which is found in the Hadith and Sira. Islamic jurisprudence is a complimentary expansion of the former by Islamic juris efinition [edit]. Islamic Laws are made up of Shari'ah ('â\\x80\\x8eØ´Ø±Ù\\x8aØ¹Ø© Å\\xa0arÄ«Ê¿ah) and Islamic jurisprudence (Ù\\x81Ù\\x82Ù\\x87â\\x80\\x8e Fiqh). Shari'ah is seen as sacred and constitutes the Qur'an and Prophet Muhammad 's Sunnah (way), which is found in the Hadith and Sir\",\n",
    " \"Definition [edit]. Islamic Laws are made up of Shari'ah ('â\\x80\\x8eØ´Ø±Ù\\x8aØ¹Ø© Å\\xa0arÄ«Ê¿ah) and Islamic jurisprudence (Ù\\x81Ù\\x82Ù\\x87â\\x80\\x8e Fiqh). Shari'ah is seen as sacred and constitutes the Qur'an and Prophet Muhammad 's Sunnah (way), which is found in the Hadith and Sir efinition [edit]. Islamic Laws are made up of Shari'ah ('â\\x80\\x8eØ´Ø±Ù\\x8aØ¹Ø© Å\\xa0arÄ«Ê¿ah) and Islamic jurisprudence (Ù\\x81Ù\\x82Ù\\x87â\\x80\\x8e Fiqh). Shari'ah is seen as sacred and constitutes the Qur'an and Prophet Muhammad 's Sunnah (way), which is found in the Hadith and Sir \": \"Definition [edit]. Islamic Laws are made up of Shari'ah ('â\\x80\\x8eØ´Ø±Ù\\x8aØ¹Ø© Å\\xa0arÄ«Ê¿ah) and Islamic jurisprudence (Ù\\x81Ù\\x82Ù\\x87â\\x80\\x8e Fiqh). Shari'ah is seen as sacred and constitutes the Qur'an and Prophet Muhammad 's Sunnah (way), which is found in the Hadith and Sir efinition [edit]. Islamic Laws are made up of Shari'ah ('â\\x80\\x8eØ´Ø±Ù\\x8aØ¹Ø© Å\\xa0arÄ«Ê¿ah) and Islamic jurisprudence (Ù\\x81Ù\\x82Ù\\x87â\\x80\\x8e Fiqh). Shari'ah is seen as sacred and constitutes the Qur'an and Prophet Muhammad 's Sunnah (way), which is found in the Hadith and Sir\"}"
   ]
  },
  {
   "cell_type": "code",
   "execution_count": null,
   "id": "2dbe9c35-bc7f-478f-a820-0f6a8e976e0c",
   "metadata": {
    "tags": []
   },
   "outputs": [
    {
     "data": {
      "application/vnd.jupyter.widget-view+json": {
       "model_id": "633d34783d8b4ddc8e9869a7c94fef16",
       "version_major": 2,
       "version_minor": 0
      },
      "text/plain": [
       "0it [00:00, ?it/s]"
      ]
     },
     "metadata": {},
     "output_type": "display_data"
    }
   ],
   "source": [
    "examples = []\n",
    "with open(param['triples'], encoding='utf-8') as f:\n",
    "    for line in tqdm(f):\n",
    "        q_str, p_str_p, p_str_n = line.strip('\\n').split('\\t')\n",
    "        qid = get_id(q_str, queries)\n",
    "        pid_p = get_id(p_str_p, collection)\n",
    "        pid_n = get_id(p_str_n, collection)\n",
    "        example = [qid, pid_p, pid_n]\n",
    "        examples.append(example)"
   ]
  },
  {
   "cell_type": "code",
   "execution_count": null,
   "id": "6b055dee-54c8-4c5a-8071-3f07f7239c00",
   "metadata": {},
   "outputs": [
    {
     "ename": "NameError",
     "evalue": "name 'self' is not defined",
     "output_type": "error",
     "traceback": [
      "\u001b[1;31m---------------------------------------------------------------------------\u001b[0m",
      "\u001b[1;31mNameError\u001b[0m                                 Traceback (most recent call last)",
      "Cell \u001b[1;32mIn [17], line 9\u001b[0m\n\u001b[0;32m      6\u001b[0m         f\u001b[38;5;241m.\u001b[39mwrite(\u001b[38;5;124m'\u001b[39m\u001b[38;5;130;01m\\n\u001b[39;00m\u001b[38;5;124m'\u001b[39m)\n\u001b[0;32m      8\u001b[0m output_path \u001b[38;5;241m=\u001b[39m f\u001b[38;5;241m.\u001b[39mname\n\u001b[1;32m----> 9\u001b[0m print_message(\u001b[38;5;124mf\u001b[39m\u001b[38;5;124m\"\u001b[39m\u001b[38;5;124m#> Saved examples with \u001b[39m\u001b[38;5;132;01m{\u001b[39;00m\u001b[38;5;28mlen\u001b[39m(\u001b[38;5;28mself\u001b[39m\u001b[38;5;241m.\u001b[39mdata)\u001b[38;5;132;01m}\u001b[39;00m\u001b[38;5;124m lines to \u001b[39m\u001b[38;5;132;01m{\u001b[39;00mf\u001b[38;5;241m.\u001b[39mname\u001b[38;5;132;01m}\u001b[39;00m\u001b[38;5;124m\"\u001b[39m)\n",
      "\u001b[1;31mNameError\u001b[0m: name 'self' is not defined"
     ]
    }
   ],
   "source": [
    "id_file = '../data/triples.train.small.id.json'\n",
    "    \n",
    "with open(id_file, 'w') as f:\n",
    "    for example in examples:\n",
    "        ujson.dump(example, f)\n",
    "        f.write('\\n')\n",
    "\n",
    "output_path = f.name\n",
    "print_message(f\"#> Saved examples with {len(self.data)} lines to {f.name}\")"
   ]
  },
  {
   "cell_type": "code",
   "execution_count": null,
   "id": "a7c9cf81-ebf7-41c3-9356-6c217e41c1d7",
   "metadata": {},
   "outputs": [],
   "source": [
    "id_file = '../data/triples.train.small.id.tsv'\n",
    "with open(id_file, 'r') as f:\n",
    "    id_examples = ujson.load(f)"
   ]
  },
  {
   "cell_type": "code",
   "execution_count": null,
   "id": "fd7df61b-8835-4f85-b23a-b6350be7f927",
   "metadata": {},
   "outputs": [],
   "source": [
    "len(id_examples)\n",
    "len(id_examples[0])"
   ]
  },
  {
   "cell_type": "code",
   "execution_count": null,
   "id": "10e1187d-c05b-495c-b796-98e35bffe2f3",
   "metadata": {},
   "outputs": [
    {
     "data": {
      "text/plain": [
       "[\"Islamic Laws are made up of Shari'ah ('â\\x80\\x8eØ´Ø±Ù\\x8aØ¹Ø© Å\\xa0arÄ«Ê¿ah) and Islamic jurisprudence (Ù\\x81Ù\\x82Ù\\x87â\\x80\\x8e Fiqh). Shari'ah is seen as sacred and constitutes the Qur'an and Prophet Muhammad 's Sunnah (way), which is found in the Hadith and Sira. Islamic jurisprudence is a complimentary expansion of the former by Islamic juris efinition [edit]. Islamic Laws are made up of Shari'ah ('â\\x80\\x8eØ´Ø±Ù\\x8aØ¹Ø© Å\\xa0arÄ«Ê¿ah) and Islamic jurisprudence (Ù\\x81Ù\\x82Ù\\x87â\\x80\\x8e Fiqh). Shari'ah is seen as sacred and constitutes the Qur'an and Prophet Muhammad 's Sunnah (way), which is found in the Hadith and Sir\",\n",
       " \"Definition [edit]. Islamic Laws are made up of Shari'ah ('â\\x80\\x8eØ´Ø±Ù\\x8aØ¹Ø© Å\\xa0arÄ«Ê¿ah) and Islamic jurisprudence (Ù\\x81Ù\\x82Ù\\x87â\\x80\\x8e Fiqh). Shari'ah is seen as sacred and constitutes the Qur'an and Prophet Muhammad 's Sunnah (way), which is found in the Hadith and Sir efinition [edit]. Islamic Laws are made up of Shari'ah ('â\\x80\\x8eØ´Ø±Ù\\x8aØ¹Ø© Å\\xa0arÄ«Ê¿ah) and Islamic jurisprudence (Ù\\x81Ù\\x82Ù\\x87â\\x80\\x8e Fiqh). Shari'ah is seen as sacred and constitutes the Qur'an and Prophet Muhammad 's Sunnah (way), which is found in the Hadith and Sir\"]"
      ]
     },
     "execution_count": 303,
     "metadata": {},
     "output_type": "execute_result"
    }
   ],
   "source": [
    "data = collection\n",
    "# data = queries\n",
    "qid = [k for k in data.keys() if \"lamic Laws are made up of Shar\" in k]\n",
    "qid"
   ]
  },
  {
   "cell_type": "code",
   "execution_count": 304,
   "id": "cf666a92-1378-4abf-b4f1-32e94a42e6c1",
   "metadata": {},
   "outputs": [
    {
     "data": {
      "text/plain": [
       "{'divorce et sÃ©paration': 'divorce et séparation',\n",
       " 'what is intelÂ® vpro technology': 'what is intel® vpro technology',\n",
       " 'what is aÂ\\xa0shock wave': 'what is a shock wave',\n",
       " 'Germanyâ\\x80\\x99s perspective, the Treaty of Versailles was a fair settlement for its national interests': 'Germany’s perspective, the Treaty of Versailles was a fair settlement for its national interests',\n",
       " 'yesÃ¼n temÃ¼r khan emperor taiding of yuan': 'yesün temür khan emperor taiding of yuan',\n",
       " ' The vitamin that prevents beriberi is ': ' The vitamin that prevents beriberi is',\n",
       " ' phosphates as food ingredients ': ' phosphates as food ingredients',\n",
       " ' who invented the periodic table ': ' who invented the periodic table',\n",
       " 'what does bokmÃ¥l mean': 'what does bokmål mean',\n",
       " 'which action should youÂ\\xa0never take when selecting quotations': 'which action should you never take when selecting quotations',\n",
       " 'dermatitis, anemia, convulsions, depressions, and confusion are all signs of a vitamin _________Â\\xa0deficiency.': 'dermatitis anemia convulsions depressions and confusion are all signs of a vitamin _________ deficiency',\n",
       " ' In humans, the normal set point for body temperature is ': 'In humans the normal set point for body temperature is',\n",
       " 'what did you notice about the relationship between pressure and volume when the temperatureÂ\\xa0 is held constant?': 'what did you notice about the relationship between pressure and volume when the temperature  is held constant',\n",
       " 'the Â\\xa0____________Â\\xa0 that vibrates like a drum when sound waves hit.': 'the  ____________  that vibrates like a drum when sound waves hit',\n",
       " 'what is composition?Â\\xa0 why is composition important?': 'what is composition  why is composition important',\n",
       " 'the lithosphere consists of Â\\xa0____________': 'the lithosphere consists of  ____________',\n",
       " \"what is a 'cost engineer \": 'what is a cost engineer',\n",
       " 'A simple way to save with a competitive interest rate. Your Personal Savings account earns interest daily and is posted to your account monthly. You can easily set up recurring transfers from your current bank accounts to your Personal Savings account.â\\x80\\xa0. Just deposit your savings and watch it grow. Your Personal Savings account earns interest daily and is posted to your account monthly. You can easily set up recurring transfers from your current bank accounts to your Personal Savings account.â\\x80\\xa0. ': 'A simple way to save with a competitive interest rate. Your Personal Savings account earns interest daily and is posted to your account monthly. You can easily set up recurring transfers from your current bank accounts to your Personal Savings account.â\\x80\\xa0. Just deposit your savings and watch it grow. Your Personal Savings account earns interest daily and is posted to your account monthly. You can easily set up recurring transfers from your current bank accounts to your Personal Savings account.â\\x80\\xa0.',\n",
       " \"Islamic Laws are made up of Shari'ah ('â\\x80\\x8eØ´Ø±Ù\\x8aØ¹Ø© Å\\xa0arÄ«Ê¿ah) and Islamic jurisprudence (Ù\\x81Ù\\x82Ù\\x87â\\x80\\x8e Fiqh). Shari'ah is seen as sacred and constitutes the Qur'an and Prophet Muhammad 's Sunnah (way), which is found in the Hadith and Sira. Islamic jurisprudence is a complimentary expansion of the former by Islamic juris efinition [edit]. Islamic Laws are made up of Shari'ah ('â\\x80\\x8eØ´Ø±Ù\\x8aØ¹Ø© Å\\xa0arÄ«Ê¿ah) and Islamic jurisprudence (Ù\\x81Ù\\x82Ù\\x87â\\x80\\x8e Fiqh). Shari'ah is seen as sacred and constitutes the Qur'an and Prophet Muhammad 's Sunnah (way), which is found in the Hadith and Sir \": \"Islamic Laws are made up of Shari'ah ('â\\x80\\x8eØ´Ø±Ù\\x8aØ¹Ø© Å\\xa0arÄ«Ê¿ah) and Islamic jurisprudence (Ù\\x81Ù\\x82Ù\\x87â\\x80\\x8e Fiqh). Shari'ah is seen as sacred and constitutes the Qur'an and Prophet Muhammad 's Sunnah (way), which is found in the Hadith and Sira. Islamic jurisprudence is a complimentary expansion of the former by Islamic juris efinition [edit]. Islamic Laws are made up of Shari'ah ('â\\x80\\x8eØ´Ø±Ù\\x8aØ¹Ø© Å\\xa0arÄ«Ê¿ah) and Islamic jurisprudence (Ù\\x81Ù\\x82Ù\\x87â\\x80\\x8e Fiqh). Shari'ah is seen as sacred and constitutes the Qur'an and Prophet Muhammad 's Sunnah (way), which is found in the Hadith and Sir\",\n",
       " \"Definition [edit]. Islamic Laws are made up of Shari'ah ('â\\x80\\x8eØ´Ø±Ù\\x8aØ¹Ø© Å\\xa0arÄ«Ê¿ah) and Islamic jurisprudence (Ù\\x81Ù\\x82Ù\\x87â\\x80\\x8e Fiqh). Shari'ah is seen as sacred and constitutes the Qur'an and Prophet Muhammad 's Sunnah (way), which is found in the Hadith and Sir efinition [edit]. Islamic Laws are made up of Shari'ah ('â\\x80\\x8eØ´Ø±Ù\\x8aØ¹Ø© Å\\xa0arÄ«Ê¿ah) and Islamic jurisprudence (Ù\\x81Ù\\x82Ù\\x87â\\x80\\x8e Fiqh). Shari'ah is seen as sacred and constitutes the Qur'an and Prophet Muhammad 's Sunnah (way), which is found in the Hadith and Sir \": \"Definition [edit]. Islamic Laws are made up of Shari'ah ('â\\x80\\x8eØ´Ø±Ù\\x8aØ¹Ø© Å\\xa0arÄ«Ê¿ah) and Islamic jurisprudence (Ù\\x81Ù\\x82Ù\\x87â\\x80\\x8e Fiqh). Shari'ah is seen as sacred and constitutes the Qur'an and Prophet Muhammad 's Sunnah (way), which is found in the Hadith and Sir efinition [edit]. Islamic Laws are made up of Shari'ah ('â\\x80\\x8eØ´Ø±Ù\\x8aØ¹Ø© Å\\xa0arÄ«Ê¿ah) and Islamic jurisprudence (Ù\\x81Ù\\x82Ù\\x87â\\x80\\x8e Fiqh). Shari'ah is seen as sacred and constitutes the Qur'an and Prophet Muhammad 's Sunnah (way), which is found in the Hadith and Sir\"}"
      ]
     },
     "execution_count": 304,
     "metadata": {},
     "output_type": "execute_result"
    }
   ],
   "source": [
    "exceptions = {**exceptions, **{p_str_n: qid[1]}}\n",
    "exceptions"
   ]
  }
 ],
 "metadata": {
  "kernelspec": {
   "display_name": "Python 3 (ipykernel)",
   "language": "python",
   "name": "python3"
  },
  "language_info": {
   "codemirror_mode": {
    "name": "ipython",
    "version": 3
   },
   "file_extension": ".py",
   "mimetype": "text/x-python",
   "name": "python",
   "nbconvert_exporter": "python",
   "pygments_lexer": "ipython3",
   "version": "3.9.13"
  }
 },
 "nbformat": 4,
 "nbformat_minor": 5
}
