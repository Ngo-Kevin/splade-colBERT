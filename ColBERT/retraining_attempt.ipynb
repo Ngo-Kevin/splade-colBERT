{
 "cells": [
  {
   "cell_type": "markdown",
   "id": "f3bfeab6-4c13-4461-b5cf-2077ac1d0155",
   "metadata": {},
   "source": [
    "# Training"
   ]
  },
  {
   "cell_type": "code",
   "execution_count": 1,
   "id": "0fb623ab-d2c2-41cb-827d-4a711b68a0cf",
   "metadata": {},
   "outputs": [],
   "source": [
    "from colbert.infra import Run, RunConfig, ColBERTConfig\n",
    "from colbert import Trainer"
   ]
  },
  {
   "cell_type": "code",
   "execution_count": 2,
   "id": "bd0957f2-0875-4c29-99ea-da153322fd82",
   "metadata": {},
   "outputs": [],
   "source": [
    "# bsize = batch size\n",
    "config = ColBERTConfig(\n",
    "        bsize=64,\n",
    "        root=r\"../retrain_colbert\",\n",
    "        nbits=2,\n",
    "    \n",
    "    )"
   ]
  },
  {
   "cell_type": "code",
   "execution_count": 3,
   "id": "7ab2d642-efbd-487c-9d50-d12b36ff7a79",
   "metadata": {},
   "outputs": [
    {
     "name": "stdout",
     "output_type": "stream",
     "text": [
      "#> Starting...\n",
      "#> Joined...\n",
      "Saved checkpoint to None...\n"
     ]
    }
   ],
   "source": [
    "# nranks = number of gpu\n",
    "with Run().context(RunConfig(nranks=1, experiment=\"msmarco\")):\n",
    "    trainer = Trainer(\n",
    "        triples= r\"../data/triples.train.small.id.json\",\n",
    "        queries= r\"../data/queries.train.tsv\",\n",
    "        collection= r\"../data/collection.tsv\",\n",
    "        config=config,\n",
    "    )\n",
    "\n",
    "    checkpoint_path = trainer.train()\n",
    "\n",
    "    print(f\"Saved checkpoint to {checkpoint_path}...\")"
   ]
  },
  {
   "cell_type": "code",
   "execution_count": null,
   "id": "2001cd55-7cf9-46a8-8c3c-632e581c8d21",
   "metadata": {},
   "outputs": [],
   "source": [
    "config"
   ]
  },
  {
   "cell_type": "markdown",
   "id": "df4a9c00-5745-46bc-9555-0979d1c011f6",
   "metadata": {
    "jp-MarkdownHeadingCollapsed": true,
    "tags": []
   },
   "source": [
    "#  Trying to Load Torch Extension"
   ]
  },
  {
   "cell_type": "code",
   "execution_count": 1,
   "id": "2d39c67d-4838-4fa7-9e39-ccb788075799",
   "metadata": {},
   "outputs": [],
   "source": [
    "from torch.utils.cpp_extension import load\n",
    "import os\n",
    "import pathlib"
   ]
  },
  {
   "cell_type": "code",
   "execution_count": 2,
   "id": "567119de-99c5-4dfb-b60a-7edc5b7dbf55",
   "metadata": {
    "tags": []
   },
   "outputs": [
    {
     "ename": "RuntimeError",
     "evalue": "Error building extension 'decompress_residuals_cpp': [1/2] C:\\Program Files\\NVIDIA GPU Computing Toolkit\\CUDA\\v11.6\\bin\\nvcc --generate-dependencies-with-compile --dependency-output decompress_residuals.cuda.o.d -Xcudafe --diag_suppress=dll_interface_conflict_dllexport_assumed -Xcudafe --diag_suppress=dll_interface_conflict_none_assumed -Xcudafe --diag_suppress=field_without_dll_interface -Xcudafe --diag_suppress=base_class_has_different_dll_interface -Xcompiler /EHsc -Xcompiler /wd4190 -Xcompiler /wd4018 -Xcompiler /wd4275 -Xcompiler /wd4267 -Xcompiler /wd4244 -Xcompiler /wd4251 -Xcompiler /wd4819 -Xcompiler /MD -DTORCH_EXTENSION_NAME=decompress_residuals_cpp -DTORCH_API_INCLUDE_EXTENSION_H -IC:\\Users\\Kevin\\miniconda3\\envs\\ir\\lib\\site-packages\\torch\\include -IC:\\Users\\Kevin\\miniconda3\\envs\\ir\\lib\\site-packages\\torch\\include\\torch\\csrc\\api\\include -IC:\\Users\\Kevin\\miniconda3\\envs\\ir\\lib\\site-packages\\torch\\include\\TH -IC:\\Users\\Kevin\\miniconda3\\envs\\ir\\lib\\site-packages\\torch\\include\\THC \"-IC:\\Program Files\\NVIDIA GPU Computing Toolkit\\CUDA\\v11.6\\include\" -IC:\\Users\\Kevin\\miniconda3\\envs\\ir\\Include -D_GLIBCXX_USE_CXX11_ABI=0 -D__CUDA_NO_HALF_OPERATORS__ -D__CUDA_NO_HALF_CONVERSIONS__ -D__CUDA_NO_BFLOAT16_CONVERSIONS__ -D__CUDA_NO_HALF2_OPERATORS__ --expt-relaxed-constexpr -gencode=arch=compute_86,code=compute_86 -gencode=arch=compute_86,code=sm_86 -c D:\\Documents\\Python_Scripts\\class\\UCB\\splade-colBERT\\ColBERT\\colbert\\indexing\\codecs\\decompress_residuals.cu -o decompress_residuals.cuda.o \r\nFAILED: decompress_residuals.cuda.o \r\nC:\\Program Files\\NVIDIA GPU Computing Toolkit\\CUDA\\v11.6\\bin\\nvcc --generate-dependencies-with-compile --dependency-output decompress_residuals.cuda.o.d -Xcudafe --diag_suppress=dll_interface_conflict_dllexport_assumed -Xcudafe --diag_suppress=dll_interface_conflict_none_assumed -Xcudafe --diag_suppress=field_without_dll_interface -Xcudafe --diag_suppress=base_class_has_different_dll_interface -Xcompiler /EHsc -Xcompiler /wd4190 -Xcompiler /wd4018 -Xcompiler /wd4275 -Xcompiler /wd4267 -Xcompiler /wd4244 -Xcompiler /wd4251 -Xcompiler /wd4819 -Xcompiler /MD -DTORCH_EXTENSION_NAME=decompress_residuals_cpp -DTORCH_API_INCLUDE_EXTENSION_H -IC:\\Users\\Kevin\\miniconda3\\envs\\ir\\lib\\site-packages\\torch\\include -IC:\\Users\\Kevin\\miniconda3\\envs\\ir\\lib\\site-packages\\torch\\include\\torch\\csrc\\api\\include -IC:\\Users\\Kevin\\miniconda3\\envs\\ir\\lib\\site-packages\\torch\\include\\TH -IC:\\Users\\Kevin\\miniconda3\\envs\\ir\\lib\\site-packages\\torch\\include\\THC \"-IC:\\Program Files\\NVIDIA GPU Computing Toolkit\\CUDA\\v11.6\\include\" -IC:\\Users\\Kevin\\miniconda3\\envs\\ir\\Include -D_GLIBCXX_USE_CXX11_ABI=0 -D__CUDA_NO_HALF_OPERATORS__ -D__CUDA_NO_HALF_CONVERSIONS__ -D__CUDA_NO_BFLOAT16_CONVERSIONS__ -D__CUDA_NO_HALF2_OPERATORS__ --expt-relaxed-constexpr -gencode=arch=compute_86,code=compute_86 -gencode=arch=compute_86,code=sm_86 -c D:\\Documents\\Python_Scripts\\class\\UCB\\splade-colBERT\\ColBERT\\colbert\\indexing\\codecs\\decompress_residuals.cu -o decompress_residuals.cuda.o \r\nC:/Users/Kevin/miniconda3/envs/ir/lib/site-packages/torch/include\\c10/macros/Macros.h(143): warning C4067: unexpected tokens following preprocessor directive - expected a newline\r\nC:/Users/Kevin/miniconda3/envs/ir/lib/site-packages/torch/include\\c10/macros/Macros.h(143): warning C4067: unexpected tokens following preprocessor directive - expected a newline\r\nC:/Users/Kevin/miniconda3/envs/ir/lib/site-packages/torch/include\\c10/core/SymInt.h(84): warning #68-D: integer conversion resulted in a change of sign\r\n\r\nC:\\Users\\Kevin\\miniconda3\\envs\\ir\\lib\\site-packages\\torch\\include\\pybind11\\cast.h(1429): error: too few arguments for template template parameter \"Tuple\"\r\n          detected during instantiation of class \"pybind11::detail::tuple_caster<Tuple, Ts...> [with Tuple=std::pair, Ts=<T1, T2>]\" \r\n(1507): here\r\n\r\nC:\\Users\\Kevin\\miniconda3\\envs\\ir\\lib\\site-packages\\torch\\include\\pybind11\\cast.h(1503): error: too few arguments for template template parameter \"Tuple\"\r\n          detected during instantiation of class \"pybind11::detail::tuple_caster<Tuple, Ts...> [with Tuple=std::pair, Ts=<T1, T2>]\" \r\n(1507): here\r\n\r\n2 errors detected in the compilation of \"D:/Documents/Python_Scripts/class/UCB/splade-colBERT/ColBERT/colbert/indexing/codecs/decompress_residuals.cu\".\r\ndecompress_residuals.cu\r\nninja: build stopped: subcommand failed.\r\n",
     "output_type": "error",
     "traceback": [
      "\u001b[1;31m---------------------------------------------------------------------------\u001b[0m",
      "\u001b[1;31mCalledProcessError\u001b[0m                        Traceback (most recent call last)",
      "File \u001b[1;32m~\\miniconda3\\envs\\ir\\lib\\site-packages\\torch\\utils\\cpp_extension.py:1808\u001b[0m, in \u001b[0;36m_run_ninja_build\u001b[1;34m(build_directory, verbose, error_prefix)\u001b[0m\n\u001b[0;32m   1807\u001b[0m     stdout_fileno \u001b[38;5;241m=\u001b[39m \u001b[38;5;241m1\u001b[39m\n\u001b[1;32m-> 1808\u001b[0m     \u001b[43msubprocess\u001b[49m\u001b[38;5;241;43m.\u001b[39;49m\u001b[43mrun\u001b[49m\u001b[43m(\u001b[49m\n\u001b[0;32m   1809\u001b[0m \u001b[43m        \u001b[49m\u001b[43mcommand\u001b[49m\u001b[43m,\u001b[49m\n\u001b[0;32m   1810\u001b[0m \u001b[43m        \u001b[49m\u001b[43mstdout\u001b[49m\u001b[38;5;241;43m=\u001b[39;49m\u001b[43mstdout_fileno\u001b[49m\u001b[43m \u001b[49m\u001b[38;5;28;43;01mif\u001b[39;49;00m\u001b[43m \u001b[49m\u001b[43mverbose\u001b[49m\u001b[43m \u001b[49m\u001b[38;5;28;43;01melse\u001b[39;49;00m\u001b[43m \u001b[49m\u001b[43msubprocess\u001b[49m\u001b[38;5;241;43m.\u001b[39;49m\u001b[43mPIPE\u001b[49m\u001b[43m,\u001b[49m\n\u001b[0;32m   1811\u001b[0m \u001b[43m        \u001b[49m\u001b[43mstderr\u001b[49m\u001b[38;5;241;43m=\u001b[39;49m\u001b[43msubprocess\u001b[49m\u001b[38;5;241;43m.\u001b[39;49m\u001b[43mSTDOUT\u001b[49m\u001b[43m,\u001b[49m\n\u001b[0;32m   1812\u001b[0m \u001b[43m        \u001b[49m\u001b[43mcwd\u001b[49m\u001b[38;5;241;43m=\u001b[39;49m\u001b[43mbuild_directory\u001b[49m\u001b[43m,\u001b[49m\n\u001b[0;32m   1813\u001b[0m \u001b[43m        \u001b[49m\u001b[43mcheck\u001b[49m\u001b[38;5;241;43m=\u001b[39;49m\u001b[38;5;28;43;01mTrue\u001b[39;49;00m\u001b[43m,\u001b[49m\n\u001b[0;32m   1814\u001b[0m \u001b[43m        \u001b[49m\u001b[43menv\u001b[49m\u001b[38;5;241;43m=\u001b[39;49m\u001b[43menv\u001b[49m\u001b[43m)\u001b[49m\n\u001b[0;32m   1815\u001b[0m \u001b[38;5;28;01mexcept\u001b[39;00m subprocess\u001b[38;5;241m.\u001b[39mCalledProcessError \u001b[38;5;28;01mas\u001b[39;00m e:\n\u001b[0;32m   1816\u001b[0m     \u001b[38;5;66;03m# Python 2 and 3 compatible way of getting the error object.\u001b[39;00m\n",
      "File \u001b[1;32m~\\miniconda3\\envs\\ir\\lib\\subprocess.py:528\u001b[0m, in \u001b[0;36mrun\u001b[1;34m(input, capture_output, timeout, check, *popenargs, **kwargs)\u001b[0m\n\u001b[0;32m    527\u001b[0m     \u001b[38;5;28;01mif\u001b[39;00m check \u001b[38;5;129;01mand\u001b[39;00m retcode:\n\u001b[1;32m--> 528\u001b[0m         \u001b[38;5;28;01mraise\u001b[39;00m CalledProcessError(retcode, process\u001b[38;5;241m.\u001b[39margs,\n\u001b[0;32m    529\u001b[0m                                  output\u001b[38;5;241m=\u001b[39mstdout, stderr\u001b[38;5;241m=\u001b[39mstderr)\n\u001b[0;32m    530\u001b[0m \u001b[38;5;28;01mreturn\u001b[39;00m CompletedProcess(process\u001b[38;5;241m.\u001b[39margs, retcode, stdout, stderr)\n",
      "\u001b[1;31mCalledProcessError\u001b[0m: Command '['ninja', '-v']' returned non-zero exit status 1.",
      "\nThe above exception was the direct cause of the following exception:\n",
      "\u001b[1;31mRuntimeError\u001b[0m                              Traceback (most recent call last)",
      "Cell \u001b[1;32mIn [2], line 1\u001b[0m\n\u001b[1;32m----> 1\u001b[0m decompress_residuals_cpp \u001b[38;5;241m=\u001b[39m \u001b[43mload\u001b[49m\u001b[43m(\u001b[49m\n\u001b[0;32m      2\u001b[0m \u001b[43m    \u001b[49m\u001b[43mname\u001b[49m\u001b[38;5;241;43m=\u001b[39;49m\u001b[38;5;124;43m\"\u001b[39;49m\u001b[38;5;124;43mdecompress_residuals_cpp\u001b[39;49m\u001b[38;5;124;43m\"\u001b[39;49m\u001b[43m,\u001b[49m\n\u001b[0;32m      3\u001b[0m \u001b[43m    \u001b[49m\u001b[43msources\u001b[49m\u001b[38;5;241;43m=\u001b[39;49m\u001b[43m[\u001b[49m\n\u001b[0;32m      4\u001b[0m \u001b[43m        \u001b[49m\u001b[38;5;124;43mr\u001b[39;49m\u001b[38;5;124;43m'\u001b[39;49m\u001b[38;5;124;43mD:\u001b[39;49m\u001b[38;5;124;43m\\\u001b[39;49m\u001b[38;5;124;43mDocuments\u001b[39;49m\u001b[38;5;124;43m\\\u001b[39;49m\u001b[38;5;124;43mPython_Scripts\u001b[39;49m\u001b[38;5;124;43m\\\u001b[39;49m\u001b[38;5;124;43mclass\u001b[39;49m\u001b[38;5;124;43m\\\u001b[39;49m\u001b[38;5;124;43mUCB\u001b[39;49m\u001b[38;5;124;43m\\\u001b[39;49m\u001b[38;5;124;43msplade-colBERT\u001b[39;49m\u001b[38;5;124;43m\\\u001b[39;49m\u001b[38;5;124;43mColBERT\u001b[39;49m\u001b[38;5;124;43m\\\u001b[39;49m\u001b[38;5;124;43mcolbert\u001b[39;49m\u001b[38;5;124;43m\\\u001b[39;49m\u001b[38;5;124;43mindexing\u001b[39;49m\u001b[38;5;124;43m\\\u001b[39;49m\u001b[38;5;124;43mcodecs\u001b[39;49m\u001b[38;5;124;43m\\\u001b[39;49m\u001b[38;5;124;43mdecompress_residuals.cpp\u001b[39;49m\u001b[38;5;124;43m'\u001b[39;49m\u001b[43m,\u001b[49m\n\u001b[0;32m      5\u001b[0m \u001b[43m        \u001b[49m\u001b[38;5;124;43mr\u001b[39;49m\u001b[38;5;124;43m\"\u001b[39;49m\u001b[38;5;124;43mD:\u001b[39;49m\u001b[38;5;124;43m\\\u001b[39;49m\u001b[38;5;124;43mDocuments\u001b[39;49m\u001b[38;5;124;43m\\\u001b[39;49m\u001b[38;5;124;43mPython_Scripts\u001b[39;49m\u001b[38;5;124;43m\\\u001b[39;49m\u001b[38;5;124;43mclass\u001b[39;49m\u001b[38;5;124;43m\\\u001b[39;49m\u001b[38;5;124;43mUCB\u001b[39;49m\u001b[38;5;124;43m\\\u001b[39;49m\u001b[38;5;124;43msplade-colBERT\u001b[39;49m\u001b[38;5;124;43m\\\u001b[39;49m\u001b[38;5;124;43mColBERT\u001b[39;49m\u001b[38;5;124;43m\\\u001b[39;49m\u001b[38;5;124;43mcolbert\u001b[39;49m\u001b[38;5;124;43m\\\u001b[39;49m\u001b[38;5;124;43mindexing\u001b[39;49m\u001b[38;5;124;43m\\\u001b[39;49m\u001b[38;5;124;43mcodecs\u001b[39;49m\u001b[38;5;124;43m\\\u001b[39;49m\u001b[38;5;124;43mdecompress_residuals.cu\u001b[39;49m\u001b[38;5;124;43m\"\u001b[39;49m\u001b[43m,\u001b[49m\n\u001b[0;32m      6\u001b[0m \u001b[43m    \u001b[49m\u001b[43m]\u001b[49m\u001b[43m,\u001b[49m\n\u001b[0;32m      7\u001b[0m \u001b[43m    \u001b[49m\u001b[43mverbose\u001b[49m\u001b[38;5;241;43m=\u001b[39;49m\u001b[38;5;28;43;01mFalse\u001b[39;49;00m\u001b[43m,\u001b[49m\n\u001b[0;32m      8\u001b[0m \u001b[43m)\u001b[49m\n\u001b[0;32m      9\u001b[0m \u001b[38;5;28mcls\u001b[39m\u001b[38;5;241m.\u001b[39mdecompress_residuals \u001b[38;5;241m=\u001b[39m decompress_residuals_cpp\u001b[38;5;241m.\u001b[39mdecompress_residuals_cpp\n",
      "File \u001b[1;32m~\\miniconda3\\envs\\ir\\lib\\site-packages\\torch\\utils\\cpp_extension.py:1202\u001b[0m, in \u001b[0;36mload\u001b[1;34m(name, sources, extra_cflags, extra_cuda_cflags, extra_ldflags, extra_include_paths, build_directory, verbose, with_cuda, is_python_module, is_standalone, keep_intermediates)\u001b[0m\n\u001b[0;32m   1111\u001b[0m \u001b[38;5;28;01mdef\u001b[39;00m \u001b[38;5;21mload\u001b[39m(name,\n\u001b[0;32m   1112\u001b[0m          sources: Union[\u001b[38;5;28mstr\u001b[39m, List[\u001b[38;5;28mstr\u001b[39m]],\n\u001b[0;32m   1113\u001b[0m          extra_cflags\u001b[38;5;241m=\u001b[39m\u001b[38;5;28;01mNone\u001b[39;00m,\n\u001b[1;32m   (...)\u001b[0m\n\u001b[0;32m   1121\u001b[0m          is_standalone\u001b[38;5;241m=\u001b[39m\u001b[38;5;28;01mFalse\u001b[39;00m,\n\u001b[0;32m   1122\u001b[0m          keep_intermediates\u001b[38;5;241m=\u001b[39m\u001b[38;5;28;01mTrue\u001b[39;00m):\n\u001b[0;32m   1123\u001b[0m     \u001b[38;5;124mr\u001b[39m\u001b[38;5;124;03m'''\u001b[39;00m\n\u001b[0;32m   1124\u001b[0m \u001b[38;5;124;03m    Loads a PyTorch C++ extension just-in-time (JIT).\u001b[39;00m\n\u001b[0;32m   1125\u001b[0m \n\u001b[1;32m   (...)\u001b[0m\n\u001b[0;32m   1200\u001b[0m \u001b[38;5;124;03m                verbose=True)\u001b[39;00m\n\u001b[0;32m   1201\u001b[0m \u001b[38;5;124;03m    '''\u001b[39;00m\n\u001b[1;32m-> 1202\u001b[0m     \u001b[38;5;28;01mreturn\u001b[39;00m \u001b[43m_jit_compile\u001b[49m\u001b[43m(\u001b[49m\n\u001b[0;32m   1203\u001b[0m \u001b[43m        \u001b[49m\u001b[43mname\u001b[49m\u001b[43m,\u001b[49m\n\u001b[0;32m   1204\u001b[0m \u001b[43m        \u001b[49m\u001b[43m[\u001b[49m\u001b[43msources\u001b[49m\u001b[43m]\u001b[49m\u001b[43m \u001b[49m\u001b[38;5;28;43;01mif\u001b[39;49;00m\u001b[43m \u001b[49m\u001b[38;5;28;43misinstance\u001b[39;49m\u001b[43m(\u001b[49m\u001b[43msources\u001b[49m\u001b[43m,\u001b[49m\u001b[43m \u001b[49m\u001b[38;5;28;43mstr\u001b[39;49m\u001b[43m)\u001b[49m\u001b[43m \u001b[49m\u001b[38;5;28;43;01melse\u001b[39;49;00m\u001b[43m \u001b[49m\u001b[43msources\u001b[49m\u001b[43m,\u001b[49m\n\u001b[0;32m   1205\u001b[0m \u001b[43m        \u001b[49m\u001b[43mextra_cflags\u001b[49m\u001b[43m,\u001b[49m\n\u001b[0;32m   1206\u001b[0m \u001b[43m        \u001b[49m\u001b[43mextra_cuda_cflags\u001b[49m\u001b[43m,\u001b[49m\n\u001b[0;32m   1207\u001b[0m \u001b[43m        \u001b[49m\u001b[43mextra_ldflags\u001b[49m\u001b[43m,\u001b[49m\n\u001b[0;32m   1208\u001b[0m \u001b[43m        \u001b[49m\u001b[43mextra_include_paths\u001b[49m\u001b[43m,\u001b[49m\n\u001b[0;32m   1209\u001b[0m \u001b[43m        \u001b[49m\u001b[43mbuild_directory\u001b[49m\u001b[43m \u001b[49m\u001b[38;5;129;43;01mor\u001b[39;49;00m\u001b[43m \u001b[49m\u001b[43m_get_build_directory\u001b[49m\u001b[43m(\u001b[49m\u001b[43mname\u001b[49m\u001b[43m,\u001b[49m\u001b[43m \u001b[49m\u001b[43mverbose\u001b[49m\u001b[43m)\u001b[49m\u001b[43m,\u001b[49m\n\u001b[0;32m   1210\u001b[0m \u001b[43m        \u001b[49m\u001b[43mverbose\u001b[49m\u001b[43m,\u001b[49m\n\u001b[0;32m   1211\u001b[0m \u001b[43m        \u001b[49m\u001b[43mwith_cuda\u001b[49m\u001b[43m,\u001b[49m\n\u001b[0;32m   1212\u001b[0m \u001b[43m        \u001b[49m\u001b[43mis_python_module\u001b[49m\u001b[43m,\u001b[49m\n\u001b[0;32m   1213\u001b[0m \u001b[43m        \u001b[49m\u001b[43mis_standalone\u001b[49m\u001b[43m,\u001b[49m\n\u001b[0;32m   1214\u001b[0m \u001b[43m        \u001b[49m\u001b[43mkeep_intermediates\u001b[49m\u001b[38;5;241;43m=\u001b[39;49m\u001b[43mkeep_intermediates\u001b[49m\u001b[43m)\u001b[49m\n",
      "File \u001b[1;32m~\\miniconda3\\envs\\ir\\lib\\site-packages\\torch\\utils\\cpp_extension.py:1425\u001b[0m, in \u001b[0;36m_jit_compile\u001b[1;34m(name, sources, extra_cflags, extra_cuda_cflags, extra_ldflags, extra_include_paths, build_directory, verbose, with_cuda, is_python_module, is_standalone, keep_intermediates)\u001b[0m\n\u001b[0;32m   1421\u001b[0m                 hipified_sources\u001b[38;5;241m.\u001b[39madd(hipify_result[s_abs][\u001b[38;5;124m\"\u001b[39m\u001b[38;5;124mhipified_path\u001b[39m\u001b[38;5;124m\"\u001b[39m] \u001b[38;5;28;01mif\u001b[39;00m s_abs \u001b[38;5;129;01min\u001b[39;00m hipify_result \u001b[38;5;28;01melse\u001b[39;00m s_abs)\n\u001b[0;32m   1423\u001b[0m             sources \u001b[38;5;241m=\u001b[39m \u001b[38;5;28mlist\u001b[39m(hipified_sources)\n\u001b[1;32m-> 1425\u001b[0m         \u001b[43m_write_ninja_file_and_build_library\u001b[49m\u001b[43m(\u001b[49m\n\u001b[0;32m   1426\u001b[0m \u001b[43m            \u001b[49m\u001b[43mname\u001b[49m\u001b[38;5;241;43m=\u001b[39;49m\u001b[43mname\u001b[49m\u001b[43m,\u001b[49m\n\u001b[0;32m   1427\u001b[0m \u001b[43m            \u001b[49m\u001b[43msources\u001b[49m\u001b[38;5;241;43m=\u001b[39;49m\u001b[43msources\u001b[49m\u001b[43m,\u001b[49m\n\u001b[0;32m   1428\u001b[0m \u001b[43m            \u001b[49m\u001b[43mextra_cflags\u001b[49m\u001b[38;5;241;43m=\u001b[39;49m\u001b[43mextra_cflags\u001b[49m\u001b[43m \u001b[49m\u001b[38;5;129;43;01mor\u001b[39;49;00m\u001b[43m \u001b[49m\u001b[43m[\u001b[49m\u001b[43m]\u001b[49m\u001b[43m,\u001b[49m\n\u001b[0;32m   1429\u001b[0m \u001b[43m            \u001b[49m\u001b[43mextra_cuda_cflags\u001b[49m\u001b[38;5;241;43m=\u001b[39;49m\u001b[43mextra_cuda_cflags\u001b[49m\u001b[43m \u001b[49m\u001b[38;5;129;43;01mor\u001b[39;49;00m\u001b[43m \u001b[49m\u001b[43m[\u001b[49m\u001b[43m]\u001b[49m\u001b[43m,\u001b[49m\n\u001b[0;32m   1430\u001b[0m \u001b[43m            \u001b[49m\u001b[43mextra_ldflags\u001b[49m\u001b[38;5;241;43m=\u001b[39;49m\u001b[43mextra_ldflags\u001b[49m\u001b[43m \u001b[49m\u001b[38;5;129;43;01mor\u001b[39;49;00m\u001b[43m \u001b[49m\u001b[43m[\u001b[49m\u001b[43m]\u001b[49m\u001b[43m,\u001b[49m\n\u001b[0;32m   1431\u001b[0m \u001b[43m            \u001b[49m\u001b[43mextra_include_paths\u001b[49m\u001b[38;5;241;43m=\u001b[39;49m\u001b[43mextra_include_paths\u001b[49m\u001b[43m \u001b[49m\u001b[38;5;129;43;01mor\u001b[39;49;00m\u001b[43m \u001b[49m\u001b[43m[\u001b[49m\u001b[43m]\u001b[49m\u001b[43m,\u001b[49m\n\u001b[0;32m   1432\u001b[0m \u001b[43m            \u001b[49m\u001b[43mbuild_directory\u001b[49m\u001b[38;5;241;43m=\u001b[39;49m\u001b[43mbuild_directory\u001b[49m\u001b[43m,\u001b[49m\n\u001b[0;32m   1433\u001b[0m \u001b[43m            \u001b[49m\u001b[43mverbose\u001b[49m\u001b[38;5;241;43m=\u001b[39;49m\u001b[43mverbose\u001b[49m\u001b[43m,\u001b[49m\n\u001b[0;32m   1434\u001b[0m \u001b[43m            \u001b[49m\u001b[43mwith_cuda\u001b[49m\u001b[38;5;241;43m=\u001b[39;49m\u001b[43mwith_cuda\u001b[49m\u001b[43m,\u001b[49m\n\u001b[0;32m   1435\u001b[0m \u001b[43m            \u001b[49m\u001b[43mis_standalone\u001b[49m\u001b[38;5;241;43m=\u001b[39;49m\u001b[43mis_standalone\u001b[49m\u001b[43m)\u001b[49m\n\u001b[0;32m   1436\u001b[0m \u001b[38;5;28;01mfinally\u001b[39;00m:\n\u001b[0;32m   1437\u001b[0m     baton\u001b[38;5;241m.\u001b[39mrelease()\n",
      "File \u001b[1;32m~\\miniconda3\\envs\\ir\\lib\\site-packages\\torch\\utils\\cpp_extension.py:1537\u001b[0m, in \u001b[0;36m_write_ninja_file_and_build_library\u001b[1;34m(name, sources, extra_cflags, extra_cuda_cflags, extra_ldflags, extra_include_paths, build_directory, verbose, with_cuda, is_standalone)\u001b[0m\n\u001b[0;32m   1535\u001b[0m \u001b[38;5;28;01mif\u001b[39;00m verbose:\n\u001b[0;32m   1536\u001b[0m     \u001b[38;5;28mprint\u001b[39m(\u001b[38;5;124mf\u001b[39m\u001b[38;5;124m'\u001b[39m\u001b[38;5;124mBuilding extension module \u001b[39m\u001b[38;5;132;01m{\u001b[39;00mname\u001b[38;5;132;01m}\u001b[39;00m\u001b[38;5;124m...\u001b[39m\u001b[38;5;124m'\u001b[39m)\n\u001b[1;32m-> 1537\u001b[0m \u001b[43m_run_ninja_build\u001b[49m\u001b[43m(\u001b[49m\n\u001b[0;32m   1538\u001b[0m \u001b[43m    \u001b[49m\u001b[43mbuild_directory\u001b[49m\u001b[43m,\u001b[49m\n\u001b[0;32m   1539\u001b[0m \u001b[43m    \u001b[49m\u001b[43mverbose\u001b[49m\u001b[43m,\u001b[49m\n\u001b[0;32m   1540\u001b[0m \u001b[43m    \u001b[49m\u001b[43merror_prefix\u001b[49m\u001b[38;5;241;43m=\u001b[39;49m\u001b[38;5;124;43mf\u001b[39;49m\u001b[38;5;124;43m\"\u001b[39;49m\u001b[38;5;124;43mError building extension \u001b[39;49m\u001b[38;5;124;43m'\u001b[39;49m\u001b[38;5;132;43;01m{\u001b[39;49;00m\u001b[43mname\u001b[49m\u001b[38;5;132;43;01m}\u001b[39;49;00m\u001b[38;5;124;43m'\u001b[39;49m\u001b[38;5;124;43m\"\u001b[39;49m\u001b[43m)\u001b[49m\n",
      "File \u001b[1;32m~\\miniconda3\\envs\\ir\\lib\\site-packages\\torch\\utils\\cpp_extension.py:1824\u001b[0m, in \u001b[0;36m_run_ninja_build\u001b[1;34m(build_directory, verbose, error_prefix)\u001b[0m\n\u001b[0;32m   1822\u001b[0m \u001b[38;5;28;01mif\u001b[39;00m \u001b[38;5;28mhasattr\u001b[39m(error, \u001b[38;5;124m'\u001b[39m\u001b[38;5;124moutput\u001b[39m\u001b[38;5;124m'\u001b[39m) \u001b[38;5;129;01mand\u001b[39;00m error\u001b[38;5;241m.\u001b[39moutput:  \u001b[38;5;66;03m# type: ignore[union-attr]\u001b[39;00m\n\u001b[0;32m   1823\u001b[0m     message \u001b[38;5;241m+\u001b[39m\u001b[38;5;241m=\u001b[39m \u001b[38;5;124mf\u001b[39m\u001b[38;5;124m\"\u001b[39m\u001b[38;5;124m: \u001b[39m\u001b[38;5;132;01m{\u001b[39;00merror\u001b[38;5;241m.\u001b[39moutput\u001b[38;5;241m.\u001b[39mdecode(\u001b[38;5;241m*\u001b[39mSUBPROCESS_DECODE_ARGS)\u001b[38;5;132;01m}\u001b[39;00m\u001b[38;5;124m\"\u001b[39m  \u001b[38;5;66;03m# type: ignore[union-attr]\u001b[39;00m\n\u001b[1;32m-> 1824\u001b[0m \u001b[38;5;28;01mraise\u001b[39;00m \u001b[38;5;167;01mRuntimeError\u001b[39;00m(message) \u001b[38;5;28;01mfrom\u001b[39;00m \u001b[38;5;21;01me\u001b[39;00m\n",
      "\u001b[1;31mRuntimeError\u001b[0m: Error building extension 'decompress_residuals_cpp': [1/2] C:\\Program Files\\NVIDIA GPU Computing Toolkit\\CUDA\\v11.6\\bin\\nvcc --generate-dependencies-with-compile --dependency-output decompress_residuals.cuda.o.d -Xcudafe --diag_suppress=dll_interface_conflict_dllexport_assumed -Xcudafe --diag_suppress=dll_interface_conflict_none_assumed -Xcudafe --diag_suppress=field_without_dll_interface -Xcudafe --diag_suppress=base_class_has_different_dll_interface -Xcompiler /EHsc -Xcompiler /wd4190 -Xcompiler /wd4018 -Xcompiler /wd4275 -Xcompiler /wd4267 -Xcompiler /wd4244 -Xcompiler /wd4251 -Xcompiler /wd4819 -Xcompiler /MD -DTORCH_EXTENSION_NAME=decompress_residuals_cpp -DTORCH_API_INCLUDE_EXTENSION_H -IC:\\Users\\Kevin\\miniconda3\\envs\\ir\\lib\\site-packages\\torch\\include -IC:\\Users\\Kevin\\miniconda3\\envs\\ir\\lib\\site-packages\\torch\\include\\torch\\csrc\\api\\include -IC:\\Users\\Kevin\\miniconda3\\envs\\ir\\lib\\site-packages\\torch\\include\\TH -IC:\\Users\\Kevin\\miniconda3\\envs\\ir\\lib\\site-packages\\torch\\include\\THC \"-IC:\\Program Files\\NVIDIA GPU Computing Toolkit\\CUDA\\v11.6\\include\" -IC:\\Users\\Kevin\\miniconda3\\envs\\ir\\Include -D_GLIBCXX_USE_CXX11_ABI=0 -D__CUDA_NO_HALF_OPERATORS__ -D__CUDA_NO_HALF_CONVERSIONS__ -D__CUDA_NO_BFLOAT16_CONVERSIONS__ -D__CUDA_NO_HALF2_OPERATORS__ --expt-relaxed-constexpr -gencode=arch=compute_86,code=compute_86 -gencode=arch=compute_86,code=sm_86 -c D:\\Documents\\Python_Scripts\\class\\UCB\\splade-colBERT\\ColBERT\\colbert\\indexing\\codecs\\decompress_residuals.cu -o decompress_residuals.cuda.o \r\nFAILED: decompress_residuals.cuda.o \r\nC:\\Program Files\\NVIDIA GPU Computing Toolkit\\CUDA\\v11.6\\bin\\nvcc --generate-dependencies-with-compile --dependency-output decompress_residuals.cuda.o.d -Xcudafe --diag_suppress=dll_interface_conflict_dllexport_assumed -Xcudafe --diag_suppress=dll_interface_conflict_none_assumed -Xcudafe --diag_suppress=field_without_dll_interface -Xcudafe --diag_suppress=base_class_has_different_dll_interface -Xcompiler /EHsc -Xcompiler /wd4190 -Xcompiler /wd4018 -Xcompiler /wd4275 -Xcompiler /wd4267 -Xcompiler /wd4244 -Xcompiler /wd4251 -Xcompiler /wd4819 -Xcompiler /MD -DTORCH_EXTENSION_NAME=decompress_residuals_cpp -DTORCH_API_INCLUDE_EXTENSION_H -IC:\\Users\\Kevin\\miniconda3\\envs\\ir\\lib\\site-packages\\torch\\include -IC:\\Users\\Kevin\\miniconda3\\envs\\ir\\lib\\site-packages\\torch\\include\\torch\\csrc\\api\\include -IC:\\Users\\Kevin\\miniconda3\\envs\\ir\\lib\\site-packages\\torch\\include\\TH -IC:\\Users\\Kevin\\miniconda3\\envs\\ir\\lib\\site-packages\\torch\\include\\THC \"-IC:\\Program Files\\NVIDIA GPU Computing Toolkit\\CUDA\\v11.6\\include\" -IC:\\Users\\Kevin\\miniconda3\\envs\\ir\\Include -D_GLIBCXX_USE_CXX11_ABI=0 -D__CUDA_NO_HALF_OPERATORS__ -D__CUDA_NO_HALF_CONVERSIONS__ -D__CUDA_NO_BFLOAT16_CONVERSIONS__ -D__CUDA_NO_HALF2_OPERATORS__ --expt-relaxed-constexpr -gencode=arch=compute_86,code=compute_86 -gencode=arch=compute_86,code=sm_86 -c D:\\Documents\\Python_Scripts\\class\\UCB\\splade-colBERT\\ColBERT\\colbert\\indexing\\codecs\\decompress_residuals.cu -o decompress_residuals.cuda.o \r\nC:/Users/Kevin/miniconda3/envs/ir/lib/site-packages/torch/include\\c10/macros/Macros.h(143): warning C4067: unexpected tokens following preprocessor directive - expected a newline\r\nC:/Users/Kevin/miniconda3/envs/ir/lib/site-packages/torch/include\\c10/macros/Macros.h(143): warning C4067: unexpected tokens following preprocessor directive - expected a newline\r\nC:/Users/Kevin/miniconda3/envs/ir/lib/site-packages/torch/include\\c10/core/SymInt.h(84): warning #68-D: integer conversion resulted in a change of sign\r\n\r\nC:\\Users\\Kevin\\miniconda3\\envs\\ir\\lib\\site-packages\\torch\\include\\pybind11\\cast.h(1429): error: too few arguments for template template parameter \"Tuple\"\r\n          detected during instantiation of class \"pybind11::detail::tuple_caster<Tuple, Ts...> [with Tuple=std::pair, Ts=<T1, T2>]\" \r\n(1507): here\r\n\r\nC:\\Users\\Kevin\\miniconda3\\envs\\ir\\lib\\site-packages\\torch\\include\\pybind11\\cast.h(1503): error: too few arguments for template template parameter \"Tuple\"\r\n          detected during instantiation of class \"pybind11::detail::tuple_caster<Tuple, Ts...> [with Tuple=std::pair, Ts=<T1, T2>]\" \r\n(1507): here\r\n\r\n2 errors detected in the compilation of \"D:/Documents/Python_Scripts/class/UCB/splade-colBERT/ColBERT/colbert/indexing/codecs/decompress_residuals.cu\".\r\ndecompress_residuals.cu\r\nninja: build stopped: subcommand failed.\r\n"
     ]
    }
   ],
   "source": [
    "decompress_residuals_cpp = load(\n",
    "    name=\"decompress_residuals_cpp\",\n",
    "    sources=[\n",
    "        r'D:\\Documents\\Python_Scripts\\class\\UCB\\splade-colBERT\\ColBERT\\colbert\\indexing\\codecs\\decompress_residuals.cpp',\n",
    "        r\"D:\\Documents\\Python_Scripts\\class\\UCB\\splade-colBERT\\ColBERT\\colbert\\indexing\\codecs\\decompress_residuals.cu\",\n",
    "    ],\n",
    "    verbose=False,\n",
    ")\n",
    "cls.decompress_residuals = decompress_residuals_cpp.decompress_residuals_cpp"
   ]
  },
  {
   "cell_type": "code",
   "execution_count": 4,
   "id": "d0bd2a36-4882-4bb8-9aa0-4c2a276d3ff2",
   "metadata": {},
   "outputs": [
    {
     "ename": "ImportError",
     "evalue": "DLL load failed while importing packbits_cpp: The specified module could not be found.",
     "output_type": "error",
     "traceback": [
      "\u001b[1;31m---------------------------------------------------------------------------\u001b[0m",
      "\u001b[1;31mImportError\u001b[0m                               Traceback (most recent call last)",
      "Cell \u001b[1;32mIn [4], line 1\u001b[0m\n\u001b[1;32m----> 1\u001b[0m packbits_cpp \u001b[38;5;241m=\u001b[39m \u001b[43mload\u001b[49m\u001b[43m(\u001b[49m\n\u001b[0;32m      2\u001b[0m \u001b[43m    \u001b[49m\u001b[43mname\u001b[49m\u001b[38;5;241;43m=\u001b[39;49m\u001b[38;5;124;43m\"\u001b[39;49m\u001b[38;5;124;43mpackbits_cpp\u001b[39;49m\u001b[38;5;124;43m\"\u001b[39;49m\u001b[43m,\u001b[49m\n\u001b[0;32m      3\u001b[0m \u001b[43m    \u001b[49m\u001b[43msources\u001b[49m\u001b[38;5;241;43m=\u001b[39;49m\u001b[43m[\u001b[49m\n\u001b[0;32m      4\u001b[0m \u001b[43m        \u001b[49m\u001b[38;5;124;43mr\u001b[39;49m\u001b[38;5;124;43m'\u001b[39;49m\u001b[38;5;124;43mD:\u001b[39;49m\u001b[38;5;124;43m\\\u001b[39;49m\u001b[38;5;124;43mDocuments\u001b[39;49m\u001b[38;5;124;43m\\\u001b[39;49m\u001b[38;5;124;43mPython_Scripts\u001b[39;49m\u001b[38;5;124;43m\\\u001b[39;49m\u001b[38;5;124;43mclass\u001b[39;49m\u001b[38;5;124;43m\\\u001b[39;49m\u001b[38;5;124;43mUCB\u001b[39;49m\u001b[38;5;124;43m\\\u001b[39;49m\u001b[38;5;124;43msplade-colBERT\u001b[39;49m\u001b[38;5;124;43m\\\u001b[39;49m\u001b[38;5;124;43mColBERT\u001b[39;49m\u001b[38;5;124;43m\\\u001b[39;49m\u001b[38;5;124;43mcolbert\u001b[39;49m\u001b[38;5;124;43m\\\u001b[39;49m\u001b[38;5;124;43mindexing\u001b[39;49m\u001b[38;5;124;43m\\\u001b[39;49m\u001b[38;5;124;43mcodecs\u001b[39;49m\u001b[38;5;124;43m\\\u001b[39;49m\u001b[38;5;124;43mpackbits.cpp\u001b[39;49m\u001b[38;5;124;43m'\u001b[39;49m\u001b[43m,\u001b[49m\n\u001b[0;32m      5\u001b[0m \u001b[43m        \u001b[49m\u001b[38;5;124;43mr\u001b[39;49m\u001b[38;5;124;43m'\u001b[39;49m\u001b[38;5;124;43mD:\u001b[39;49m\u001b[38;5;124;43m\\\u001b[39;49m\u001b[38;5;124;43mDocuments\u001b[39;49m\u001b[38;5;124;43m\\\u001b[39;49m\u001b[38;5;124;43mPython_Scripts\u001b[39;49m\u001b[38;5;124;43m\\\u001b[39;49m\u001b[38;5;124;43mclass\u001b[39;49m\u001b[38;5;124;43m\\\u001b[39;49m\u001b[38;5;124;43mUCB\u001b[39;49m\u001b[38;5;124;43m\\\u001b[39;49m\u001b[38;5;124;43msplade-colBERT\u001b[39;49m\u001b[38;5;124;43m\\\u001b[39;49m\u001b[38;5;124;43mColBERT\u001b[39;49m\u001b[38;5;124;43m\\\u001b[39;49m\u001b[38;5;124;43mcolbert\u001b[39;49m\u001b[38;5;124;43m\\\u001b[39;49m\u001b[38;5;124;43mindexing\u001b[39;49m\u001b[38;5;124;43m\\\u001b[39;49m\u001b[38;5;124;43mcodecs\u001b[39;49m\u001b[38;5;124;43m\\\u001b[39;49m\u001b[38;5;124;43mpackbits.cu\u001b[39;49m\u001b[38;5;124;43m'\u001b[39;49m\u001b[43m,\u001b[49m\n\u001b[0;32m      6\u001b[0m \u001b[43m    \u001b[49m\u001b[43m]\u001b[49m\u001b[43m,\u001b[49m\n\u001b[0;32m      7\u001b[0m \u001b[43m    \u001b[49m\u001b[43mverbose\u001b[49m\u001b[38;5;241;43m=\u001b[39;49m\u001b[38;5;28;43;01mFalse\u001b[39;49;00m\u001b[43m,\u001b[49m\n\u001b[0;32m      8\u001b[0m \u001b[43m)\u001b[49m\n",
      "File \u001b[1;32m~\\miniconda3\\envs\\ir\\lib\\site-packages\\torch\\utils\\cpp_extension.py:1202\u001b[0m, in \u001b[0;36mload\u001b[1;34m(name, sources, extra_cflags, extra_cuda_cflags, extra_ldflags, extra_include_paths, build_directory, verbose, with_cuda, is_python_module, is_standalone, keep_intermediates)\u001b[0m\n\u001b[0;32m   1111\u001b[0m \u001b[38;5;28;01mdef\u001b[39;00m \u001b[38;5;21mload\u001b[39m(name,\n\u001b[0;32m   1112\u001b[0m          sources: Union[\u001b[38;5;28mstr\u001b[39m, List[\u001b[38;5;28mstr\u001b[39m]],\n\u001b[0;32m   1113\u001b[0m          extra_cflags\u001b[38;5;241m=\u001b[39m\u001b[38;5;28;01mNone\u001b[39;00m,\n\u001b[1;32m   (...)\u001b[0m\n\u001b[0;32m   1121\u001b[0m          is_standalone\u001b[38;5;241m=\u001b[39m\u001b[38;5;28;01mFalse\u001b[39;00m,\n\u001b[0;32m   1122\u001b[0m          keep_intermediates\u001b[38;5;241m=\u001b[39m\u001b[38;5;28;01mTrue\u001b[39;00m):\n\u001b[0;32m   1123\u001b[0m     \u001b[38;5;124mr\u001b[39m\u001b[38;5;124;03m'''\u001b[39;00m\n\u001b[0;32m   1124\u001b[0m \u001b[38;5;124;03m    Loads a PyTorch C++ extension just-in-time (JIT).\u001b[39;00m\n\u001b[0;32m   1125\u001b[0m \n\u001b[1;32m   (...)\u001b[0m\n\u001b[0;32m   1200\u001b[0m \u001b[38;5;124;03m                verbose=True)\u001b[39;00m\n\u001b[0;32m   1201\u001b[0m \u001b[38;5;124;03m    '''\u001b[39;00m\n\u001b[1;32m-> 1202\u001b[0m     \u001b[38;5;28;01mreturn\u001b[39;00m \u001b[43m_jit_compile\u001b[49m\u001b[43m(\u001b[49m\n\u001b[0;32m   1203\u001b[0m \u001b[43m        \u001b[49m\u001b[43mname\u001b[49m\u001b[43m,\u001b[49m\n\u001b[0;32m   1204\u001b[0m \u001b[43m        \u001b[49m\u001b[43m[\u001b[49m\u001b[43msources\u001b[49m\u001b[43m]\u001b[49m\u001b[43m \u001b[49m\u001b[38;5;28;43;01mif\u001b[39;49;00m\u001b[43m \u001b[49m\u001b[38;5;28;43misinstance\u001b[39;49m\u001b[43m(\u001b[49m\u001b[43msources\u001b[49m\u001b[43m,\u001b[49m\u001b[43m \u001b[49m\u001b[38;5;28;43mstr\u001b[39;49m\u001b[43m)\u001b[49m\u001b[43m \u001b[49m\u001b[38;5;28;43;01melse\u001b[39;49;00m\u001b[43m \u001b[49m\u001b[43msources\u001b[49m\u001b[43m,\u001b[49m\n\u001b[0;32m   1205\u001b[0m \u001b[43m        \u001b[49m\u001b[43mextra_cflags\u001b[49m\u001b[43m,\u001b[49m\n\u001b[0;32m   1206\u001b[0m \u001b[43m        \u001b[49m\u001b[43mextra_cuda_cflags\u001b[49m\u001b[43m,\u001b[49m\n\u001b[0;32m   1207\u001b[0m \u001b[43m        \u001b[49m\u001b[43mextra_ldflags\u001b[49m\u001b[43m,\u001b[49m\n\u001b[0;32m   1208\u001b[0m \u001b[43m        \u001b[49m\u001b[43mextra_include_paths\u001b[49m\u001b[43m,\u001b[49m\n\u001b[0;32m   1209\u001b[0m \u001b[43m        \u001b[49m\u001b[43mbuild_directory\u001b[49m\u001b[43m \u001b[49m\u001b[38;5;129;43;01mor\u001b[39;49;00m\u001b[43m \u001b[49m\u001b[43m_get_build_directory\u001b[49m\u001b[43m(\u001b[49m\u001b[43mname\u001b[49m\u001b[43m,\u001b[49m\u001b[43m \u001b[49m\u001b[43mverbose\u001b[49m\u001b[43m)\u001b[49m\u001b[43m,\u001b[49m\n\u001b[0;32m   1210\u001b[0m \u001b[43m        \u001b[49m\u001b[43mverbose\u001b[49m\u001b[43m,\u001b[49m\n\u001b[0;32m   1211\u001b[0m \u001b[43m        \u001b[49m\u001b[43mwith_cuda\u001b[49m\u001b[43m,\u001b[49m\n\u001b[0;32m   1212\u001b[0m \u001b[43m        \u001b[49m\u001b[43mis_python_module\u001b[49m\u001b[43m,\u001b[49m\n\u001b[0;32m   1213\u001b[0m \u001b[43m        \u001b[49m\u001b[43mis_standalone\u001b[49m\u001b[43m,\u001b[49m\n\u001b[0;32m   1214\u001b[0m \u001b[43m        \u001b[49m\u001b[43mkeep_intermediates\u001b[49m\u001b[38;5;241;43m=\u001b[39;49m\u001b[43mkeep_intermediates\u001b[49m\u001b[43m)\u001b[49m\n",
      "File \u001b[1;32m~\\miniconda3\\envs\\ir\\lib\\site-packages\\torch\\utils\\cpp_extension.py:1450\u001b[0m, in \u001b[0;36m_jit_compile\u001b[1;34m(name, sources, extra_cflags, extra_cuda_cflags, extra_ldflags, extra_include_paths, build_directory, verbose, with_cuda, is_python_module, is_standalone, keep_intermediates)\u001b[0m\n\u001b[0;32m   1447\u001b[0m \u001b[38;5;28;01mif\u001b[39;00m is_standalone:\n\u001b[0;32m   1448\u001b[0m     \u001b[38;5;28;01mreturn\u001b[39;00m _get_exec_path(name, build_directory)\n\u001b[1;32m-> 1450\u001b[0m \u001b[38;5;28;01mreturn\u001b[39;00m \u001b[43m_import_module_from_library\u001b[49m\u001b[43m(\u001b[49m\u001b[43mname\u001b[49m\u001b[43m,\u001b[49m\u001b[43m \u001b[49m\u001b[43mbuild_directory\u001b[49m\u001b[43m,\u001b[49m\u001b[43m \u001b[49m\u001b[43mis_python_module\u001b[49m\u001b[43m)\u001b[49m\n",
      "File \u001b[1;32m~\\miniconda3\\envs\\ir\\lib\\site-packages\\torch\\utils\\cpp_extension.py:1844\u001b[0m, in \u001b[0;36m_import_module_from_library\u001b[1;34m(module_name, path, is_python_module)\u001b[0m\n\u001b[0;32m   1842\u001b[0m spec \u001b[38;5;241m=\u001b[39m importlib\u001b[38;5;241m.\u001b[39mutil\u001b[38;5;241m.\u001b[39mspec_from_file_location(module_name, filepath)\n\u001b[0;32m   1843\u001b[0m \u001b[38;5;28;01massert\u001b[39;00m spec \u001b[38;5;129;01mis\u001b[39;00m \u001b[38;5;129;01mnot\u001b[39;00m \u001b[38;5;28;01mNone\u001b[39;00m\n\u001b[1;32m-> 1844\u001b[0m module \u001b[38;5;241m=\u001b[39m \u001b[43mimportlib\u001b[49m\u001b[38;5;241;43m.\u001b[39;49m\u001b[43mutil\u001b[49m\u001b[38;5;241;43m.\u001b[39;49m\u001b[43mmodule_from_spec\u001b[49m\u001b[43m(\u001b[49m\u001b[43mspec\u001b[49m\u001b[43m)\u001b[49m\n\u001b[0;32m   1845\u001b[0m \u001b[38;5;28;01massert\u001b[39;00m \u001b[38;5;28misinstance\u001b[39m(spec\u001b[38;5;241m.\u001b[39mloader, importlib\u001b[38;5;241m.\u001b[39mabc\u001b[38;5;241m.\u001b[39mLoader)\n\u001b[0;32m   1846\u001b[0m spec\u001b[38;5;241m.\u001b[39mloader\u001b[38;5;241m.\u001b[39mexec_module(module)\n",
      "File \u001b[1;32m<frozen importlib._bootstrap>:565\u001b[0m, in \u001b[0;36mmodule_from_spec\u001b[1;34m(spec)\u001b[0m\n",
      "File \u001b[1;32m<frozen importlib._bootstrap_external>:1173\u001b[0m, in \u001b[0;36mcreate_module\u001b[1;34m(self, spec)\u001b[0m\n",
      "File \u001b[1;32m<frozen importlib._bootstrap>:228\u001b[0m, in \u001b[0;36m_call_with_frames_removed\u001b[1;34m(f, *args, **kwds)\u001b[0m\n",
      "\u001b[1;31mImportError\u001b[0m: DLL load failed while importing packbits_cpp: The specified module could not be found."
     ]
    }
   ],
   "source": [
    "packbits_cpp = load(\n",
    "    name=\"packbits_cpp\",\n",
    "    sources=[\n",
    "        r'D:\\Documents\\Python_Scripts\\class\\UCB\\splade-colBERT\\ColBERT\\colbert\\indexing\\codecs\\packbits.cpp',\n",
    "        r'D:\\Documents\\Python_Scripts\\class\\UCB\\splade-colBERT\\ColBERT\\colbert\\indexing\\codecs\\packbits.cu',\n",
    "    ],\n",
    "    verbose=False,\n",
    ")"
   ]
  },
  {
   "cell_type": "markdown",
   "id": "e0fb39dd-46cc-4274-8a2d-5b719617825c",
   "metadata": {},
   "source": [
    "# Indexing"
   ]
  },
  {
   "cell_type": "code",
   "execution_count": 1,
   "id": "1020cce3-3e7f-4fda-bc63-432803396c0f",
   "metadata": {},
   "outputs": [],
   "source": [
    "from colbert.infra import Run, RunConfig, ColBERTConfig\n",
    "from colbert import Indexer"
   ]
  },
  {
   "cell_type": "code",
   "execution_count": 2,
   "id": "4be46a04-f223-4e73-8ddb-1cae8b862b71",
   "metadata": {},
   "outputs": [],
   "source": [
    "# bsize = batch size\n",
    "config = ColBERTConfig(\n",
    "        bsize = 64,\n",
    "        resume = False,\n",
    "        checkpoint = \"experiments\\\\msmarco\\none\\u00822-09\\u0016\\u00019.36.45\\\\checkpoints\\\\colbert\",\n",
    "        collection = \"..\\/data\\/collection.tsv\",\n",
    "        index_name = \"msmarco.nbits=2\",\n",
    "        root = \"D:\\\\Documents\\\\Python_Scripts\\\\class\\\\UCB\\\\splade-colBERT\\\\ColBERT\\\\experiments\",\n",
    "        experiment = \"msmarco\",\n",
    "        name = \"2022-09\\/26\\/19.36.45\",\n",
    "        rank = 0,\n",
    "        nranks = 1,\n",
    "        amp = True,\n",
    "        gpus = 1,\n",
    "    )"
   ]
  },
  {
   "cell_type": "raw",
   "id": "9526a179-7a38-4ea3-9254-77a1cc2af276",
   "metadata": {},
   "source": [
    "!ninja --version\n",
    "!which cl"
   ]
  },
  {
   "cell_type": "code",
   "execution_count": null,
   "id": "363af98e-ed88-4ae0-a5fa-9f2d406b402a",
   "metadata": {},
   "outputs": [
    {
     "name": "stdout",
     "output_type": "stream",
     "text": [
      "\n",
      "\n",
      "[Oct 03, 00:40:01] #> Note: Output directory D:\\Documents\\Python_Scripts\\class\\UCB\\splade-colBERT\\ColBERT\\experiments\\msmarco\\indexes/msmarco.nbits=2 already exists\n",
      "\n",
      "\n",
      "[Oct 03, 00:40:01] #> Will delete 4 files already at D:\\Documents\\Python_Scripts\\class\\UCB\\splade-colBERT\\ColBERT\\experiments\\msmarco\\indexes/msmarco.nbits=2 in 20 seconds...\n",
      "#> Starting...\n"
     ]
    }
   ],
   "source": [
    "with Run().context(RunConfig(nranks=1, experiment=\"msmarco\")):\n",
    "    indexer = Indexer(checkpoint=r\"experiments\\msmarco\\none\\2022-09\\26\\19.36.45\\checkpoints\\colbert\", config=config)\n",
    "    indexer.index(name=\"msmarco.nbits=2\", collection=r\"../data/collection.tsv\", overwrite=True)"
   ]
  },
  {
   "cell_type": "markdown",
   "id": "da7abe06-c9d2-4785-8dfa-474150f4b684",
   "metadata": {},
   "source": [
    "# Correcting Triple Input"
   ]
  },
  {
   "cell_type": "code",
   "execution_count": 2,
   "id": "de0f68c2-508f-4024-8e7e-33d0c8f4c784",
   "metadata": {},
   "outputs": [],
   "source": [
    "from colbert.evaluation.loaders import *"
   ]
  },
  {
   "cell_type": "code",
   "execution_count": 3,
   "id": "614a8213-ab05-40b3-92bd-62b4844821c6",
   "metadata": {},
   "outputs": [],
   "source": [
    "from tqdm.auto import tqdm"
   ]
  },
  {
   "cell_type": "code",
   "execution_count": 15,
   "id": "a78c298f-13d1-4908-9e34-82909c380324",
   "metadata": {},
   "outputs": [],
   "source": [
    "param = {\n",
    "    'triples': '../data/triples.train.small.tsv',\n",
    "    'queries': '../data/queries.train.tsv',\n",
    "    'collection': '../data/collection.tsv'\n",
    "}"
   ]
  },
  {
   "cell_type": "code",
   "execution_count": null,
   "id": "e5a9b816-97c2-425d-8a1f-381584f8ce61",
   "metadata": {},
   "outputs": [],
   "source": [
    "def load_queries(queries_path):\n",
    "    queries = OrderedDict()\n",
    "\n",
    "    print_message(\"#> Loading the queries from\", queries_path, \"...\")\n",
    "\n",
    "    with open(queries_path, encoding='utf-8') as f:\n",
    "        for line in f:\n",
    "            qid, query, *_ = line.replace(\"\\xa0\", \" \").strip().split('\\t')\n",
    "            qid = int(qid)\n",
    "\n",
    "            assert (qid not in queries), (\"Query QID\", qid, \"is repeated!\")\n",
    "            queries[re.sub('[^ 0-9a-zA-Z_-]', '', query.strip(\" \"))] = qid\n",
    "\n",
    "    print_message(\"#> Got\", len(queries), \"queries. All QIDs are unique.\\n\")\n",
    "\n",
    "    return queries"
   ]
  },
  {
   "cell_type": "code",
   "execution_count": null,
   "id": "90c49dcf-46a7-4085-852f-816b288c3f7d",
   "metadata": {},
   "outputs": [],
   "source": [
    "def load_collection(collection_path):\n",
    "    print_message(\"#> Loading collection...\")\n",
    "\n",
    "    collection = {}\n",
    "\n",
    "    with open(collection_path, encoding=\"utf-8\") as f:\n",
    "        for line_idx, line in enumerate(f):\n",
    "            if line_idx % (1000*1000) == 0:\n",
    "                print(f'{line_idx // 1000 // 1000}M', end=' ', flush=True)\n",
    "\n",
    "            pid, passage, *rest = line.strip('\\n\\r ').split('\\t')\n",
    "            assert pid == 'id' or int(pid) == line_idx\n",
    "\n",
    "            if len(rest) >= 1:\n",
    "                title = rest[0]\n",
    "                passage = title + ' | ' + passage\n",
    "\n",
    "            collection[passage] = line_idx\n",
    "\n",
    "    print()\n",
    "\n",
    "    return collection"
   ]
  },
  {
   "cell_type": "code",
   "execution_count": null,
   "id": "c1a72a85-fff0-41c7-af74-72a12066136b",
   "metadata": {},
   "outputs": [],
   "source": [
    "import re"
   ]
  },
  {
   "cell_type": "code",
   "execution_count": null,
   "id": "c1af172c-d378-47c5-8137-a8f75a3cb953",
   "metadata": {},
   "outputs": [
    {
     "name": "stdout",
     "output_type": "stream",
     "text": [
      "[Sep 26, 18:41:38] #> Loading the queries from ../data/queries.train.tsv ...\n",
      "[Sep 26, 18:41:39] #> Got 806349 queries. All QIDs are unique.\n",
      "\n"
     ]
    }
   ],
   "source": [
    "queries = load_queries(param['queries'])"
   ]
  },
  {
   "cell_type": "code",
   "execution_count": null,
   "id": "406fe3e6-2310-49ab-a67c-f7b233839eb8",
   "metadata": {},
   "outputs": [
    {
     "name": "stdout",
     "output_type": "stream",
     "text": [
      "[Sep 26, 18:41:39] #> Loading collection...\n",
      "0M 1M 2M 3M 4M 5M 6M 7M 8M \n"
     ]
    }
   ],
   "source": [
    "collection = load_collection(param['collection'])"
   ]
  },
  {
   "cell_type": "code",
   "execution_count": null,
   "id": "c12b7dcc-581a-4bfd-855f-39539d37d38a",
   "metadata": {},
   "outputs": [],
   "source": [
    "global err_text\n",
    "err_text = \"\"\n",
    "def get_id(text, data):\n",
    "    err_text = text\n",
    "    _id = data.get(exceptions.get(text, text), None)\n",
    "    if _id is None: \n",
    "        text = text.replace(\"\\xa0\",' ')\n",
    "        _id = data.get(exceptions.get(text, text), None)\n",
    "    if _id is None: \n",
    "        n_text = text.strip(' ')\n",
    "        _id = data.get(exceptions.get(n_text, n_text), None)\n",
    "    if _id is None: \n",
    "        n_text = re.sub('[^ 0-9a-zA-Z_-]', '', n_text)\n",
    "        _id = data.get(exceptions.get(n_text, n_text), None)\n",
    "    if _id is None: \n",
    "        _id = data.get(text.strip(' '), None)\n",
    "    \n",
    "    if _id is None:\n",
    "        print(text)\n",
    "        raise Exception(text)\n",
    "    return _id"
   ]
  },
  {
   "cell_type": "code",
   "execution_count": null,
   "id": "b036987e-b802-4cb2-b409-b4ec10c631a5",
   "metadata": {},
   "outputs": [],
   "source": [
    "exceptions = {'divorce et sÃ©paration': 'divorce et séparation',\n",
    " 'what is intelÂ® vpro technology': 'what is intel® vpro technology',\n",
    " 'what is aÂ\\xa0shock wave': 'what is a shock wave',\n",
    " 'Germanyâ\\x80\\x99s perspective, the Treaty of Versailles was a fair settlement for its national interests': 'Germany’s perspective, the Treaty of Versailles was a fair settlement for its national interests',\n",
    " 'yesÃ¼n temÃ¼r khan emperor taiding of yuan': 'yesün temür khan emperor taiding of yuan',\n",
    " ' The vitamin that prevents beriberi is ': ' The vitamin that prevents beriberi is',\n",
    " ' phosphates as food ingredients ': ' phosphates as food ingredients',\n",
    " ' who invented the periodic table ': ' who invented the periodic table',\n",
    " 'what does bokmÃ¥l mean': 'what does bokmål mean',\n",
    " 'which action should youÂ\\xa0never take when selecting quotations': 'which action should you never take when selecting quotations',\n",
    " 'dermatitis, anemia, convulsions, depressions, and confusion are all signs of a vitamin _________Â\\xa0deficiency.': 'dermatitis anemia convulsions depressions and confusion are all signs of a vitamin _________ deficiency',\n",
    " ' In humans, the normal set point for body temperature is ': 'In humans the normal set point for body temperature is',\n",
    " 'what did you notice about the relationship between pressure and volume when the temperatureÂ\\xa0 is held constant?': 'what did you notice about the relationship between pressure and volume when the temperature  is held constant',\n",
    " 'the Â\\xa0____________Â\\xa0 that vibrates like a drum when sound waves hit.': 'the  ____________  that vibrates like a drum when sound waves hit',\n",
    " 'what is composition?Â\\xa0 why is composition important?': 'what is composition  why is composition important',\n",
    " 'the lithosphere consists of Â\\xa0____________': 'the lithosphere consists of  ____________',\n",
    " \"what is a 'cost engineer \": 'what is a cost engineer',\n",
    " 'A simple way to save with a competitive interest rate. Your Personal Savings account earns interest daily and is posted to your account monthly. You can easily set up recurring transfers from your current bank accounts to your Personal Savings account.â\\x80\\xa0. Just deposit your savings and watch it grow. Your Personal Savings account earns interest daily and is posted to your account monthly. You can easily set up recurring transfers from your current bank accounts to your Personal Savings account.â\\x80\\xa0. ': 'A simple way to save with a competitive interest rate. Your Personal Savings account earns interest daily and is posted to your account monthly. You can easily set up recurring transfers from your current bank accounts to your Personal Savings account.â\\x80\\xa0. Just deposit your savings and watch it grow. Your Personal Savings account earns interest daily and is posted to your account monthly. You can easily set up recurring transfers from your current bank accounts to your Personal Savings account.â\\x80\\xa0.',\n",
    " \"Islamic Laws are made up of Shari'ah ('â\\x80\\x8eØ´Ø±Ù\\x8aØ¹Ø© Å\\xa0arÄ«Ê¿ah) and Islamic jurisprudence (Ù\\x81Ù\\x82Ù\\x87â\\x80\\x8e Fiqh). Shari'ah is seen as sacred and constitutes the Qur'an and Prophet Muhammad 's Sunnah (way), which is found in the Hadith and Sira. Islamic jurisprudence is a complimentary expansion of the former by Islamic juris efinition [edit]. Islamic Laws are made up of Shari'ah ('â\\x80\\x8eØ´Ø±Ù\\x8aØ¹Ø© Å\\xa0arÄ«Ê¿ah) and Islamic jurisprudence (Ù\\x81Ù\\x82Ù\\x87â\\x80\\x8e Fiqh). Shari'ah is seen as sacred and constitutes the Qur'an and Prophet Muhammad 's Sunnah (way), which is found in the Hadith and Sir \": \"Islamic Laws are made up of Shari'ah ('â\\x80\\x8eØ´Ø±Ù\\x8aØ¹Ø© Å\\xa0arÄ«Ê¿ah) and Islamic jurisprudence (Ù\\x81Ù\\x82Ù\\x87â\\x80\\x8e Fiqh). Shari'ah is seen as sacred and constitutes the Qur'an and Prophet Muhammad 's Sunnah (way), which is found in the Hadith and Sira. Islamic jurisprudence is a complimentary expansion of the former by Islamic juris efinition [edit]. Islamic Laws are made up of Shari'ah ('â\\x80\\x8eØ´Ø±Ù\\x8aØ¹Ø© Å\\xa0arÄ«Ê¿ah) and Islamic jurisprudence (Ù\\x81Ù\\x82Ù\\x87â\\x80\\x8e Fiqh). Shari'ah is seen as sacred and constitutes the Qur'an and Prophet Muhammad 's Sunnah (way), which is found in the Hadith and Sir\",\n",
    " \"Definition [edit]. Islamic Laws are made up of Shari'ah ('â\\x80\\x8eØ´Ø±Ù\\x8aØ¹Ø© Å\\xa0arÄ«Ê¿ah) and Islamic jurisprudence (Ù\\x81Ù\\x82Ù\\x87â\\x80\\x8e Fiqh). Shari'ah is seen as sacred and constitutes the Qur'an and Prophet Muhammad 's Sunnah (way), which is found in the Hadith and Sir efinition [edit]. Islamic Laws are made up of Shari'ah ('â\\x80\\x8eØ´Ø±Ù\\x8aØ¹Ø© Å\\xa0arÄ«Ê¿ah) and Islamic jurisprudence (Ù\\x81Ù\\x82Ù\\x87â\\x80\\x8e Fiqh). Shari'ah is seen as sacred and constitutes the Qur'an and Prophet Muhammad 's Sunnah (way), which is found in the Hadith and Sir \": \"Definition [edit]. Islamic Laws are made up of Shari'ah ('â\\x80\\x8eØ´Ø±Ù\\x8aØ¹Ø© Å\\xa0arÄ«Ê¿ah) and Islamic jurisprudence (Ù\\x81Ù\\x82Ù\\x87â\\x80\\x8e Fiqh). Shari'ah is seen as sacred and constitutes the Qur'an and Prophet Muhammad 's Sunnah (way), which is found in the Hadith and Sir efinition [edit]. Islamic Laws are made up of Shari'ah ('â\\x80\\x8eØ´Ø±Ù\\x8aØ¹Ø© Å\\xa0arÄ«Ê¿ah) and Islamic jurisprudence (Ù\\x81Ù\\x82Ù\\x87â\\x80\\x8e Fiqh). Shari'ah is seen as sacred and constitutes the Qur'an and Prophet Muhammad 's Sunnah (way), which is found in the Hadith and Sir\"}"
   ]
  },
  {
   "cell_type": "code",
   "execution_count": null,
   "id": "2dbe9c35-bc7f-478f-a820-0f6a8e976e0c",
   "metadata": {
    "tags": []
   },
   "outputs": [
    {
     "data": {
      "application/vnd.jupyter.widget-view+json": {
       "model_id": "633d34783d8b4ddc8e9869a7c94fef16",
       "version_major": 2,
       "version_minor": 0
      },
      "text/plain": [
       "0it [00:00, ?it/s]"
      ]
     },
     "metadata": {},
     "output_type": "display_data"
    }
   ],
   "source": [
    "examples = []\n",
    "with open(param['triples'], encoding='utf-8') as f:\n",
    "    for line in tqdm(f):\n",
    "        q_str, p_str_p, p_str_n = line.strip('\\n').split('\\t')\n",
    "        qid = get_id(q_str, queries)\n",
    "        pid_p = get_id(p_str_p, collection)\n",
    "        pid_n = get_id(p_str_n, collection)\n",
    "        example = [qid, pid_p, pid_n]\n",
    "        examples.append(example)"
   ]
  },
  {
   "cell_type": "code",
   "execution_count": null,
   "id": "6b055dee-54c8-4c5a-8071-3f07f7239c00",
   "metadata": {},
   "outputs": [
    {
     "ename": "NameError",
     "evalue": "name 'self' is not defined",
     "output_type": "error",
     "traceback": [
      "\u001b[1;31m---------------------------------------------------------------------------\u001b[0m",
      "\u001b[1;31mNameError\u001b[0m                                 Traceback (most recent call last)",
      "Cell \u001b[1;32mIn [17], line 9\u001b[0m\n\u001b[0;32m      6\u001b[0m         f\u001b[38;5;241m.\u001b[39mwrite(\u001b[38;5;124m'\u001b[39m\u001b[38;5;130;01m\\n\u001b[39;00m\u001b[38;5;124m'\u001b[39m)\n\u001b[0;32m      8\u001b[0m output_path \u001b[38;5;241m=\u001b[39m f\u001b[38;5;241m.\u001b[39mname\n\u001b[1;32m----> 9\u001b[0m print_message(\u001b[38;5;124mf\u001b[39m\u001b[38;5;124m\"\u001b[39m\u001b[38;5;124m#> Saved examples with \u001b[39m\u001b[38;5;132;01m{\u001b[39;00m\u001b[38;5;28mlen\u001b[39m(\u001b[38;5;28mself\u001b[39m\u001b[38;5;241m.\u001b[39mdata)\u001b[38;5;132;01m}\u001b[39;00m\u001b[38;5;124m lines to \u001b[39m\u001b[38;5;132;01m{\u001b[39;00mf\u001b[38;5;241m.\u001b[39mname\u001b[38;5;132;01m}\u001b[39;00m\u001b[38;5;124m\"\u001b[39m)\n",
      "\u001b[1;31mNameError\u001b[0m: name 'self' is not defined"
     ]
    }
   ],
   "source": [
    "id_file = '../data/triples.train.small.id.json'\n",
    "    \n",
    "with open(id_file, 'w') as f:\n",
    "    for example in examples:\n",
    "        ujson.dump(example, f)\n",
    "        f.write('\\n')\n",
    "\n",
    "output_path = f.name\n",
    "print_message(f\"#> Saved examples with {len(self.data)} lines to {f.name}\")"
   ]
  },
  {
   "cell_type": "code",
   "execution_count": null,
   "id": "a7c9cf81-ebf7-41c3-9356-6c217e41c1d7",
   "metadata": {},
   "outputs": [],
   "source": [
    "id_file = '../data/triples.train.small.id.tsv'\n",
    "with open(id_file, 'r') as f:\n",
    "    id_examples = ujson.load(f)"
   ]
  },
  {
   "cell_type": "code",
   "execution_count": null,
   "id": "fd7df61b-8835-4f85-b23a-b6350be7f927",
   "metadata": {},
   "outputs": [],
   "source": [
    "len(id_examples)\n",
    "len(id_examples[0])"
   ]
  },
  {
   "cell_type": "code",
   "execution_count": null,
   "id": "10e1187d-c05b-495c-b796-98e35bffe2f3",
   "metadata": {},
   "outputs": [
    {
     "data": {
      "text/plain": [
       "[\"Islamic Laws are made up of Shari'ah ('â\\x80\\x8eØ´Ø±Ù\\x8aØ¹Ø© Å\\xa0arÄ«Ê¿ah) and Islamic jurisprudence (Ù\\x81Ù\\x82Ù\\x87â\\x80\\x8e Fiqh). Shari'ah is seen as sacred and constitutes the Qur'an and Prophet Muhammad 's Sunnah (way), which is found in the Hadith and Sira. Islamic jurisprudence is a complimentary expansion of the former by Islamic juris efinition [edit]. Islamic Laws are made up of Shari'ah ('â\\x80\\x8eØ´Ø±Ù\\x8aØ¹Ø© Å\\xa0arÄ«Ê¿ah) and Islamic jurisprudence (Ù\\x81Ù\\x82Ù\\x87â\\x80\\x8e Fiqh). Shari'ah is seen as sacred and constitutes the Qur'an and Prophet Muhammad 's Sunnah (way), which is found in the Hadith and Sir\",\n",
       " \"Definition [edit]. Islamic Laws are made up of Shari'ah ('â\\x80\\x8eØ´Ø±Ù\\x8aØ¹Ø© Å\\xa0arÄ«Ê¿ah) and Islamic jurisprudence (Ù\\x81Ù\\x82Ù\\x87â\\x80\\x8e Fiqh). Shari'ah is seen as sacred and constitutes the Qur'an and Prophet Muhammad 's Sunnah (way), which is found in the Hadith and Sir efinition [edit]. Islamic Laws are made up of Shari'ah ('â\\x80\\x8eØ´Ø±Ù\\x8aØ¹Ø© Å\\xa0arÄ«Ê¿ah) and Islamic jurisprudence (Ù\\x81Ù\\x82Ù\\x87â\\x80\\x8e Fiqh). Shari'ah is seen as sacred and constitutes the Qur'an and Prophet Muhammad 's Sunnah (way), which is found in the Hadith and Sir\"]"
      ]
     },
     "execution_count": 303,
     "metadata": {},
     "output_type": "execute_result"
    }
   ],
   "source": [
    "data = collection\n",
    "# data = queries\n",
    "qid = [k for k in data.keys() if \"lamic Laws are made up of Shar\" in k]\n",
    "qid"
   ]
  },
  {
   "cell_type": "code",
   "execution_count": 304,
   "id": "cf666a92-1378-4abf-b4f1-32e94a42e6c1",
   "metadata": {},
   "outputs": [
    {
     "data": {
      "text/plain": [
       "{'divorce et sÃ©paration': 'divorce et séparation',\n",
       " 'what is intelÂ® vpro technology': 'what is intel® vpro technology',\n",
       " 'what is aÂ\\xa0shock wave': 'what is a shock wave',\n",
       " 'Germanyâ\\x80\\x99s perspective, the Treaty of Versailles was a fair settlement for its national interests': 'Germany’s perspective, the Treaty of Versailles was a fair settlement for its national interests',\n",
       " 'yesÃ¼n temÃ¼r khan emperor taiding of yuan': 'yesün temür khan emperor taiding of yuan',\n",
       " ' The vitamin that prevents beriberi is ': ' The vitamin that prevents beriberi is',\n",
       " ' phosphates as food ingredients ': ' phosphates as food ingredients',\n",
       " ' who invented the periodic table ': ' who invented the periodic table',\n",
       " 'what does bokmÃ¥l mean': 'what does bokmål mean',\n",
       " 'which action should youÂ\\xa0never take when selecting quotations': 'which action should you never take when selecting quotations',\n",
       " 'dermatitis, anemia, convulsions, depressions, and confusion are all signs of a vitamin _________Â\\xa0deficiency.': 'dermatitis anemia convulsions depressions and confusion are all signs of a vitamin _________ deficiency',\n",
       " ' In humans, the normal set point for body temperature is ': 'In humans the normal set point for body temperature is',\n",
       " 'what did you notice about the relationship between pressure and volume when the temperatureÂ\\xa0 is held constant?': 'what did you notice about the relationship between pressure and volume when the temperature  is held constant',\n",
       " 'the Â\\xa0____________Â\\xa0 that vibrates like a drum when sound waves hit.': 'the  ____________  that vibrates like a drum when sound waves hit',\n",
       " 'what is composition?Â\\xa0 why is composition important?': 'what is composition  why is composition important',\n",
       " 'the lithosphere consists of Â\\xa0____________': 'the lithosphere consists of  ____________',\n",
       " \"what is a 'cost engineer \": 'what is a cost engineer',\n",
       " 'A simple way to save with a competitive interest rate. Your Personal Savings account earns interest daily and is posted to your account monthly. You can easily set up recurring transfers from your current bank accounts to your Personal Savings account.â\\x80\\xa0. Just deposit your savings and watch it grow. Your Personal Savings account earns interest daily and is posted to your account monthly. You can easily set up recurring transfers from your current bank accounts to your Personal Savings account.â\\x80\\xa0. ': 'A simple way to save with a competitive interest rate. Your Personal Savings account earns interest daily and is posted to your account monthly. You can easily set up recurring transfers from your current bank accounts to your Personal Savings account.â\\x80\\xa0. Just deposit your savings and watch it grow. Your Personal Savings account earns interest daily and is posted to your account monthly. You can easily set up recurring transfers from your current bank accounts to your Personal Savings account.â\\x80\\xa0.',\n",
       " \"Islamic Laws are made up of Shari'ah ('â\\x80\\x8eØ´Ø±Ù\\x8aØ¹Ø© Å\\xa0arÄ«Ê¿ah) and Islamic jurisprudence (Ù\\x81Ù\\x82Ù\\x87â\\x80\\x8e Fiqh). Shari'ah is seen as sacred and constitutes the Qur'an and Prophet Muhammad 's Sunnah (way), which is found in the Hadith and Sira. Islamic jurisprudence is a complimentary expansion of the former by Islamic juris efinition [edit]. Islamic Laws are made up of Shari'ah ('â\\x80\\x8eØ´Ø±Ù\\x8aØ¹Ø© Å\\xa0arÄ«Ê¿ah) and Islamic jurisprudence (Ù\\x81Ù\\x82Ù\\x87â\\x80\\x8e Fiqh). Shari'ah is seen as sacred and constitutes the Qur'an and Prophet Muhammad 's Sunnah (way), which is found in the Hadith and Sir \": \"Islamic Laws are made up of Shari'ah ('â\\x80\\x8eØ´Ø±Ù\\x8aØ¹Ø© Å\\xa0arÄ«Ê¿ah) and Islamic jurisprudence (Ù\\x81Ù\\x82Ù\\x87â\\x80\\x8e Fiqh). Shari'ah is seen as sacred and constitutes the Qur'an and Prophet Muhammad 's Sunnah (way), which is found in the Hadith and Sira. Islamic jurisprudence is a complimentary expansion of the former by Islamic juris efinition [edit]. Islamic Laws are made up of Shari'ah ('â\\x80\\x8eØ´Ø±Ù\\x8aØ¹Ø© Å\\xa0arÄ«Ê¿ah) and Islamic jurisprudence (Ù\\x81Ù\\x82Ù\\x87â\\x80\\x8e Fiqh). Shari'ah is seen as sacred and constitutes the Qur'an and Prophet Muhammad 's Sunnah (way), which is found in the Hadith and Sir\",\n",
       " \"Definition [edit]. Islamic Laws are made up of Shari'ah ('â\\x80\\x8eØ´Ø±Ù\\x8aØ¹Ø© Å\\xa0arÄ«Ê¿ah) and Islamic jurisprudence (Ù\\x81Ù\\x82Ù\\x87â\\x80\\x8e Fiqh). Shari'ah is seen as sacred and constitutes the Qur'an and Prophet Muhammad 's Sunnah (way), which is found in the Hadith and Sir efinition [edit]. Islamic Laws are made up of Shari'ah ('â\\x80\\x8eØ´Ø±Ù\\x8aØ¹Ø© Å\\xa0arÄ«Ê¿ah) and Islamic jurisprudence (Ù\\x81Ù\\x82Ù\\x87â\\x80\\x8e Fiqh). Shari'ah is seen as sacred and constitutes the Qur'an and Prophet Muhammad 's Sunnah (way), which is found in the Hadith and Sir \": \"Definition [edit]. Islamic Laws are made up of Shari'ah ('â\\x80\\x8eØ´Ø±Ù\\x8aØ¹Ø© Å\\xa0arÄ«Ê¿ah) and Islamic jurisprudence (Ù\\x81Ù\\x82Ù\\x87â\\x80\\x8e Fiqh). Shari'ah is seen as sacred and constitutes the Qur'an and Prophet Muhammad 's Sunnah (way), which is found in the Hadith and Sir efinition [edit]. Islamic Laws are made up of Shari'ah ('â\\x80\\x8eØ´Ø±Ù\\x8aØ¹Ø© Å\\xa0arÄ«Ê¿ah) and Islamic jurisprudence (Ù\\x81Ù\\x82Ù\\x87â\\x80\\x8e Fiqh). Shari'ah is seen as sacred and constitutes the Qur'an and Prophet Muhammad 's Sunnah (way), which is found in the Hadith and Sir\"}"
      ]
     },
     "execution_count": 304,
     "metadata": {},
     "output_type": "execute_result"
    }
   ],
   "source": [
    "exceptions = {**exceptions, **{p_str_n: qid[1]}}\n",
    "exceptions"
   ]
  }
 ],
 "metadata": {
  "kernelspec": {
   "display_name": "Python 3 (ipykernel)",
   "language": "python",
   "name": "python3"
  },
  "language_info": {
   "codemirror_mode": {
    "name": "ipython",
    "version": 3
   },
   "file_extension": ".py",
   "mimetype": "text/x-python",
   "name": "python",
   "nbconvert_exporter": "python",
   "pygments_lexer": "ipython3",
   "version": "3.9.13"
  }
 },
 "nbformat": 4,
 "nbformat_minor": 5
}
