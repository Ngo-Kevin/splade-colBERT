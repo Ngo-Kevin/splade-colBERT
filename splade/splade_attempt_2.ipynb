{
 "cells": [
  {
   "cell_type": "code",
   "execution_count": 1,
   "metadata": {
    "collapsed": false
   },
   "outputs": [
    {
     "data": {
      "text/plain": [
       "'C:\\\\Users\\\\jammo\\\\DataspellProjects\\\\capstone\\\\new_capstone_dir\\\\splade-colBERT\\\\splade'"
      ]
     },
     "execution_count": 1,
     "metadata": {},
     "output_type": "execute_result"
    }
   ],
   "source": [
    "pwd"
   ]
  },
  {
   "cell_type": "markdown",
   "metadata": {
    "collapsed": false
   },
   "source": [
    "Just testing inference"
   ]
  },
  {
   "cell_type": "code",
   "execution_count": 41,
   "metadata": {
    "collapsed": false
   },
   "outputs": [
    {
     "name": "stdout",
     "output_type": "stream",
     "text": [
      "Collecting wandb\n",
      "  Downloading wandb-0.13.3-py2.py3-none-any.whl (1.8 MB)\n",
      "     ---------------------------------------- 1.8/1.8 MB 9.0 MB/s eta 0:00:00\n",
      "Requirement already satisfied: requests<3,>=2.0.0 in c:\\users\\jammo\\anaconda3\\envs\\capstone\\lib\\site-packages (from wandb) (2.28.1)\n",
      "Collecting setproctitle\n",
      "  Downloading setproctitle-1.3.2-cp39-cp39-win_amd64.whl (11 kB)\n",
      "Requirement already satisfied: protobuf<4.0dev,>=3.12.0 in c:\\users\\jammo\\anaconda3\\envs\\capstone\\lib\\site-packages (from wandb) (3.19.4)\n",
      "Requirement already satisfied: six>=1.13.0 in c:\\users\\jammo\\anaconda3\\envs\\capstone\\lib\\site-packages (from wandb) (1.16.0)\n",
      "Collecting docker-pycreds>=0.4.0\n",
      "  Downloading docker_pycreds-0.4.0-py2.py3-none-any.whl (9.0 kB)\n",
      "Requirement already satisfied: GitPython>=1.0.0 in c:\\users\\jammo\\anaconda3\\envs\\capstone\\lib\\site-packages (from wandb) (3.1.27)\n",
      "Requirement already satisfied: setuptools in c:\\users\\jammo\\anaconda3\\envs\\capstone\\lib\\site-packages (from wandb) (65.3.0)\n",
      "Collecting promise<3,>=2.0\n",
      "  Downloading promise-2.3.tar.gz (19 kB)\n",
      "  Preparing metadata (setup.py): started\n",
      "  Preparing metadata (setup.py): finished with status 'done'\n",
      "Collecting pathtools\n",
      "  Downloading pathtools-0.1.2.tar.gz (11 kB)\n",
      "  Preparing metadata (setup.py): started\n",
      "  Preparing metadata (setup.py): finished with status 'done'\n",
      "Collecting shortuuid>=0.5.0\n",
      "  Downloading shortuuid-1.0.9-py3-none-any.whl (9.4 kB)\n",
      "Requirement already satisfied: psutil>=5.0.0 in c:\\users\\jammo\\anaconda3\\envs\\capstone\\lib\\site-packages (from wandb) (5.9.2)\n",
      "Requirement already satisfied: Click!=8.0.0,>=7.0 in c:\\users\\jammo\\anaconda3\\envs\\capstone\\lib\\site-packages (from wandb) (8.1.3)\n",
      "Collecting sentry-sdk>=1.0.0\n",
      "  Downloading sentry_sdk-1.9.9-py2.py3-none-any.whl (162 kB)\n",
      "     -------------------------------------- 162.1/162.1 kB 4.7 MB/s eta 0:00:00\n",
      "Requirement already satisfied: PyYAML in c:\\users\\jammo\\anaconda3\\envs\\capstone\\lib\\site-packages (from wandb) (6.0)\n",
      "Requirement already satisfied: colorama in c:\\users\\jammo\\anaconda3\\envs\\capstone\\lib\\site-packages (from Click!=8.0.0,>=7.0->wandb) (0.4.5)\n",
      "Requirement already satisfied: gitdb<5,>=4.0.1 in c:\\users\\jammo\\anaconda3\\envs\\capstone\\lib\\site-packages (from GitPython>=1.0.0->wandb) (4.0.9)\n",
      "Requirement already satisfied: charset-normalizer<3,>=2 in c:\\users\\jammo\\anaconda3\\envs\\capstone\\lib\\site-packages (from requests<3,>=2.0.0->wandb) (2.1.1)\n",
      "Requirement already satisfied: idna<4,>=2.5 in c:\\users\\jammo\\anaconda3\\envs\\capstone\\lib\\site-packages (from requests<3,>=2.0.0->wandb) (3.3)\n",
      "Requirement already satisfied: certifi>=2017.4.17 in c:\\users\\jammo\\anaconda3\\envs\\capstone\\lib\\site-packages (from requests<3,>=2.0.0->wandb) (2022.6.15.1)\n",
      "Requirement already satisfied: urllib3<1.27,>=1.21.1 in c:\\users\\jammo\\anaconda3\\envs\\capstone\\lib\\site-packages (from requests<3,>=2.0.0->wandb) (1.26.12)\n",
      "Requirement already satisfied: smmap<6,>=3.0.1 in c:\\users\\jammo\\anaconda3\\envs\\capstone\\lib\\site-packages (from gitdb<5,>=4.0.1->GitPython>=1.0.0->wandb) (5.0.0)\n",
      "Building wheels for collected packages: promise, pathtools\n",
      "  Building wheel for promise (setup.py): started\n",
      "  Building wheel for promise (setup.py): finished with status 'done'\n",
      "  Created wheel for promise: filename=promise-2.3-py3-none-any.whl size=21486 sha256=7d20c575ef5a7d228325edbc6de9da0dc42102babbecc2374d6be1959c8407fc\n",
      "  Stored in directory: c:\\users\\jammo\\appdata\\local\\pip\\cache\\wheels\\e1\\e8\\83\\ddea66100678d139b14bc87692ece57c6a2a937956d2532608\n",
      "  Building wheel for pathtools (setup.py): started\n",
      "  Building wheel for pathtools (setup.py): finished with status 'done'\n",
      "  Created wheel for pathtools: filename=pathtools-0.1.2-py3-none-any.whl size=8792 sha256=d6ebe1ed2cb8ccda617d66aa6d53227769c19425dd553f8c0ef6d3ecb699e767\n",
      "  Stored in directory: c:\\users\\jammo\\appdata\\local\\pip\\cache\\wheels\\b7\\0a\\67\\ada2a22079218c75a88361c0782855cc72aebc4d18d0289d05\n",
      "Successfully built promise pathtools\n",
      "Installing collected packages: pathtools, shortuuid, setproctitle, sentry-sdk, promise, docker-pycreds, wandb\n",
      "Successfully installed docker-pycreds-0.4.0 pathtools-0.1.2 promise-2.3 sentry-sdk-1.9.9 setproctitle-1.3.2 shortuuid-1.0.9 wandb-0.13.3\n"
     ]
    }
   ],
   "source": [
    "!pip install wandb\n",
    "# wandb login"
   ]
  },
  {
   "cell_type": "code",
   "execution_count": 43,
   "metadata": {
    "collapsed": false
   },
   "outputs": [
    {
     "ename": "SyntaxError",
     "evalue": "invalid syntax (3036763573.py, line 1)",
     "output_type": "error",
     "traceback": [
      "\u001b[1;36m  Input \u001b[1;32mIn [43]\u001b[1;36m\u001b[0m\n\u001b[1;33m    wandb login\u001b[0m\n\u001b[1;37m          ^\u001b[0m\n\u001b[1;31mSyntaxError\u001b[0m\u001b[1;31m:\u001b[0m invalid syntax\n"
     ]
    }
   ],
   "source": [
    "wandb login"
   ]
  },
  {
   "cell_type": "code",
   "execution_count": 2,
   "metadata": {
    "collapsed": true
   },
   "outputs": [],
   "source": [
    "import torch\n",
    "from transformers import AutoModelForMaskedLM, AutoTokenizer\n",
    "from splade.models.transformer_rep import Splade"
   ]
  },
  {
   "cell_type": "code",
   "execution_count": 3,
   "metadata": {
    "collapsed": false
   },
   "outputs": [],
   "source": [
    "# set the dir for trained weights\n",
    "\n",
    "##### v2\n",
    "# model_type_or_dir = \"weights/splade_max\"\n",
    "# model_type_or_dir = \"weights/distilsplade_max\"\n",
    "\n",
    "### v2bis, directly download from Hugging Face\n",
    "# model_type_or_dir = \"naver/splade-cocondenser-selfdistil\"\n",
    "model_type_or_dir = \"naver/splade-cocondenser-ensembledistil\""
   ]
  },
  {
   "cell_type": "code",
   "execution_count": 4,
   "metadata": {
    "collapsed": false
   },
   "outputs": [],
   "source": [
    "# loading model and tokenizer\n",
    "\n",
    "model = Splade(model_type_or_dir, agg=\"max\")\n",
    "model.eval()\n",
    "tokenizer = AutoTokenizer.from_pretrained(model_type_or_dir)\n",
    "reverse_voc = {v: k for k, v in tokenizer.vocab.items()}"
   ]
  },
  {
   "cell_type": "code",
   "execution_count": 5,
   "metadata": {
    "collapsed": false
   },
   "outputs": [],
   "source": [
    "# example document from MS MARCO passage collection (doc_id = 8003157)\n",
    "\n",
    "doc = \"Glass and Thermal Stress. Thermal Stress is created when one area of a glass pane gets hotter than an adjacent area. If the stress is too great then the glass will crack. The stress level at which the glass will break is governed by several factors.\""
   ]
  },
  {
   "cell_type": "code",
   "execution_count": 6,
   "metadata": {
    "collapsed": false
   },
   "outputs": [
    {
     "name": "stdout",
     "output_type": "stream",
     "text": [
      "number of actual dimensions:  126\n",
      "SPLADE BOW rep:\n",
      " [('stress', 2.25), ('glass', 2.23), ('thermal', 2.18), ('glasses', 1.65), ('pan', 1.62), ('heat', 1.56), ('stressed', 1.42), ('crack', 1.31), ('break', 1.12), ('cracked', 1.1), ('hot', 0.93), ('created', 0.9), ('factors', 0.81), ('broken', 0.73), ('caused', 0.71), ('too', 0.71), ('damage', 0.69), ('if', 0.68), ('hotter', 0.65), ('governed', 0.61), ('heating', 0.59), ('temperature', 0.59), ('adjacent', 0.59), ('cause', 0.58), ('effect', 0.57), ('fracture', 0.56), ('bradford', 0.55), ('strain', 0.53), ('hammer', 0.51), ('brian', 0.48), ('error', 0.47), ('windows', 0.45), ('will', 0.45), ('reaction', 0.42), ('create', 0.42), ('windshield', 0.41), ('heated', 0.41), ('factor', 0.4), ('cracking', 0.39), ('failure', 0.38), ('mechanical', 0.38), ('when', 0.38), ('formed', 0.38), ('bolt', 0.38), ('mechanism', 0.37), ('warm', 0.37), ('areas', 0.36), ('area', 0.36), ('energy', 0.34), ('disorder', 0.33), ('barry', 0.33), ('shock', 0.32), ('determined', 0.32), ('gage', 0.32), ('sash', 0.31), ('theory', 0.31), ('level', 0.31), ('resistant', 0.31), ('brake', 0.3), ('window', 0.3), ('crash', 0.3), ('hazard', 0.29), ('##ink', 0.27), ('ceramic', 0.27), ('storm', 0.25), ('problem', 0.25), ('issue', 0.24), ('impact', 0.24), ('fridge', 0.24), ('injury', 0.23), ('ross', 0.22), ('causes', 0.22), ('affect', 0.21), ('pressure', 0.21), ('fatigue', 0.21), ('leak', 0.21), ('eye', 0.2), ('frank', 0.2), ('cool', 0.2), ('might', 0.19), ('gravity', 0.18), ('ray', 0.18), ('static', 0.18), ('collapse', 0.18), ('physics', 0.18), ('wave', 0.18), ('reflection', 0.17), ('parker', 0.17), ('strike', 0.17), ('hottest', 0.17), ('burst', 0.16), ('chance', 0.16), ('burn', 0.14), ('rubbing', 0.14), ('interference', 0.14), ('bailey', 0.13), ('vibration', 0.12), ('gilbert', 0.12), ('produced', 0.12), ('rock', 0.12), ('warmer', 0.11), ('get', 0.11), ('drink', 0.11), ('fireplace', 0.11), ('ruin', 0.1), ('brittle', 0.1), ('fragment', 0.1), ('stumble', 0.09), ('formation', 0.09), ('shatter', 0.08), ('great', 0.08), ('friction', 0.08), ('flash', 0.07), ('cracks', 0.07), ('levels', 0.07), ('smash', 0.04), ('fail', 0.04), ('fra', 0.04), ('##glass', 0.03), ('variables', 0.03), ('because', 0.02), ('knock', 0.02), ('sun', 0.02), ('crush', 0.01), ('##e', 0.01), ('anger', 0.01)]\n"
     ]
    }
   ],
   "source": [
    "# now compute the document representation\n",
    "with torch.no_grad():\n",
    "    doc_rep = model(d_kwargs=tokenizer(doc, return_tensors=\"pt\"))[\"d_rep\"].squeeze()  # (sparse) doc rep in voc space, shape (30522,)\n",
    "\n",
    "# get the number of non-zero dimensions in the rep:\n",
    "col = torch.nonzero(doc_rep).squeeze().cpu().tolist()\n",
    "print(\"number of actual dimensions: \", len(col))\n",
    "\n",
    "# now let's inspect the bow representation:\n",
    "weights = doc_rep[col].cpu().tolist()\n",
    "d = {k: v for k, v in zip(col, weights)}\n",
    "sorted_d = {k: v for k, v in sorted(d.items(), key=lambda item: item[1], reverse=True)}\n",
    "bow_rep = []\n",
    "for k, v in sorted_d.items():\n",
    "    bow_rep.append((reverse_voc[k], round(v, 2)))\n",
    "print(\"SPLADE BOW rep:\\n\", bow_rep)"
   ]
  },
  {
   "cell_type": "markdown",
   "metadata": {
    "collapsed": false
   },
   "source": [
    "Trying to run splade"
   ]
  },
  {
   "cell_type": "code",
   "execution_count": 7,
   "metadata": {
    "collapsed": false
   },
   "outputs": [
    {
     "name": "stdout",
     "output_type": "stream",
     "text": [
      " Volume in drive C is Windows\n",
      " Volume Serial Number is C85C-4698\n",
      "\n",
      " Directory of C:\\Users\\jammo\\DataspellProjects\\capstone\\new_capstone_dir\\splade-colBERT\\splade\n",
      "\n",
      "10/02/2022  12:33 PM    <DIR>          .\n",
      "10/02/2022  12:33 PM    <DIR>          ..\n",
      "10/01/2022  11:52 AM    <DIR>          .ipynb_checkpoints\n",
      "09/26/2022  05:45 PM             6,799 conda_splade_env.yml\n",
      "10/02/2022  12:10 PM    <DIR>          conf\n",
      "10/01/2022  12:23 PM    <DIR>          data\n",
      "09/26/2022  05:45 PM    <DIR>          efficient_splade_pisa\n",
      "09/26/2022  05:45 PM    <DIR>          images\n",
      "10/02/2022  12:33 PM             9,352 inference_splade.ipynb\n",
      "09/26/2022  05:45 PM            33,764 LICENSE\n",
      "09/26/2022  05:45 PM            17,307 README.md\n",
      "09/26/2022  05:45 PM               743 setup.py\n",
      "10/01/2022  10:34 AM    <DIR>          splade\n",
      "10/02/2022  12:24 PM            15,120 splade_attempt_2.ipynb\n",
      "09/26/2022  05:45 PM    <DIR>          weights\n",
      "               6 File(s)         83,085 bytes\n",
      "               9 Dir(s)  56,115,101,696 bytes free\n"
     ]
    }
   ],
   "source": [
    "ls"
   ]
  },
  {
   "cell_type": "code",
   "execution_count": 8,
   "metadata": {
    "collapsed": false
   },
   "outputs": [
    {
     "name": "stdout",
     "output_type": "stream",
     "text": [
      " Volume in drive C is Windows\n",
      " Volume Serial Number is C85C-4698\n",
      "\n",
      " Directory of C:\\Users\\jammo\\DataspellProjects\\capstone\\new_capstone_dir\\splade-colBERT\\splade\n",
      "\n",
      "10/02/2022  12:33 PM    <DIR>          .\n",
      "10/02/2022  12:33 PM    <DIR>          ..\n",
      "10/01/2022  11:52 AM    <DIR>          .ipynb_checkpoints\n",
      "09/26/2022  05:45 PM             6,799 conda_splade_env.yml\n",
      "10/02/2022  12:10 PM    <DIR>          conf\n",
      "10/01/2022  12:23 PM    <DIR>          data\n",
      "09/26/2022  05:45 PM    <DIR>          efficient_splade_pisa\n",
      "09/26/2022  05:45 PM    <DIR>          images\n",
      "10/02/2022  12:33 PM             9,352 inference_splade.ipynb\n",
      "09/26/2022  05:45 PM            33,764 LICENSE\n",
      "09/26/2022  05:45 PM            17,307 README.md\n",
      "09/26/2022  05:45 PM               743 setup.py\n",
      "10/01/2022  10:34 AM    <DIR>          splade\n",
      "10/02/2022  12:24 PM            15,120 splade_attempt_2.ipynb\n",
      "09/26/2022  05:45 PM    <DIR>          weights\n",
      "               6 File(s)         83,085 bytes\n",
      "               9 Dir(s)  56,115,101,696 bytes free\n"
     ]
    }
   ],
   "source": [
    "ls"
   ]
  },
  {
   "cell_type": "code",
   "execution_count": 9,
   "metadata": {
    "collapsed": false
   },
   "outputs": [
    {
     "name": "stdout",
     "output_type": "stream",
     "text": [
      " Volume in drive C is Windows\n",
      " Volume Serial Number is C85C-4698\n",
      "\n",
      " Directory of C:\\Users\\jammo\\DataspellProjects\\capstone\\new_capstone_dir\\splade-colBERT\\splade\n",
      "\n",
      "10/02/2022  12:33 PM    <DIR>          .\n",
      "10/02/2022  12:33 PM    <DIR>          ..\n",
      "10/01/2022  11:52 AM    <DIR>          .ipynb_checkpoints\n",
      "09/26/2022  05:45 PM             6,799 conda_splade_env.yml\n",
      "10/02/2022  12:10 PM    <DIR>          conf\n",
      "10/01/2022  12:23 PM    <DIR>          data\n",
      "09/26/2022  05:45 PM    <DIR>          efficient_splade_pisa\n",
      "09/26/2022  05:45 PM    <DIR>          images\n",
      "10/02/2022  12:33 PM             9,352 inference_splade.ipynb\n",
      "09/26/2022  05:45 PM            33,764 LICENSE\n",
      "09/26/2022  05:45 PM            17,307 README.md\n",
      "09/26/2022  05:45 PM               743 setup.py\n",
      "10/01/2022  10:34 AM    <DIR>          splade\n",
      "10/02/2022  12:24 PM            15,120 splade_attempt_2.ipynb\n",
      "09/26/2022  05:45 PM    <DIR>          weights\n",
      "               6 File(s)         83,085 bytes\n",
      "               9 Dir(s)  56,115,101,696 bytes free\n"
     ]
    }
   ],
   "source": [
    "ls"
   ]
  },
  {
   "cell_type": "code",
   "execution_count": 10,
   "metadata": {
    "collapsed": false
   },
   "outputs": [
    {
     "name": "stdout",
     "output_type": "stream",
     "text": [
      " Volume in drive C is Windows\n",
      " Volume Serial Number is C85C-4698\n",
      "\n",
      " Directory of C:\\Users\\jammo\\DataspellProjects\\capstone\\new_capstone_dir\\splade-colBERT\\splade\\splade\n",
      "\n",
      "10/01/2022  10:34 AM    <DIR>          .\n",
      "10/01/2022  10:34 AM    <DIR>          ..\n",
      "09/26/2022  05:45 PM                 0 __init__.py\n",
      "10/02/2022  12:23 PM    <DIR>          __pycache__\n",
      "09/26/2022  05:45 PM               659 all.py\n",
      "09/26/2022  05:45 PM             4,360 beir_eval.py\n",
      "09/26/2022  05:45 PM             2,342 create_anserini.py\n",
      "10/02/2022  12:10 PM    <DIR>          datasets\n",
      "09/26/2022  05:45 PM             1,499 evaluate.py\n",
      "10/02/2022  12:23 PM    <DIR>          evaluation\n",
      "09/26/2022  05:45 PM             2,662 flops.py\n",
      "09/26/2022  05:45 PM             1,264 index.py\n",
      "10/02/2022  12:10 PM    <DIR>          indexing\n",
      "10/01/2022  10:34 AM    <DIR>          losses\n",
      "10/01/2022  10:34 AM    <DIR>          models\n",
      "10/02/2022  12:10 PM    <DIR>          optim\n",
      "09/26/2022  05:45 PM             1,635 retrieve.py\n",
      "10/01/2022  10:34 AM    <DIR>          tasks\n",
      "09/26/2022  05:45 PM            11,721 train.py\n",
      "10/01/2022  10:34 AM    <DIR>          utils\n",
      "               9 File(s)         26,142 bytes\n",
      "              11 Dir(s)  56,115,101,696 bytes free\n"
     ]
    }
   ],
   "source": [
    "ls ..\\splade\\splade"
   ]
  },
  {
   "cell_type": "code",
   "execution_count": 11,
   "metadata": {
    "collapsed": false
   },
   "outputs": [],
   "source": [
    "marco_path = '..\\splade\\data\\msmarco'"
   ]
  },
  {
   "cell_type": "code",
   "execution_count": 12,
   "metadata": {
    "collapsed": false
   },
   "outputs": [
    {
     "data": {
      "text/plain": [
       "'..\\\\splade\\\\data\\\\msmarco'"
      ]
     },
     "execution_count": 12,
     "metadata": {},
     "output_type": "execute_result"
    }
   ],
   "source": [
    "marco_path"
   ]
  },
  {
   "cell_type": "code",
   "execution_count": 17,
   "metadata": {
    "collapsed": false
   },
   "outputs": [
    {
     "name": "stderr",
     "output_type": "stream",
     "text": [
      "usage: ipykernel_launcher.py [--help] [--hydra-help] [--version] [--cfg {job,hydra,all}] [--resolve]\n",
      "                             [--package PACKAGE] [--run] [--multirun] [--shell-completion] [--config-path CONFIG_PATH]\n",
      "                             [--config-name CONFIG_NAME] [--config-dir CONFIG_DIR]\n",
      "                             [--experimental-rerun EXPERIMENTAL_RERUN]\n",
      "                             [--info [{all,config,defaults,defaults-tree,plugins,searchpath}]]\n",
      "                             [overrides ...]\n",
      "ipykernel_launcher.py: error: unrecognized arguments: -f\n"
     ]
    },
    {
     "ename": "SystemExit",
     "evalue": "2",
     "output_type": "error",
     "traceback": [
      "An exception has occurred, use %tb to see the full traceback.\n",
      "\u001b[1;31mSystemExit\u001b[0m\u001b[1;31m:\u001b[0m 2\n"
     ]
    },
    {
     "name": "stderr",
     "output_type": "stream",
     "text": [
      "C:\\Users\\jammo\\anaconda3\\envs\\capstone\\lib\\site-packages\\IPython\\core\\interactiveshell.py:3406: UserWarning: To exit: use 'exit', 'quit', or Ctrl-D.\n",
      "  warn(\"To exit: use 'exit', 'quit', or Ctrl-D.\", stacklevel=1)\n"
     ]
    }
   ],
   "source": [
    "from splade import all\n",
    "\n",
    "all.train_index_retrieve()"
   ]
  },
  {
   "cell_type": "code",
   "execution_count": 19,
   "metadata": {
    "collapsed": false
   },
   "outputs": [
    {
     "data": {
      "text/plain": [
       "'C:\\\\Users\\\\jammo\\\\DataspellProjects\\\\capstone\\\\new_capstone_dir\\\\splade-colBERT\\\\splade'"
      ]
     },
     "execution_count": 19,
     "metadata": {},
     "output_type": "execute_result"
    }
   ],
   "source": [
    "pwd"
   ]
  },
  {
   "cell_type": "code",
   "execution_count": 20,
   "metadata": {
    "collapsed": false
   },
   "outputs": [
    {
     "ename": "NameError",
     "evalue": "name 'SpladeConfig' is not defined",
     "output_type": "error",
     "traceback": [
      "\u001b[1;31m---------------------------------------------------------------------------\u001b[0m",
      "\u001b[1;31mNameError\u001b[0m                                 Traceback (most recent call last)",
      "Input \u001b[1;32mIn [20]\u001b[0m, in \u001b[0;36m<cell line: 1>\u001b[1;34m()\u001b[0m\n\u001b[1;32m----> 1\u001b[0m config \u001b[38;5;241m=\u001b[39m \u001b[43mSpladeConfig\u001b[49m(\n\u001b[0;32m      2\u001b[0m     bsize\u001b[38;5;241m=\u001b[39m\u001b[38;5;241m64\u001b[39m,\n\u001b[0;32m      3\u001b[0m     root\u001b[38;5;241m=\u001b[39m\u001b[38;5;124mr\u001b[39m\u001b[38;5;124m\"\u001b[39m\u001b[38;5;124m..\u001b[39m\u001b[38;5;124m\\\u001b[39m\u001b[38;5;124mconf/conf/config_splade++_cocondenser_ensembledistil_monogpu.yaml\u001b[39m\u001b[38;5;124m\"\u001b[39m\n\u001b[0;32m      4\u001b[0m )\n",
      "\u001b[1;31mNameError\u001b[0m: name 'SpladeConfig' is not defined"
     ]
    }
   ],
   "source": [
    "# config = SpladeConfig(\n",
    "#     bsize=64,\n",
    "#     root=r\"..\\conf/conf/config_splade++_cocondenser_ensembledistil_monogpu.yaml\"\n",
    "# )\n",
    "\n",
    "config = \"..\\conf\\config_splade++_cocondenser_ensembledistil_monogpu.yaml\""
   ]
  },
  {
   "cell_type": "code",
   "execution_count": 38,
   "metadata": {
    "collapsed": false
   },
   "outputs": [
    {
     "ename": "NameError",
     "evalue": "name 'Run' is not defined",
     "output_type": "error",
     "traceback": [
      "\u001b[1;31m---------------------------------------------------------------------------\u001b[0m",
      "\u001b[1;31mNameError\u001b[0m                                 Traceback (most recent call last)",
      "Input \u001b[1;32mIn [38]\u001b[0m, in \u001b[0;36m<cell line: 1>\u001b[1;34m()\u001b[0m\n\u001b[1;32m----> 1\u001b[0m \u001b[38;5;28;01mwith\u001b[39;00m \u001b[43mRun\u001b[49m()\u001b[38;5;241m.\u001b[39mcontext(RunConfig(nranks\u001b[38;5;241m=\u001b[39m\u001b[38;5;241m1\u001b[39m, experiment\u001b[38;5;241m=\u001b[39m\u001b[38;5;124m\"\u001b[39m\u001b[38;5;124mmsmarco\u001b[39m\u001b[38;5;124m\"\u001b[39m)):\n\u001b[0;32m      2\u001b[0m     trainer \u001b[38;5;241m=\u001b[39m Trainer(\n\u001b[0;32m      3\u001b[0m         triples\u001b[38;5;241m=\u001b[39m  \u001b[38;5;124mr\u001b[39m\u001b[38;5;124m\"\u001b[39m\u001b[38;5;124m..\u001b[39m\u001b[38;5;124m\\\u001b[39m\u001b[38;5;124mdata\u001b[39m\u001b[38;5;124m\\\u001b[39m\u001b[38;5;124mmsmarco\u001b[39m\u001b[38;5;124m\\\u001b[39m\u001b[38;5;124msplade_triplets\u001b[39m\u001b[38;5;124m\"\u001b[39m,\n\u001b[0;32m      4\u001b[0m         queries\u001b[38;5;241m=\u001b[39m  \u001b[38;5;124mr\u001b[39m\u001b[38;5;124m\"\u001b[39m\u001b[38;5;124m..\u001b[39m\u001b[38;5;124m\\\u001b[39m\u001b[38;5;124mdata\u001b[39m\u001b[38;5;124m\\\u001b[39m\u001b[38;5;124mmsmarco\u001b[39m\u001b[38;5;124m\\\u001b[39m\u001b[38;5;124mtrain_queries\u001b[39m\u001b[38;5;124m\\\u001b[39m\u001b[38;5;124mqueries\u001b[39m\u001b[38;5;124m\\\u001b[39m\u001b[38;5;124mraw.tsv\u001b[39m\u001b[38;5;124m\"\u001b[39m,\n\u001b[0;32m      5\u001b[0m         collection\u001b[38;5;241m=\u001b[39m \u001b[38;5;124mr\u001b[39m\u001b[38;5;124m\"\u001b[39m\u001b[38;5;124m..\u001b[39m\u001b[38;5;124m\\\u001b[39m\u001b[38;5;124mdata\u001b[39m\u001b[38;5;124m\\\u001b[39m\u001b[38;5;124mmsmarco\u001b[39m\u001b[38;5;124m\\\u001b[39m\u001b[38;5;124mfull_collection\u001b[39m\u001b[38;5;124m\\\u001b[39m\u001b[38;5;124mraw.tsv\u001b[39m\u001b[38;5;124m\"\u001b[39m,\n\u001b[0;32m      6\u001b[0m         config\u001b[38;5;241m=\u001b[39mconfig,\n\u001b[0;32m      7\u001b[0m     )\n",
      "\u001b[1;31mNameError\u001b[0m: name 'Run' is not defined"
     ]
    }
   ],
   "source": [
    "with Run().context(RunConfig(nranks=1, experiment=\"msmarco\")):\n",
    "    trainer = Trainer(\n",
    "        triples=  r\"..\\data\\msmarco\\splade_triplets\",\n",
    "        queries=  r\"..\\data\\msmarco\\train_queries\\queries\\raw.tsv\",\n",
    "        collection= r\"..\\data\\msmarco\\full_collection\\raw.tsv\",\n",
    "        config=config,\n",
    "    )"
   ]
  },
  {
   "cell_type": "code",
   "execution_count": null,
   "metadata": {
    "collapsed": false
   },
   "outputs": [],
   "source": [
    "model =\n",
    "iterations = 1\n",
    "loss =\n",
    "optimizer =\n",
    "config = \"..\\conf\\config_splade++_cocondenser_ensembledistil_monogpu.yaml\"\n",
    "scheduler =\n",
    "train_loader =\n",
    "val_loss_loader =\n",
    "val_evaluator =\n",
    "regularizer =\n",
    "\n"
   ]
  },
  {
   "cell_type": "code",
   "execution_count": 23,
   "metadata": {
    "collapsed": false,
    "pycharm": {
     "name": "#%%bash\n"
    }
   },
   "outputs": [
    {
     "name": "stdout",
     "output_type": "stream",
     "text": [
      " Volume in drive C is Windows\n",
      " Volume Serial Number is C85C-4698\n",
      "\n",
      " Directory of C:\\Users\\jammo\\DataspellProjects\\capstone\\new_capstone_dir\\splade-colBERT\\splade\n",
      "\n",
      "10/02/2022  01:35 PM    <DIR>          .\n",
      "10/02/2022  01:35 PM    <DIR>          ..\n",
      "10/01/2022  11:52 AM    <DIR>          .ipynb_checkpoints\n",
      "09/26/2022  05:45 PM             6,799 conda_splade_env.yml\n",
      "10/02/2022  12:10 PM    <DIR>          conf\n",
      "10/01/2022  12:23 PM    <DIR>          data\n",
      "09/26/2022  05:45 PM    <DIR>          efficient_splade_pisa\n",
      "09/26/2022  05:45 PM    <DIR>          images\n",
      "10/02/2022  12:33 PM             9,352 inference_splade.ipynb\n",
      "09/26/2022  05:45 PM            33,764 LICENSE\n",
      "09/26/2022  05:45 PM            17,307 README.md\n",
      "09/26/2022  05:45 PM               743 setup.py\n",
      "10/01/2022  10:34 AM    <DIR>          splade\n",
      "10/02/2022  01:35 PM            17,556 splade_attempt_2.ipynb\n",
      "09/26/2022  05:45 PM    <DIR>          weights\n",
      "               6 File(s)         85,521 bytes\n",
      "               9 Dir(s)  56,088,412,160 bytes free\n"
     ]
    }
   ],
   "source": [
    "trainer = SiameseTransformerTrainer(model=model, iterations=iterations, loss=loss, optimizer=optimizer,\n",
    "                                    config=config, scheduler=scheduler,\n",
    "                                    train_loader=train_loader, validation_loss_loader=val_loss_loader,\n",
    "                                    validation_evaluator=val_evaluator,\n",
    "                                    regularizer=regularizer)\n",
    "trainer.train()"
   ]
  },
  {
   "cell_type": "code",
   "execution_count": 37,
   "metadata": {
    "collapsed": false
   },
   "outputs": [
    {
     "name": "stdout",
     "output_type": "stream",
     "text": [
      " Volume in drive C is Windows\n",
      " Volume Serial Number is C85C-4698\n",
      "\n",
      " Directory of C:\\Users\\jammo\\DataspellProjects\\capstone\\new_capstone_dir\\splade-colBERT\\splade\\data\\msmarco\\full_collection\n",
      "\n",
      "10/01/2022  12:23 PM    <DIR>          .\n",
      "10/01/2022  12:23 PM    <DIR>          ..\n",
      "04/20/2022  05:52 AM                 0 .skeleton\n",
      "04/20/2022  05:56 AM     3,047,524,442 raw.tsv\n",
      "               2 File(s)  3,047,524,442 bytes\n",
      "               2 Dir(s)  56,086,917,120 bytes free\n"
     ]
    }
   ],
   "source": [
    "ls data\\msmarco\\full_collection\\raw.tsv"
   ]
  },
  {
   "cell_type": "code",
   "execution_count": null,
   "metadata": {
    "collapsed": false
   },
   "outputs": [],
   "source": []
  }
 ],
 "metadata": {
  "kernelspec": {
   "display_name": "Python 3",
   "language": "python",
   "name": "python3"
  },
  "language_info": {
   "codemirror_mode": {
    "name": "ipython",
    "version": 2
   },
   "file_extension": ".py",
   "mimetype": "text/x-python",
   "name": "python",
   "nbconvert_exporter": "python",
   "pygments_lexer": "ipython2",
   "version": "2.7.6"
  }
 },
 "nbformat": 4,
 "nbformat_minor": 0
}
