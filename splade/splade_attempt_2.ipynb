{
 "cells": [
  {
   "cell_type": "code",
   "execution_count": 1,
   "metadata": {
    "collapsed": false
   },
   "outputs": [
    {
     "data": {
      "text/plain": [
       "'C:\\\\Users\\\\jammo\\\\DataspellProjects\\\\capstone\\\\new_capstone_dir\\\\splade-colBERT\\\\splade'"
      ]
     },
     "execution_count": 1,
     "metadata": {},
     "output_type": "execute_result"
    }
   ],
   "source": [
    "pwd"
   ]
  },
  {
   "cell_type": "markdown",
   "metadata": {
    "collapsed": false
   },
   "source": [
    "Just testing inference"
   ]
  },
  {
   "cell_type": "code",
   "execution_count": 41,
   "metadata": {
    "collapsed": false
   },
   "outputs": [
    {
     "name": "stdout",
     "output_type": "stream",
     "text": [
      "Collecting wandb\n",
      "  Downloading wandb-0.13.3-py2.py3-none-any.whl (1.8 MB)\n",
      "     ---------------------------------------- 1.8/1.8 MB 9.0 MB/s eta 0:00:00\n",
      "Requirement already satisfied: requests<3,>=2.0.0 in c:\\users\\jammo\\anaconda3\\envs\\capstone\\lib\\site-packages (from wandb) (2.28.1)\n",
      "Collecting setproctitle\n",
      "  Downloading setproctitle-1.3.2-cp39-cp39-win_amd64.whl (11 kB)\n",
      "Requirement already satisfied: protobuf<4.0dev,>=3.12.0 in c:\\users\\jammo\\anaconda3\\envs\\capstone\\lib\\site-packages (from wandb) (3.19.4)\n",
      "Requirement already satisfied: six>=1.13.0 in c:\\users\\jammo\\anaconda3\\envs\\capstone\\lib\\site-packages (from wandb) (1.16.0)\n",
      "Collecting docker-pycreds>=0.4.0\n",
      "  Downloading docker_pycreds-0.4.0-py2.py3-none-any.whl (9.0 kB)\n",
      "Requirement already satisfied: GitPython>=1.0.0 in c:\\users\\jammo\\anaconda3\\envs\\capstone\\lib\\site-packages (from wandb) (3.1.27)\n",
      "Requirement already satisfied: setuptools in c:\\users\\jammo\\anaconda3\\envs\\capstone\\lib\\site-packages (from wandb) (65.3.0)\n",
      "Collecting promise<3,>=2.0\n",
      "  Downloading promise-2.3.tar.gz (19 kB)\n",
      "  Preparing metadata (setup.py): started\n",
      "  Preparing metadata (setup.py): finished with status 'done'\n",
      "Collecting pathtools\n",
      "  Downloading pathtools-0.1.2.tar.gz (11 kB)\n",
      "  Preparing metadata (setup.py): started\n",
      "  Preparing metadata (setup.py): finished with status 'done'\n",
      "Collecting shortuuid>=0.5.0\n",
      "  Downloading shortuuid-1.0.9-py3-none-any.whl (9.4 kB)\n",
      "Requirement already satisfied: psutil>=5.0.0 in c:\\users\\jammo\\anaconda3\\envs\\capstone\\lib\\site-packages (from wandb) (5.9.2)\n",
      "Requirement already satisfied: Click!=8.0.0,>=7.0 in c:\\users\\jammo\\anaconda3\\envs\\capstone\\lib\\site-packages (from wandb) (8.1.3)\n",
      "Collecting sentry-sdk>=1.0.0\n",
      "  Downloading sentry_sdk-1.9.9-py2.py3-none-any.whl (162 kB)\n",
      "     -------------------------------------- 162.1/162.1 kB 4.7 MB/s eta 0:00:00\n",
      "Requirement already satisfied: PyYAML in c:\\users\\jammo\\anaconda3\\envs\\capstone\\lib\\site-packages (from wandb) (6.0)\n",
      "Requirement already satisfied: colorama in c:\\users\\jammo\\anaconda3\\envs\\capstone\\lib\\site-packages (from Click!=8.0.0,>=7.0->wandb) (0.4.5)\n",
      "Requirement already satisfied: gitdb<5,>=4.0.1 in c:\\users\\jammo\\anaconda3\\envs\\capstone\\lib\\site-packages (from GitPython>=1.0.0->wandb) (4.0.9)\n",
      "Requirement already satisfied: charset-normalizer<3,>=2 in c:\\users\\jammo\\anaconda3\\envs\\capstone\\lib\\site-packages (from requests<3,>=2.0.0->wandb) (2.1.1)\n",
      "Requirement already satisfied: idna<4,>=2.5 in c:\\users\\jammo\\anaconda3\\envs\\capstone\\lib\\site-packages (from requests<3,>=2.0.0->wandb) (3.3)\n",
      "Requirement already satisfied: certifi>=2017.4.17 in c:\\users\\jammo\\anaconda3\\envs\\capstone\\lib\\site-packages (from requests<3,>=2.0.0->wandb) (2022.6.15.1)\n",
      "Requirement already satisfied: urllib3<1.27,>=1.21.1 in c:\\users\\jammo\\anaconda3\\envs\\capstone\\lib\\site-packages (from requests<3,>=2.0.0->wandb) (1.26.12)\n",
      "Requirement already satisfied: smmap<6,>=3.0.1 in c:\\users\\jammo\\anaconda3\\envs\\capstone\\lib\\site-packages (from gitdb<5,>=4.0.1->GitPython>=1.0.0->wandb) (5.0.0)\n",
      "Building wheels for collected packages: promise, pathtools\n",
      "  Building wheel for promise (setup.py): started\n",
      "  Building wheel for promise (setup.py): finished with status 'done'\n",
      "  Created wheel for promise: filename=promise-2.3-py3-none-any.whl size=21486 sha256=7d20c575ef5a7d228325edbc6de9da0dc42102babbecc2374d6be1959c8407fc\n",
      "  Stored in directory: c:\\users\\jammo\\appdata\\local\\pip\\cache\\wheels\\e1\\e8\\83\\ddea66100678d139b14bc87692ece57c6a2a937956d2532608\n",
      "  Building wheel for pathtools (setup.py): started\n",
      "  Building wheel for pathtools (setup.py): finished with status 'done'\n",
      "  Created wheel for pathtools: filename=pathtools-0.1.2-py3-none-any.whl size=8792 sha256=d6ebe1ed2cb8ccda617d66aa6d53227769c19425dd553f8c0ef6d3ecb699e767\n",
      "  Stored in directory: c:\\users\\jammo\\appdata\\local\\pip\\cache\\wheels\\b7\\0a\\67\\ada2a22079218c75a88361c0782855cc72aebc4d18d0289d05\n",
      "Successfully built promise pathtools\n",
      "Installing collected packages: pathtools, shortuuid, setproctitle, sentry-sdk, promise, docker-pycreds, wandb\n",
      "Successfully installed docker-pycreds-0.4.0 pathtools-0.1.2 promise-2.3 sentry-sdk-1.9.9 setproctitle-1.3.2 shortuuid-1.0.9 wandb-0.13.3\n"
     ]
    }
   ],
   "source": [
    "!pip install wandb\n",
    "# wandb login"
   ]
  },
  {
   "cell_type": "code",
   "execution_count": 45,
   "metadata": {
    "collapsed": false
   },
   "outputs": [],
   "source": [
    "import wandb"
   ]
  },
  {
   "cell_type": "code",
   "execution_count": 47,
   "metadata": {
    "collapsed": false
   },
   "outputs": [
    {
     "data": {
      "text/plain": [
       "<function wandb.sdk.wandb_login.login(anonymous: Optional[Literal['must', 'allow', 'never']] = None, key: Optional[str] = None, relogin: Optional[bool] = None, host: Optional[str] = None, force: Optional[bool] = None, timeout: Optional[int] = None) -> bool>"
      ]
     },
     "execution_count": 47,
     "metadata": {},
     "output_type": "execute_result"
    }
   ],
   "source": [
    "# wandb.login"
   ]
  },
  {
   "cell_type": "code",
   "execution_count": 2,
   "metadata": {
    "collapsed": true
   },
   "outputs": [],
   "source": [
    "import torch\n",
    "from transformers import AutoModelForMaskedLM, AutoTokenizer\n",
    "from splade.models.transformer_rep import Splade"
   ]
  },
  {
   "cell_type": "code",
   "execution_count": 3,
   "metadata": {
    "collapsed": false
   },
   "outputs": [],
   "source": [
    "# set the dir for trained weights\n",
    "\n",
    "##### v2\n",
    "# model_type_or_dir = \"weights/splade_max\"\n",
    "# model_type_or_dir = \"weights/distilsplade_max\"\n",
    "\n",
    "### v2bis, directly download from Hugging Face\n",
    "# model_type_or_dir = \"naver/splade-cocondenser-selfdistil\"\n",
    "model_type_or_dir = \"naver/splade-cocondenser-ensembledistil\""
   ]
  },
  {
   "cell_type": "code",
   "execution_count": 4,
   "metadata": {
    "collapsed": false
   },
   "outputs": [],
   "source": [
    "# loading model and tokenizer\n",
    "\n",
    "model = Splade(model_type_or_dir, agg=\"max\")\n",
    "model.eval()\n",
    "tokenizer = AutoTokenizer.from_pretrained(model_type_or_dir)\n",
    "reverse_voc = {v: k for k, v in tokenizer.vocab.items()}"
   ]
  },
  {
   "cell_type": "code",
   "execution_count": 5,
   "metadata": {
    "collapsed": false
   },
   "outputs": [],
   "source": [
    "# example document from MS MARCO passage collection (doc_id = 8003157)\n",
    "\n",
    "doc = \"Glass and Thermal Stress. Thermal Stress is created when one area of a glass pane gets hotter than an adjacent area. If the stress is too great then the glass will crack. The stress level at which the glass will break is governed by several factors.\""
   ]
  },
  {
   "cell_type": "code",
   "execution_count": 6,
   "metadata": {
    "collapsed": false
   },
   "outputs": [
    {
     "name": "stdout",
     "output_type": "stream",
     "text": [
      "number of actual dimensions:  126\n",
      "SPLADE BOW rep:\n",
      " [('stress', 2.25), ('glass', 2.23), ('thermal', 2.18), ('glasses', 1.65), ('pan', 1.62), ('heat', 1.56), ('stressed', 1.42), ('crack', 1.31), ('break', 1.12), ('cracked', 1.1), ('hot', 0.93), ('created', 0.9), ('factors', 0.81), ('broken', 0.73), ('caused', 0.71), ('too', 0.71), ('damage', 0.69), ('if', 0.68), ('hotter', 0.65), ('governed', 0.61), ('heating', 0.59), ('temperature', 0.59), ('adjacent', 0.59), ('cause', 0.58), ('effect', 0.57), ('fracture', 0.56), ('bradford', 0.55), ('strain', 0.53), ('hammer', 0.51), ('brian', 0.48), ('error', 0.47), ('windows', 0.45), ('will', 0.45), ('reaction', 0.42), ('create', 0.42), ('windshield', 0.41), ('heated', 0.41), ('factor', 0.4), ('cracking', 0.39), ('failure', 0.38), ('mechanical', 0.38), ('when', 0.38), ('formed', 0.38), ('bolt', 0.38), ('mechanism', 0.37), ('warm', 0.37), ('areas', 0.36), ('area', 0.36), ('energy', 0.34), ('disorder', 0.33), ('barry', 0.33), ('shock', 0.32), ('determined', 0.32), ('gage', 0.32), ('sash', 0.31), ('theory', 0.31), ('level', 0.31), ('resistant', 0.31), ('brake', 0.3), ('window', 0.3), ('crash', 0.3), ('hazard', 0.29), ('##ink', 0.27), ('ceramic', 0.27), ('storm', 0.25), ('problem', 0.25), ('issue', 0.24), ('impact', 0.24), ('fridge', 0.24), ('injury', 0.23), ('ross', 0.22), ('causes', 0.22), ('affect', 0.21), ('pressure', 0.21), ('fatigue', 0.21), ('leak', 0.21), ('eye', 0.2), ('frank', 0.2), ('cool', 0.2), ('might', 0.19), ('gravity', 0.18), ('ray', 0.18), ('static', 0.18), ('collapse', 0.18), ('physics', 0.18), ('wave', 0.18), ('reflection', 0.17), ('parker', 0.17), ('strike', 0.17), ('hottest', 0.17), ('burst', 0.16), ('chance', 0.16), ('burn', 0.14), ('rubbing', 0.14), ('interference', 0.14), ('bailey', 0.13), ('vibration', 0.12), ('gilbert', 0.12), ('produced', 0.12), ('rock', 0.12), ('warmer', 0.11), ('get', 0.11), ('drink', 0.11), ('fireplace', 0.11), ('ruin', 0.1), ('brittle', 0.1), ('fragment', 0.1), ('stumble', 0.09), ('formation', 0.09), ('shatter', 0.08), ('great', 0.08), ('friction', 0.08), ('flash', 0.07), ('cracks', 0.07), ('levels', 0.07), ('smash', 0.04), ('fail', 0.04), ('fra', 0.04), ('##glass', 0.03), ('variables', 0.03), ('because', 0.02), ('knock', 0.02), ('sun', 0.02), ('crush', 0.01), ('##e', 0.01), ('anger', 0.01)]\n"
     ]
    }
   ],
   "source": [
    "# now compute the document representation\n",
    "with torch.no_grad():\n",
    "    doc_rep = model(d_kwargs=tokenizer(doc, return_tensors=\"pt\"))[\"d_rep\"].squeeze()  # (sparse) doc rep in voc space, shape (30522,)\n",
    "\n",
    "# get the number of non-zero dimensions in the rep:\n",
    "col = torch.nonzero(doc_rep).squeeze().cpu().tolist()\n",
    "print(\"number of actual dimensions: \", len(col))\n",
    "\n",
    "# now let's inspect the bow representation:\n",
    "weights = doc_rep[col].cpu().tolist()\n",
    "d = {k: v for k, v in zip(col, weights)}\n",
    "sorted_d = {k: v for k, v in sorted(d.items(), key=lambda item: item[1], reverse=True)}\n",
    "bow_rep = []\n",
    "for k, v in sorted_d.items():\n",
    "    bow_rep.append((reverse_voc[k], round(v, 2)))\n",
    "print(\"SPLADE BOW rep:\\n\", bow_rep)"
   ]
  },
  {
   "cell_type": "markdown",
   "metadata": {
    "collapsed": false
   },
   "source": [
    "Trying to run splade"
   ]
  },
  {
   "cell_type": "code",
   "execution_count": 7,
   "metadata": {
    "collapsed": false
   },
   "outputs": [
    {
     "name": "stdout",
     "output_type": "stream",
     "text": [
      " Volume in drive C is Windows\n",
      " Volume Serial Number is C85C-4698\n",
      "\n",
      " Directory of C:\\Users\\jammo\\DataspellProjects\\capstone\\new_capstone_dir\\splade-colBERT\\splade\n",
      "\n",
      "10/02/2022  12:33 PM    <DIR>          .\n",
      "10/02/2022  12:33 PM    <DIR>          ..\n",
      "10/01/2022  11:52 AM    <DIR>          .ipynb_checkpoints\n",
      "09/26/2022  05:45 PM             6,799 conda_splade_env.yml\n",
      "10/02/2022  12:10 PM    <DIR>          conf\n",
      "10/01/2022  12:23 PM    <DIR>          data\n",
      "09/26/2022  05:45 PM    <DIR>          efficient_splade_pisa\n",
      "09/26/2022  05:45 PM    <DIR>          images\n",
      "10/02/2022  12:33 PM             9,352 inference_splade.ipynb\n",
      "09/26/2022  05:45 PM            33,764 LICENSE\n",
      "09/26/2022  05:45 PM            17,307 README.md\n",
      "09/26/2022  05:45 PM               743 setup.py\n",
      "10/01/2022  10:34 AM    <DIR>          splade\n",
      "10/02/2022  12:24 PM            15,120 splade_attempt_2.ipynb\n",
      "09/26/2022  05:45 PM    <DIR>          weights\n",
      "               6 File(s)         83,085 bytes\n",
      "               9 Dir(s)  56,115,101,696 bytes free\n"
     ]
    }
   ],
   "source": [
    "ls"
   ]
  },
  {
   "cell_type": "code",
   "execution_count": 8,
   "metadata": {
    "collapsed": false
   },
   "outputs": [
    {
     "name": "stdout",
     "output_type": "stream",
     "text": [
      " Volume in drive C is Windows\n",
      " Volume Serial Number is C85C-4698\n",
      "\n",
      " Directory of C:\\Users\\jammo\\DataspellProjects\\capstone\\new_capstone_dir\\splade-colBERT\\splade\n",
      "\n",
      "10/02/2022  12:33 PM    <DIR>          .\n",
      "10/02/2022  12:33 PM    <DIR>          ..\n",
      "10/01/2022  11:52 AM    <DIR>          .ipynb_checkpoints\n",
      "09/26/2022  05:45 PM             6,799 conda_splade_env.yml\n",
      "10/02/2022  12:10 PM    <DIR>          conf\n",
      "10/01/2022  12:23 PM    <DIR>          data\n",
      "09/26/2022  05:45 PM    <DIR>          efficient_splade_pisa\n",
      "09/26/2022  05:45 PM    <DIR>          images\n",
      "10/02/2022  12:33 PM             9,352 inference_splade.ipynb\n",
      "09/26/2022  05:45 PM            33,764 LICENSE\n",
      "09/26/2022  05:45 PM            17,307 README.md\n",
      "09/26/2022  05:45 PM               743 setup.py\n",
      "10/01/2022  10:34 AM    <DIR>          splade\n",
      "10/02/2022  12:24 PM            15,120 splade_attempt_2.ipynb\n",
      "09/26/2022  05:45 PM    <DIR>          weights\n",
      "               6 File(s)         83,085 bytes\n",
      "               9 Dir(s)  56,115,101,696 bytes free\n"
     ]
    }
   ],
   "source": [
    "ls"
   ]
  },
  {
   "cell_type": "code",
   "execution_count": 9,
   "metadata": {
    "collapsed": false
   },
   "outputs": [
    {
     "name": "stdout",
     "output_type": "stream",
     "text": [
      " Volume in drive C is Windows\n",
      " Volume Serial Number is C85C-4698\n",
      "\n",
      " Directory of C:\\Users\\jammo\\DataspellProjects\\capstone\\new_capstone_dir\\splade-colBERT\\splade\n",
      "\n",
      "10/02/2022  12:33 PM    <DIR>          .\n",
      "10/02/2022  12:33 PM    <DIR>          ..\n",
      "10/01/2022  11:52 AM    <DIR>          .ipynb_checkpoints\n",
      "09/26/2022  05:45 PM             6,799 conda_splade_env.yml\n",
      "10/02/2022  12:10 PM    <DIR>          conf\n",
      "10/01/2022  12:23 PM    <DIR>          data\n",
      "09/26/2022  05:45 PM    <DIR>          efficient_splade_pisa\n",
      "09/26/2022  05:45 PM    <DIR>          images\n",
      "10/02/2022  12:33 PM             9,352 inference_splade.ipynb\n",
      "09/26/2022  05:45 PM            33,764 LICENSE\n",
      "09/26/2022  05:45 PM            17,307 README.md\n",
      "09/26/2022  05:45 PM               743 setup.py\n",
      "10/01/2022  10:34 AM    <DIR>          splade\n",
      "10/02/2022  12:24 PM            15,120 splade_attempt_2.ipynb\n",
      "09/26/2022  05:45 PM    <DIR>          weights\n",
      "               6 File(s)         83,085 bytes\n",
      "               9 Dir(s)  56,115,101,696 bytes free\n"
     ]
    }
   ],
   "source": [
    "ls"
   ]
  },
  {
   "cell_type": "code",
   "execution_count": 10,
   "metadata": {
    "collapsed": false
   },
   "outputs": [
    {
     "name": "stdout",
     "output_type": "stream",
     "text": [
      " Volume in drive C is Windows\n",
      " Volume Serial Number is C85C-4698\n",
      "\n",
      " Directory of C:\\Users\\jammo\\DataspellProjects\\capstone\\new_capstone_dir\\splade-colBERT\\splade\\splade\n",
      "\n",
      "10/01/2022  10:34 AM    <DIR>          .\n",
      "10/01/2022  10:34 AM    <DIR>          ..\n",
      "09/26/2022  05:45 PM                 0 __init__.py\n",
      "10/02/2022  12:23 PM    <DIR>          __pycache__\n",
      "09/26/2022  05:45 PM               659 all.py\n",
      "09/26/2022  05:45 PM             4,360 beir_eval.py\n",
      "09/26/2022  05:45 PM             2,342 create_anserini.py\n",
      "10/02/2022  12:10 PM    <DIR>          datasets\n",
      "09/26/2022  05:45 PM             1,499 evaluate.py\n",
      "10/02/2022  12:23 PM    <DIR>          evaluation\n",
      "09/26/2022  05:45 PM             2,662 flops.py\n",
      "09/26/2022  05:45 PM             1,264 index.py\n",
      "10/02/2022  12:10 PM    <DIR>          indexing\n",
      "10/01/2022  10:34 AM    <DIR>          losses\n",
      "10/01/2022  10:34 AM    <DIR>          models\n",
      "10/02/2022  12:10 PM    <DIR>          optim\n",
      "09/26/2022  05:45 PM             1,635 retrieve.py\n",
      "10/01/2022  10:34 AM    <DIR>          tasks\n",
      "09/26/2022  05:45 PM            11,721 train.py\n",
      "10/01/2022  10:34 AM    <DIR>          utils\n",
      "               9 File(s)         26,142 bytes\n",
      "              11 Dir(s)  56,115,101,696 bytes free\n"
     ]
    }
   ],
   "source": [
    "ls ..\\splade\\splade"
   ]
  },
  {
   "cell_type": "code",
   "execution_count": 11,
   "metadata": {
    "collapsed": false
   },
   "outputs": [],
   "source": [
    "marco_path = '..\\splade\\data\\msmarco'"
   ]
  },
  {
   "cell_type": "code",
   "execution_count": 12,
   "metadata": {
    "collapsed": false
   },
   "outputs": [
    {
     "data": {
      "text/plain": [
       "'..\\\\splade\\\\data\\\\msmarco'"
      ]
     },
     "execution_count": 12,
     "metadata": {},
     "output_type": "execute_result"
    }
   ],
   "source": [
    "marco_path"
   ]
  },
  {
   "cell_type": "code",
   "execution_count": null,
   "metadata": {
    "collapsed": false
   },
   "outputs": [],
   "source": [
    "dataset = {'D_COLLECTION_PATH': 'data/toy_data/val_collection', 'Q_COLLECTION_PATH': 'data/toy_data/val_queries', 'QREL_PATH': 'data/toy_data/qrel/qrel.json', 'TOP_K': 20}, 'COLLECTION_PATH': 'data/toy_data/full_collection', 'Q_COLLECTION_PATH': ['data/toy_data/dev_queries'], 'EVAL_QREL_PATH': ['data/toy_data/qrel/qrel.json'], 'flops_queries': 'data/toy_data/dev_queries'}"
   ]
  },
  {
   "cell_type": "markdown",
   "metadata": {
    "collapsed": false
   },
   "source": []
  },
  {
   "cell_type": "code",
   "execution_count": 54,
   "metadata": {
    "collapsed": false
   },
   "outputs": [
    {
     "name": "stdout",
     "output_type": "stream",
     "text": [
      "config:\n",
      "  lr: 2.0e-05\n",
      "  seed: 123\n",
      "  gradient_accumulation_steps: 1\n",
      "  weight_decay: 0.01\n",
      "  validation_metrics:\n",
      "  - MRR@10\n",
      "  - recall@100\n",
      "  - recall@200\n",
      "  - recall@500\n",
      "  pretrained_no_yamlconfig: false\n",
      "  nb_iterations: 10\n",
      "  train_batch_size: 6\n",
      "  eval_batch_size: 8\n",
      "  index_retrieve_batch_size: 6\n",
      "  record_frequency: 3\n",
      "  train_monitoring_freq: 2\n",
      "  warmup_steps: 5\n",
      "  max_length: 10\n",
      "  fp16: false\n",
      "  augment_pairs: in_batch_negatives\n",
      "  matching_type: splade\n",
      "  monitoring_ckpt: loss\n",
      "  loss: InBatchPairwiseNLL\n",
      "  regularizer:\n",
      "    FLOPS:\n",
      "      lambda_q: 0.0005\n",
      "      lambda_d: 0.0003\n",
      "      T: 3\n",
      "      targeted_rep: rep\n",
      "      reg: FLOPS\n",
      "  tokenizer_type: distilbert-base-uncased\n",
      "  top_k: 5\n",
      "  threshold: 0.4\n",
      "  eval_metric:\n",
      "  - - mrr_10\n",
      "    - recall\n",
      "  checkpoint_dir: data/msmarco\n",
      "  index_dir: ???\n",
      "  out_dir: ???\n",
      "data:\n",
      "  type: triplets\n",
      "  TRAIN_DATA_DIR: data/toy_data/triplets\n",
      "  VALIDATION_SIZE_FOR_LOSS: 20\n",
      "  VALIDATION_FULL_RANKING:\n",
      "    D_COLLECTION_PATH: data/toy_data/val_collection\n",
      "    Q_COLLECTION_PATH: data/toy_data/val_queries\n",
      "    QREL_PATH: data/toy_data/qrel/qrel.json\n",
      "    TOP_K: 20\n",
      "  COLLECTION_PATH: data/toy_data/full_collection\n",
      "  Q_COLLECTION_PATH:\n",
      "  - data/toy_data/dev_queries\n",
      "  EVAL_QREL_PATH:\n",
      "  - data/toy_data/qrel/qrel.json\n",
      "  flops_queries: data/toy_data/dev_queries\n",
      "init_dict:\n",
      "  model_type_or_dir: distilbert-base-uncased\n",
      "  model_type_or_dir_q: null\n",
      "  freeze_d_model: 0\n",
      "  agg: max\n",
      "  fp16: false\n",
      "\n",
      "config:\n",
      "  lr: 2.0e-05\n",
      "  seed: 123\n",
      "  gradient_accumulation_steps: 1\n",
      "  weight_decay: 0.01\n",
      "  validation_metrics:\n",
      "  - MRR@10\n",
      "  - recall@100\n",
      "  - recall@200\n",
      "  - recall@500\n",
      "  pretrained_no_yamlconfig: false\n",
      "  nb_iterations: 10\n",
      "  train_batch_size: 6\n",
      "  eval_batch_size: 8\n",
      "  index_retrieve_batch_size: 6\n",
      "  record_frequency: 3\n",
      "  train_monitoring_freq: 2\n",
      "  warmup_steps: 5\n",
      "  max_length: 10\n",
      "  fp16: false\n",
      "  augment_pairs: in_batch_negatives\n",
      "  matching_type: splade\n",
      "  monitoring_ckpt: loss\n",
      "  loss: InBatchPairwiseNLL\n",
      "  regularizer:\n",
      "    FLOPS:\n",
      "      lambda_q: 0.0005\n",
      "      lambda_d: 0.0003\n",
      "      T: 3\n",
      "      targeted_rep: rep\n",
      "      reg: FLOPS\n",
      "  tokenizer_type: distilbert-base-uncased\n",
      "  top_k: 5\n",
      "  threshold: 0.4\n",
      "  eval_metric:\n",
      "  - - mrr_10\n",
      "    - recall\n",
      "  checkpoint_dir: data/msmarco\n",
      "  index_dir: ???\n",
      "  out_dir: ???\n",
      "data:\n",
      "  type: triplets\n",
      "  TRAIN_DATA_DIR: data/toy_data/triplets\n",
      "  VALIDATION_SIZE_FOR_LOSS: 20\n",
      "  VALIDATION_FULL_RANKING:\n",
      "    D_COLLECTION_PATH: data/toy_data/val_collection\n",
      "    Q_COLLECTION_PATH: data/toy_data/val_queries\n",
      "    QREL_PATH: data/toy_data/qrel/qrel.json\n",
      "    TOP_K: 20\n",
      "  COLLECTION_PATH: data/toy_data/full_collection\n",
      "  Q_COLLECTION_PATH:\n",
      "  - data/toy_data/dev_queries\n",
      "  EVAL_QREL_PATH:\n",
      "  - data/toy_data/qrel/qrel.json\n",
      "  flops_queries: data/toy_data/dev_queries\n",
      "init_dict:\n",
      "  model_type_or_dir: distilbert-base-uncased\n",
      "  model_type_or_dir_q: null\n",
      "  freeze_d_model: 0\n",
      "  agg: max\n",
      "  fp16: false\n",
      "\n"
     ]
    },
    {
     "ename": "AttributeError",
     "evalue": "'dict' object has no attribute 'config'",
     "output_type": "error",
     "traceback": [
      "\u001b[1;31m---------------------------------------------------------------------------\u001b[0m",
      "\u001b[1;31mAttributeError\u001b[0m                            Traceback (most recent call last)",
      "Input \u001b[1;32mIn [54]\u001b[0m, in \u001b[0;36m<cell line: 7>\u001b[1;34m()\u001b[0m\n\u001b[0;32m      1\u001b[0m \u001b[38;5;28;01mfrom\u001b[39;00m \u001b[38;5;21;01msplade\u001b[39;00m \u001b[38;5;28;01mimport\u001b[39;00m \u001b[38;5;28mall\u001b[39m\n\u001b[0;32m      3\u001b[0m config \u001b[38;5;241m=\u001b[39m {\u001b[38;5;124m'\u001b[39m\u001b[38;5;124mconfig\u001b[39m\u001b[38;5;124m'\u001b[39m: {\u001b[38;5;124m'\u001b[39m\u001b[38;5;124mlr\u001b[39m\u001b[38;5;124m'\u001b[39m: \u001b[38;5;241m2e-05\u001b[39m, \u001b[38;5;124m'\u001b[39m\u001b[38;5;124mseed\u001b[39m\u001b[38;5;124m'\u001b[39m: \u001b[38;5;241m123\u001b[39m, \u001b[38;5;124m'\u001b[39m\u001b[38;5;124mgradient_accumulation_steps\u001b[39m\u001b[38;5;124m'\u001b[39m: \u001b[38;5;241m1\u001b[39m, \u001b[38;5;124m'\u001b[39m\u001b[38;5;124mweight_decay\u001b[39m\u001b[38;5;124m'\u001b[39m: \u001b[38;5;241m0.01\u001b[39m, \u001b[38;5;124m'\u001b[39m\u001b[38;5;124mvalidation_metrics\u001b[39m\u001b[38;5;124m'\u001b[39m: [\u001b[38;5;124m'\u001b[39m\u001b[38;5;124mMRR@10\u001b[39m\u001b[38;5;124m'\u001b[39m, \u001b[38;5;124m'\u001b[39m\u001b[38;5;124mrecall@100\u001b[39m\u001b[38;5;124m'\u001b[39m, \u001b[38;5;124m'\u001b[39m\u001b[38;5;124mrecall@200\u001b[39m\u001b[38;5;124m'\u001b[39m, \u001b[38;5;124m'\u001b[39m\u001b[38;5;124mrecall@500\u001b[39m\u001b[38;5;124m'\u001b[39m], \u001b[38;5;124m'\u001b[39m\u001b[38;5;124mpretrained_no_yamlconfig\u001b[39m\u001b[38;5;124m'\u001b[39m: \u001b[38;5;28;01mFalse\u001b[39;00m, \u001b[38;5;124m'\u001b[39m\u001b[38;5;124mnb_iterations\u001b[39m\u001b[38;5;124m'\u001b[39m: \u001b[38;5;241m10\u001b[39m, \u001b[38;5;124m'\u001b[39m\u001b[38;5;124mtrain_batch_size\u001b[39m\u001b[38;5;124m'\u001b[39m: \u001b[38;5;241m6\u001b[39m, \u001b[38;5;124m'\u001b[39m\u001b[38;5;124meval_batch_size\u001b[39m\u001b[38;5;124m'\u001b[39m: \u001b[38;5;241m8\u001b[39m, \u001b[38;5;124m'\u001b[39m\u001b[38;5;124mindex_retrieve_batch_size\u001b[39m\u001b[38;5;124m'\u001b[39m: \u001b[38;5;241m6\u001b[39m, \u001b[38;5;124m'\u001b[39m\u001b[38;5;124mrecord_frequency\u001b[39m\u001b[38;5;124m'\u001b[39m: \u001b[38;5;241m3\u001b[39m, \u001b[38;5;124m'\u001b[39m\u001b[38;5;124mtrain_monitoring_freq\u001b[39m\u001b[38;5;124m'\u001b[39m:\n\u001b[0;32m      4\u001b[0m     \u001b[38;5;241m2\u001b[39m, \u001b[38;5;124m'\u001b[39m\u001b[38;5;124mwarmup_steps\u001b[39m\u001b[38;5;124m'\u001b[39m: \u001b[38;5;241m5\u001b[39m, \u001b[38;5;124m'\u001b[39m\u001b[38;5;124mmax_length\u001b[39m\u001b[38;5;124m'\u001b[39m: \u001b[38;5;241m10\u001b[39m, \u001b[38;5;124m'\u001b[39m\u001b[38;5;124mfp16\u001b[39m\u001b[38;5;124m'\u001b[39m: \u001b[38;5;28;01mFalse\u001b[39;00m, \u001b[38;5;124m'\u001b[39m\u001b[38;5;124maugment_pairs\u001b[39m\u001b[38;5;124m'\u001b[39m: \u001b[38;5;124m'\u001b[39m\u001b[38;5;124min_batch_negatives\u001b[39m\u001b[38;5;124m'\u001b[39m, \u001b[38;5;124m'\u001b[39m\u001b[38;5;124mmatching_type\u001b[39m\u001b[38;5;124m'\u001b[39m: \u001b[38;5;124m'\u001b[39m\u001b[38;5;124msplade\u001b[39m\u001b[38;5;124m'\u001b[39m, \u001b[38;5;124m'\u001b[39m\u001b[38;5;124mmonitoring_ckpt\u001b[39m\u001b[38;5;124m'\u001b[39m: \u001b[38;5;124m'\u001b[39m\u001b[38;5;124mloss\u001b[39m\u001b[38;5;124m'\u001b[39m, \u001b[38;5;124m'\u001b[39m\u001b[38;5;124mloss\u001b[39m\u001b[38;5;124m'\u001b[39m: \u001b[38;5;124m'\u001b[39m\u001b[38;5;124mInBatchPairwiseNLL\u001b[39m\u001b[38;5;124m'\u001b[39m, \u001b[38;5;124m'\u001b[39m\u001b[38;5;124mregularizer\u001b[39m\u001b[38;5;124m'\u001b[39m: {\u001b[38;5;124m'\u001b[39m\u001b[38;5;124mFLOPS\u001b[39m\u001b[38;5;124m'\u001b[39m: {\u001b[38;5;124m'\u001b[39m\u001b[38;5;124mlambda_q\u001b[39m\u001b[38;5;124m'\u001b[39m: \u001b[38;5;241m0.0005\u001b[39m, \u001b[38;5;124m'\u001b[39m\u001b[38;5;124mlambda_d\u001b[39m\u001b[38;5;124m'\u001b[39m: \u001b[38;5;241m0.0003\u001b[39m, \u001b[38;5;124m'\u001b[39m\u001b[38;5;124mT\u001b[39m\u001b[38;5;124m'\u001b[39m: \u001b[38;5;241m3\u001b[39m, \u001b[38;5;124m'\u001b[39m\u001b[38;5;124mtargeted_rep\u001b[39m\u001b[38;5;124m'\u001b[39m: \u001b[38;5;124m'\u001b[39m\u001b[38;5;124mrep\u001b[39m\u001b[38;5;124m'\u001b[39m, \u001b[38;5;124m'\u001b[39m\u001b[38;5;124mreg\u001b[39m\u001b[38;5;124m'\u001b[39m: \u001b[38;5;124m'\u001b[39m\u001b[38;5;124mFLOPS\u001b[39m\u001b[38;5;124m'\u001b[39m}}, \u001b[38;5;124m'\u001b[39m\u001b[38;5;124mtokenizer_type\u001b[39m\u001b[38;5;124m'\u001b[39m: \u001b[38;5;124m'\u001b[39m\u001b[38;5;124mdistilbert-base-uncased\u001b[39m\u001b[38;5;124m'\u001b[39m, \u001b[38;5;124m'\u001b[39m\u001b[38;5;124mtop_k\u001b[39m\u001b[38;5;124m'\u001b[39m: \u001b[38;5;241m5\u001b[39m, \u001b[38;5;124m'\u001b[39m\u001b[38;5;124mthreshold\u001b[39m\u001b[38;5;124m'\u001b[39m: \u001b[38;5;241m0.4\u001b[39m, \u001b[38;5;124m'\u001b[39m\u001b[38;5;124meval_metric\u001b[39m\u001b[38;5;124m'\u001b[39m: [[\u001b[38;5;124m'\u001b[39m\u001b[38;5;124mmrr_10\u001b[39m\u001b[38;5;124m'\u001b[39m, \u001b[38;5;124m'\u001b[39m\u001b[38;5;124mrecall\u001b[39m\u001b[38;5;124m'\u001b[39m]], \u001b[38;5;124m'\u001b[39m\u001b[38;5;124mcheckpoint_dir\u001b[39m\u001b[38;5;124m'\u001b[39m: \u001b[38;5;124m'\u001b[39m\u001b[38;5;124mdata/msmarco\u001b[39m\u001b[38;5;124m'\u001b[39m, \u001b[38;5;124m'\u001b[39m\u001b[38;5;124mindex_dir\u001b[39m\u001b[38;5;124m'\u001b[39m: \u001b[38;5;124m'\u001b[39m\u001b[38;5;124m???\u001b[39m\u001b[38;5;124m'\u001b[39m, \u001b[38;5;124m'\u001b[39m\u001b[38;5;124mout_dir\u001b[39m\u001b[38;5;124m'\u001b[39m: \u001b[38;5;124m'\u001b[39m\u001b[38;5;124m???\u001b[39m\u001b[38;5;124m'\u001b[39m}, \u001b[38;5;124m'\u001b[39m\u001b[38;5;124mdata\u001b[39m\u001b[38;5;124m'\u001b[39m: {\u001b[38;5;124m'\u001b[39m\u001b[38;5;124mtype\u001b[39m\u001b[38;5;124m'\u001b[39m: \u001b[38;5;124m'\u001b[39m\u001b[38;5;124mtriplets\u001b[39m\u001b[38;5;124m'\u001b[39m, \u001b[38;5;124m'\u001b[39m\u001b[38;5;124mTRAIN_DATA_DIR\u001b[39m\u001b[38;5;124m'\u001b[39m: \u001b[38;5;124m'\u001b[39m\u001b[38;5;124mdata/toy_data/triplets\u001b[39m\u001b[38;5;124m'\u001b[39m, \u001b[38;5;124m'\u001b[39m\u001b[38;5;124mVALIDATION_SIZE_FOR_LOSS\u001b[39m\u001b[38;5;124m'\u001b[39m: \u001b[38;5;241m20\u001b[39m, \u001b[38;5;124m'\u001b[39m\u001b[38;5;124mVALIDATION_FULL_RANKING\u001b[39m\u001b[38;5;124m'\u001b[39m: {\u001b[38;5;124m'\u001b[39m\u001b[38;5;124mD_COLLECTION_PATH\u001b[39m\u001b[38;5;124m'\u001b[39m: \u001b[38;5;124m'\u001b[39m\u001b[38;5;124mdata/toy_data/val_collection\u001b[39m\u001b[38;5;124m'\u001b[39m, \u001b[38;5;124m'\u001b[39m\u001b[38;5;124mQ_COLLECTION_PATH\u001b[39m\u001b[38;5;124m'\u001b[39m: \u001b[38;5;124m'\u001b[39m\u001b[38;5;124mdata/toy_data/val_queries\u001b[39m\u001b[38;5;124m'\u001b[39m, \u001b[38;5;124m'\u001b[39m\u001b[38;5;124mQREL_PATH\u001b[39m\u001b[38;5;124m'\u001b[39m: \u001b[38;5;124m'\u001b[39m\u001b[38;5;124mdata/toy_data/qrel/qrel.json\u001b[39m\u001b[38;5;124m'\u001b[39m, \u001b[38;5;124m'\u001b[39m\u001b[38;5;124mTOP_K\u001b[39m\u001b[38;5;124m'\u001b[39m: \u001b[38;5;241m20\u001b[39m}, \u001b[38;5;124m'\u001b[39m\u001b[38;5;124mCOLLECTION_PATH\u001b[39m\u001b[38;5;124m'\u001b[39m: \u001b[38;5;124m'\u001b[39m\u001b[38;5;124mdata/toy_data/full_collection\u001b[39m\u001b[38;5;124m'\u001b[39m, \u001b[38;5;124m'\u001b[39m\u001b[38;5;124mQ_COLLECTION_PATH\u001b[39m\u001b[38;5;124m'\u001b[39m: [\u001b[38;5;124m'\u001b[39m\u001b[38;5;124mdata/toy_data/dev_queries\u001b[39m\u001b[38;5;124m'\u001b[39m], \u001b[38;5;124m'\u001b[39m\u001b[38;5;124mEVAL_QREL_PATH\u001b[39m\u001b[38;5;124m'\u001b[39m: [\u001b[38;5;124m'\u001b[39m\u001b[38;5;124mdata/toy_data/qrel/qrel.json\u001b[39m\u001b[38;5;124m'\u001b[39m], \u001b[38;5;124m'\u001b[39m\u001b[38;5;124mflops_queries\u001b[39m\u001b[38;5;124m'\u001b[39m: \u001b[38;5;124m'\u001b[39m\u001b[38;5;124mdata/toy_data/dev_queries\u001b[39m\u001b[38;5;124m'\u001b[39m}, \u001b[38;5;124m'\u001b[39m\u001b[38;5;124minit_dict\u001b[39m\u001b[38;5;124m'\u001b[39m: {\u001b[38;5;124m'\u001b[39m\u001b[38;5;124mmodel_type_or_dir\u001b[39m\u001b[38;5;124m'\u001b[39m: \u001b[38;5;124m'\u001b[39m\u001b[38;5;124mdistilbert-base-uncased\u001b[39m\u001b[38;5;124m'\u001b[39m, \u001b[38;5;124m'\u001b[39m\u001b[38;5;124mmodel_type_or_dir_q\u001b[39m\u001b[38;5;124m'\u001b[39m: \u001b[38;5;28;01mNone\u001b[39;00m, \u001b[38;5;124m'\u001b[39m\u001b[38;5;124mfreeze_d_model\u001b[39m\u001b[38;5;124m'\u001b[39m: \u001b[38;5;241m0\u001b[39m, \u001b[38;5;124m'\u001b[39m\u001b[38;5;124magg\u001b[39m\u001b[38;5;124m'\u001b[39m: \u001b[38;5;124m'\u001b[39m\u001b[38;5;124mmax\u001b[39m\u001b[38;5;124m'\u001b[39m, \u001b[38;5;124m'\u001b[39m\u001b[38;5;124mfp16\u001b[39m\u001b[38;5;124m'\u001b[39m: \u001b[38;5;28;01mFalse\u001b[39;00m}}\n\u001b[1;32m----> 7\u001b[0m \u001b[38;5;28;43mall\u001b[39;49m\u001b[38;5;241;43m.\u001b[39;49m\u001b[43mtrain_index_retrieve\u001b[49m\u001b[43m(\u001b[49m\u001b[43mconfig\u001b[49m\u001b[43m)\u001b[49m\n",
      "File \u001b[1;32m~\\anaconda3\\envs\\capstone\\lib\\site-packages\\hydra\\main.py:79\u001b[0m, in \u001b[0;36mmain.<locals>.main_decorator.<locals>.decorated_main\u001b[1;34m(cfg_passthrough)\u001b[0m\n\u001b[0;32m     76\u001b[0m \u001b[38;5;129m@functools\u001b[39m\u001b[38;5;241m.\u001b[39mwraps(task_function)\n\u001b[0;32m     77\u001b[0m \u001b[38;5;28;01mdef\u001b[39;00m \u001b[38;5;21mdecorated_main\u001b[39m(cfg_passthrough: Optional[DictConfig] \u001b[38;5;241m=\u001b[39m \u001b[38;5;28;01mNone\u001b[39;00m) \u001b[38;5;241m-\u001b[39m\u001b[38;5;241m>\u001b[39m Any:\n\u001b[0;32m     78\u001b[0m     \u001b[38;5;28;01mif\u001b[39;00m cfg_passthrough \u001b[38;5;129;01mis\u001b[39;00m \u001b[38;5;129;01mnot\u001b[39;00m \u001b[38;5;28;01mNone\u001b[39;00m:\n\u001b[1;32m---> 79\u001b[0m         \u001b[38;5;28;01mreturn\u001b[39;00m \u001b[43mtask_function\u001b[49m\u001b[43m(\u001b[49m\u001b[43mcfg_passthrough\u001b[49m\u001b[43m)\u001b[49m\n\u001b[0;32m     80\u001b[0m     \u001b[38;5;28;01melse\u001b[39;00m:\n\u001b[0;32m     81\u001b[0m         args_parser \u001b[38;5;241m=\u001b[39m get_args_parser()\n",
      "File \u001b[1;32m~\\DataspellProjects\\capstone\\new_capstone_dir\\splade-colBERT\\splade\\splade\\all.py:17\u001b[0m, in \u001b[0;36mtrain_index_retrieve\u001b[1;34m(exp_dict)\u001b[0m\n\u001b[0;32m     13\u001b[0m \u001b[38;5;129m@hydra\u001b[39m\u001b[38;5;241m.\u001b[39mmain(config_path\u001b[38;5;241m=\u001b[39mCONFIG_PATH, config_name\u001b[38;5;241m=\u001b[39mCONFIG_NAME, version_base\u001b[38;5;241m=\u001b[39m\u001b[38;5;124m\"\u001b[39m\u001b[38;5;124m1.2\u001b[39m\u001b[38;5;124m\"\u001b[39m)\n\u001b[0;32m     14\u001b[0m \u001b[38;5;28;01mdef\u001b[39;00m \u001b[38;5;21mtrain_index_retrieve\u001b[39m(exp_dict: DictConfig):\n\u001b[0;32m     15\u001b[0m     hydra_chdir(exp_dict)\n\u001b[1;32m---> 17\u001b[0m     \u001b[43mtrain\u001b[49m\u001b[43m(\u001b[49m\u001b[43mexp_dict\u001b[49m\u001b[43m)\u001b[49m\n\u001b[0;32m     18\u001b[0m     index(exp_dict)\n\u001b[0;32m     19\u001b[0m     retrieve_evaluate(exp_dict)\n",
      "File \u001b[1;32m~\\anaconda3\\envs\\capstone\\lib\\site-packages\\hydra\\main.py:79\u001b[0m, in \u001b[0;36mmain.<locals>.main_decorator.<locals>.decorated_main\u001b[1;34m(cfg_passthrough)\u001b[0m\n\u001b[0;32m     76\u001b[0m \u001b[38;5;129m@functools\u001b[39m\u001b[38;5;241m.\u001b[39mwraps(task_function)\n\u001b[0;32m     77\u001b[0m \u001b[38;5;28;01mdef\u001b[39;00m \u001b[38;5;21mdecorated_main\u001b[39m(cfg_passthrough: Optional[DictConfig] \u001b[38;5;241m=\u001b[39m \u001b[38;5;28;01mNone\u001b[39;00m) \u001b[38;5;241m-\u001b[39m\u001b[38;5;241m>\u001b[39m Any:\n\u001b[0;32m     78\u001b[0m     \u001b[38;5;28;01mif\u001b[39;00m cfg_passthrough \u001b[38;5;129;01mis\u001b[39;00m \u001b[38;5;129;01mnot\u001b[39;00m \u001b[38;5;28;01mNone\u001b[39;00m:\n\u001b[1;32m---> 79\u001b[0m         \u001b[38;5;28;01mreturn\u001b[39;00m \u001b[43mtask_function\u001b[49m\u001b[43m(\u001b[49m\u001b[43mcfg_passthrough\u001b[49m\u001b[43m)\u001b[49m\n\u001b[0;32m     80\u001b[0m     \u001b[38;5;28;01melse\u001b[39;00m:\n\u001b[0;32m     81\u001b[0m         args_parser \u001b[38;5;241m=\u001b[39m get_args_parser()\n",
      "File \u001b[1;32m~\\DataspellProjects\\capstone\\new_capstone_dir\\splade-colBERT\\splade\\splade\\train.py:22\u001b[0m, in \u001b[0;36mtrain\u001b[1;34m(exp_dict)\u001b[0m\n\u001b[0;32m     20\u001b[0m \u001b[38;5;129m@hydra\u001b[39m\u001b[38;5;241m.\u001b[39mmain(config_path\u001b[38;5;241m=\u001b[39mCONFIG_PATH, config_name\u001b[38;5;241m=\u001b[39mCONFIG_NAME, version_base\u001b[38;5;241m=\u001b[39m\u001b[38;5;124m\"\u001b[39m\u001b[38;5;124m1.2\u001b[39m\u001b[38;5;124m\"\u001b[39m)\n\u001b[0;32m     21\u001b[0m \u001b[38;5;28;01mdef\u001b[39;00m \u001b[38;5;21mtrain\u001b[39m(exp_dict: DictConfig):\n\u001b[1;32m---> 22\u001b[0m     exp_dict, config, init_dict, _ \u001b[38;5;241m=\u001b[39m get_initialize_config(exp_dict, train\u001b[38;5;241m=\u001b[39m\u001b[38;5;28;01mTrue\u001b[39;00m)\n\u001b[0;32m     23\u001b[0m     \u001b[38;5;28mprint\u001b[39m(exp_dict)\n\u001b[0;32m     24\u001b[0m     model \u001b[38;5;241m=\u001b[39m get_model(config, init_dict)\n",
      "File \u001b[1;32m~\\DataspellProjects\\capstone\\new_capstone_dir\\splade-colBERT\\splade\\splade\\utils\\utils.py:117\u001b[0m, in \u001b[0;36mget_initialize_config\u001b[1;34m(exp_dict, train)\u001b[0m\n\u001b[0;32m    115\u001b[0m init_dict \u001b[38;5;241m=\u001b[39m exp_dict[\u001b[38;5;124m\"\u001b[39m\u001b[38;5;124minit_dict\u001b[39m\u001b[38;5;124m\"\u001b[39m]\n\u001b[0;32m    116\u001b[0m \u001b[38;5;28;01mif\u001b[39;00m train:\n\u001b[1;32m--> 117\u001b[0m     os\u001b[38;5;241m.\u001b[39mmakedirs(\u001b[43mexp_dict\u001b[49m\u001b[38;5;241;43m.\u001b[39;49m\u001b[43mconfig\u001b[49m\u001b[38;5;241m.\u001b[39mcheckpoint_dir, exist_ok\u001b[38;5;241m=\u001b[39m\u001b[38;5;28;01mTrue\u001b[39;00m)\n\u001b[0;32m    118\u001b[0m     OmegaConf\u001b[38;5;241m.\u001b[39msave(config\u001b[38;5;241m=\u001b[39mexp_dict, f\u001b[38;5;241m=\u001b[39mos\u001b[38;5;241m.\u001b[39mpath\u001b[38;5;241m.\u001b[39mjoin(exp_dict\u001b[38;5;241m.\u001b[39mconfig\u001b[38;5;241m.\u001b[39mcheckpoint_dir, \u001b[38;5;124m\"\u001b[39m\u001b[38;5;124mconfig.yaml\u001b[39m\u001b[38;5;124m\"\u001b[39m))\n\u001b[0;32m    119\u001b[0m     model_training_config \u001b[38;5;241m=\u001b[39m \u001b[38;5;28;01mNone\u001b[39;00m\n",
      "\u001b[1;31mAttributeError\u001b[0m: 'dict' object has no attribute 'config'"
     ]
    }
   ],
   "source": [
    "from splade import all\n",
    "\n",
    "config = {'config': {'lr': 2e-05, 'seed': 123, 'gradient_accumulation_steps': 1, 'weight_decay': 0.01, 'validation_metrics': ['MRR@10', 'recall@100', 'recall@200', 'recall@500'], 'pretrained_no_yamlconfig': False, 'nb_iterations': 10, 'train_batch_size': 6, 'eval_batch_size': 8, 'index_retrieve_batch_size': 6, 'record_frequency': 3, 'train_monitoring_freq':\n",
    "    2, 'warmup_steps': 5, 'max_length': 10, 'fp16': False, 'augment_pairs': 'in_batch_negatives', 'matching_type': 'splade', 'monitoring_ckpt': 'loss', 'loss': 'InBatchPairwiseNLL', 'regularizer': {'FLOPS': {'lambda_q': 0.0005, 'lambda_d': 0.0003, 'T': 3, 'targeted_rep': 'rep', 'reg': 'FLOPS'}}, 'tokenizer_type': 'distilbert-base-uncased', 'top_k': 5, 'threshold': 0.4, 'eval_metric': [['mrr_10', 'recall']], 'checkpoint_dir': 'data/msmarco', 'index_dir': '???', 'out_dir': '???'}, 'data': {'type': 'triplets', 'TRAIN_DATA_DIR': 'data/toy_data/triplets', 'VALIDATION_SIZE_FOR_LOSS': 20, 'VALIDATION_FULL_RANKING': {'D_COLLECTION_PATH': 'data/toy_data/val_collection', 'Q_COLLECTION_PATH': 'data/toy_data/val_queries', 'QREL_PATH': 'data/toy_data/qrel/qrel.json', 'TOP_K': 20}, 'COLLECTION_PATH': 'data/toy_data/full_collection', 'Q_COLLECTION_PATH': ['data/toy_data/dev_queries'], 'EVAL_QREL_PATH': ['data/toy_data/qrel/qrel.json'], 'flops_queries': 'data/toy_data/dev_queries'}, 'init_dict': {'model_type_or_dir': 'distilbert-base-uncased', 'model_type_or_dir_q': None, 'freeze_d_model': 0, 'agg': 'max', 'fp16': False}}\n",
    "\n",
    "\n",
    "all.train_index_retrieve(config)"
   ]
  },
  {
   "cell_type": "code",
   "execution_count": 19,
   "metadata": {
    "collapsed": false
   },
   "outputs": [
    {
     "data": {
      "text/plain": [
       "'C:\\\\Users\\\\jammo\\\\DataspellProjects\\\\capstone\\\\new_capstone_dir\\\\splade-colBERT\\\\splade'"
      ]
     },
     "execution_count": 19,
     "metadata": {},
     "output_type": "execute_result"
    }
   ],
   "source": [
    "pwd"
   ]
  },
  {
   "cell_type": "code",
   "execution_count": 53,
   "metadata": {
    "collapsed": false
   },
   "outputs": [
    {
     "ename": "ValueError",
     "evalue": "Invalid input. Supports one of [dict,list,DictConfig,ListConfig,dataclass,dataclass instance,attr class,attr class instance]",
     "output_type": "error",
     "traceback": [
      "\u001b[1;31m---------------------------------------------------------------------------\u001b[0m",
      "\u001b[1;31mValueError\u001b[0m                                Traceback (most recent call last)",
      "Input \u001b[1;32mIn [53]\u001b[0m, in \u001b[0;36m<cell line: 6>\u001b[1;34m()\u001b[0m\n\u001b[0;32m      2\u001b[0m \u001b[38;5;66;03m# from utils import utils\u001b[39;00m\n\u001b[0;32m      4\u001b[0m config \u001b[38;5;241m=\u001b[39m \u001b[38;5;124m\"\u001b[39m\u001b[38;5;124m..\u001b[39m\u001b[38;5;124m\\\u001b[39m\u001b[38;5;124mconf\u001b[39m\u001b[38;5;124m\\\u001b[39m\u001b[38;5;124mconfig_splade++_cocondenser_ensembledistil_monogpu.yaml\u001b[39m\u001b[38;5;124m\"\u001b[39m\n\u001b[1;32m----> 6\u001b[0m \u001b[43mutils\u001b[49m\u001b[38;5;241;43m.\u001b[39;49m\u001b[43mget_initialize_config\u001b[49m\u001b[43m(\u001b[49m\u001b[43mconfig\u001b[49m\u001b[43m)\u001b[49m\n",
      "File \u001b[1;32m~\\DataspellProjects\\capstone\\new_capstone_dir\\splade-colBERT\\splade\\splade\\utils\\utils.py:112\u001b[0m, in \u001b[0;36mget_initialize_config\u001b[1;34m(exp_dict, train)\u001b[0m\n\u001b[0;32m    109\u001b[0m \u001b[38;5;28;01mdef\u001b[39;00m \u001b[38;5;21mget_initialize_config\u001b[39m(exp_dict: DictConfig, train\u001b[38;5;241m=\u001b[39m\u001b[38;5;28;01mFalse\u001b[39;00m):\n\u001b[0;32m    110\u001b[0m     \u001b[38;5;66;03m# delay import to reduce dependencies\u001b[39;00m\n\u001b[0;32m    111\u001b[0m     \u001b[38;5;28;01mfrom\u001b[39;00m \u001b[38;5;21;01m.\u001b[39;00m\u001b[38;5;21;01m.\u001b[39;00m\u001b[38;5;21;01mutils\u001b[39;00m\u001b[38;5;21;01m.\u001b[39;00m\u001b[38;5;21;01mhydra\u001b[39;00m \u001b[38;5;28;01mimport\u001b[39;00m hydra_chdir\n\u001b[1;32m--> 112\u001b[0m     \u001b[43mhydra_chdir\u001b[49m\u001b[43m(\u001b[49m\u001b[43mexp_dict\u001b[49m\u001b[43m)\u001b[49m\n\u001b[0;32m    113\u001b[0m     exp_dict[\u001b[38;5;124m\"\u001b[39m\u001b[38;5;124minit_dict\u001b[39m\u001b[38;5;124m\"\u001b[39m][\u001b[38;5;124m\"\u001b[39m\u001b[38;5;124mfp16\u001b[39m\u001b[38;5;124m\"\u001b[39m] \u001b[38;5;241m=\u001b[39m exp_dict[\u001b[38;5;124m\"\u001b[39m\u001b[38;5;124mconfig\u001b[39m\u001b[38;5;124m\"\u001b[39m]\u001b[38;5;241m.\u001b[39mget(\u001b[38;5;124m\"\u001b[39m\u001b[38;5;124mfp16\u001b[39m\u001b[38;5;124m\"\u001b[39m, \u001b[38;5;28;01mFalse\u001b[39;00m)\n\u001b[0;32m    114\u001b[0m     config \u001b[38;5;241m=\u001b[39m exp_dict[\u001b[38;5;124m\"\u001b[39m\u001b[38;5;124mconfig\u001b[39m\u001b[38;5;124m\"\u001b[39m]\n",
      "File \u001b[1;32m~\\DataspellProjects\\capstone\\new_capstone_dir\\splade-colBERT\\splade\\splade\\utils\\hydra.py:8\u001b[0m, in \u001b[0;36mhydra_chdir\u001b[1;34m(exp_dict)\u001b[0m\n\u001b[0;32m      7\u001b[0m \u001b[38;5;28;01mdef\u001b[39;00m \u001b[38;5;21mhydra_chdir\u001b[39m(exp_dict):\n\u001b[1;32m----> 8\u001b[0m     \u001b[38;5;28mprint\u001b[39m(\u001b[43mOmegaConf\u001b[49m\u001b[38;5;241;43m.\u001b[39;49m\u001b[43mto_yaml\u001b[49m\u001b[43m(\u001b[49m\u001b[43mexp_dict\u001b[49m\u001b[43m)\u001b[49m)\n\u001b[0;32m      9\u001b[0m     \u001b[38;5;28;01mtry\u001b[39;00m:\n\u001b[0;32m     10\u001b[0m         os\u001b[38;5;241m.\u001b[39mchdir(get_original_cwd())\n",
      "File \u001b[1;32m~\\anaconda3\\envs\\capstone\\lib\\site-packages\\omegaconf\\omegaconf.py:746\u001b[0m, in \u001b[0;36mOmegaConf.to_yaml\u001b[1;34m(cfg, resolve, sort_keys)\u001b[0m\n\u001b[0;32m    736\u001b[0m \u001b[38;5;129m@staticmethod\u001b[39m\n\u001b[0;32m    737\u001b[0m \u001b[38;5;28;01mdef\u001b[39;00m \u001b[38;5;21mto_yaml\u001b[39m(cfg: Any, \u001b[38;5;241m*\u001b[39m, resolve: \u001b[38;5;28mbool\u001b[39m \u001b[38;5;241m=\u001b[39m \u001b[38;5;28;01mFalse\u001b[39;00m, sort_keys: \u001b[38;5;28mbool\u001b[39m \u001b[38;5;241m=\u001b[39m \u001b[38;5;28;01mFalse\u001b[39;00m) \u001b[38;5;241m-\u001b[39m\u001b[38;5;241m>\u001b[39m \u001b[38;5;28mstr\u001b[39m:\n\u001b[0;32m    738\u001b[0m     \u001b[38;5;124;03m\"\"\"\u001b[39;00m\n\u001b[0;32m    739\u001b[0m \u001b[38;5;124;03m    returns a yaml dump of this config object.\u001b[39;00m\n\u001b[0;32m    740\u001b[0m \u001b[38;5;124;03m    :param cfg: Config object, Structured Config type or instance\u001b[39;00m\n\u001b[1;32m   (...)\u001b[0m\n\u001b[0;32m    744\u001b[0m \u001b[38;5;124;03m    :return: A string containing the yaml representation.\u001b[39;00m\n\u001b[0;32m    745\u001b[0m \u001b[38;5;124;03m    \"\"\"\u001b[39;00m\n\u001b[1;32m--> 746\u001b[0m     cfg \u001b[38;5;241m=\u001b[39m \u001b[43m_ensure_container\u001b[49m\u001b[43m(\u001b[49m\u001b[43mcfg\u001b[49m\u001b[43m)\u001b[49m\n\u001b[0;32m    747\u001b[0m     container \u001b[38;5;241m=\u001b[39m OmegaConf\u001b[38;5;241m.\u001b[39mto_container(cfg, resolve\u001b[38;5;241m=\u001b[39mresolve, enum_to_str\u001b[38;5;241m=\u001b[39m\u001b[38;5;28;01mTrue\u001b[39;00m)\n\u001b[0;32m    748\u001b[0m     \u001b[38;5;28;01mreturn\u001b[39;00m yaml\u001b[38;5;241m.\u001b[39mdump(  \u001b[38;5;66;03m# type: ignore\u001b[39;00m\n\u001b[0;32m    749\u001b[0m         container,\n\u001b[0;32m    750\u001b[0m         default_flow_style\u001b[38;5;241m=\u001b[39m\u001b[38;5;28;01mFalse\u001b[39;00m,\n\u001b[1;32m   (...)\u001b[0m\n\u001b[0;32m    753\u001b[0m         Dumper\u001b[38;5;241m=\u001b[39mget_omega_conf_dumper(),\n\u001b[0;32m    754\u001b[0m     )\n",
      "File \u001b[1;32m~\\anaconda3\\envs\\capstone\\lib\\site-packages\\omegaconf\\_utils.py:957\u001b[0m, in \u001b[0;36m_ensure_container\u001b[1;34m(target, flags)\u001b[0m\n\u001b[0;32m    955\u001b[0m     target \u001b[38;5;241m=\u001b[39m OmegaConf\u001b[38;5;241m.\u001b[39mstructured(target, flags\u001b[38;5;241m=\u001b[39mflags)\n\u001b[0;32m    956\u001b[0m \u001b[38;5;28;01melif\u001b[39;00m \u001b[38;5;129;01mnot\u001b[39;00m OmegaConf\u001b[38;5;241m.\u001b[39mis_config(target):\n\u001b[1;32m--> 957\u001b[0m     \u001b[38;5;28;01mraise\u001b[39;00m \u001b[38;5;167;01mValueError\u001b[39;00m(\n\u001b[0;32m    958\u001b[0m         \u001b[38;5;124m\"\u001b[39m\u001b[38;5;124mInvalid input. Supports one of \u001b[39m\u001b[38;5;124m\"\u001b[39m\n\u001b[0;32m    959\u001b[0m         \u001b[38;5;241m+\u001b[39m \u001b[38;5;124m\"\u001b[39m\u001b[38;5;124m[dict,list,DictConfig,ListConfig,dataclass,dataclass instance,attr class,attr class instance]\u001b[39m\u001b[38;5;124m\"\u001b[39m\n\u001b[0;32m    960\u001b[0m     )\n\u001b[0;32m    962\u001b[0m \u001b[38;5;28;01mreturn\u001b[39;00m target\n",
      "\u001b[1;31mValueError\u001b[0m: Invalid input. Supports one of [dict,list,DictConfig,ListConfig,dataclass,dataclass instance,attr class,attr class instance]"
     ]
    }
   ],
   "source": [
    "from splade.utils import utils\n",
    "\n",
    "config = \"..\\conf\\config_splade++_cocondenser_ensembledistil_monogpu.yaml\"\n",
    "\n",
    "utils.get_initialize_config(config)"
   ]
  },
  {
   "cell_type": "code",
   "execution_count": 38,
   "metadata": {
    "collapsed": false
   },
   "outputs": [
    {
     "ename": "NameError",
     "evalue": "name 'Run' is not defined",
     "output_type": "error",
     "traceback": [
      "\u001b[1;31m---------------------------------------------------------------------------\u001b[0m",
      "\u001b[1;31mNameError\u001b[0m                                 Traceback (most recent call last)",
      "Input \u001b[1;32mIn [38]\u001b[0m, in \u001b[0;36m<cell line: 1>\u001b[1;34m()\u001b[0m\n\u001b[1;32m----> 1\u001b[0m \u001b[38;5;28;01mwith\u001b[39;00m \u001b[43mRun\u001b[49m()\u001b[38;5;241m.\u001b[39mcontext(RunConfig(nranks\u001b[38;5;241m=\u001b[39m\u001b[38;5;241m1\u001b[39m, experiment\u001b[38;5;241m=\u001b[39m\u001b[38;5;124m\"\u001b[39m\u001b[38;5;124mmsmarco\u001b[39m\u001b[38;5;124m\"\u001b[39m)):\n\u001b[0;32m      2\u001b[0m     trainer \u001b[38;5;241m=\u001b[39m Trainer(\n\u001b[0;32m      3\u001b[0m         triples\u001b[38;5;241m=\u001b[39m  \u001b[38;5;124mr\u001b[39m\u001b[38;5;124m\"\u001b[39m\u001b[38;5;124m..\u001b[39m\u001b[38;5;124m\\\u001b[39m\u001b[38;5;124mdata\u001b[39m\u001b[38;5;124m\\\u001b[39m\u001b[38;5;124mmsmarco\u001b[39m\u001b[38;5;124m\\\u001b[39m\u001b[38;5;124msplade_triplets\u001b[39m\u001b[38;5;124m\"\u001b[39m,\n\u001b[0;32m      4\u001b[0m         queries\u001b[38;5;241m=\u001b[39m  \u001b[38;5;124mr\u001b[39m\u001b[38;5;124m\"\u001b[39m\u001b[38;5;124m..\u001b[39m\u001b[38;5;124m\\\u001b[39m\u001b[38;5;124mdata\u001b[39m\u001b[38;5;124m\\\u001b[39m\u001b[38;5;124mmsmarco\u001b[39m\u001b[38;5;124m\\\u001b[39m\u001b[38;5;124mtrain_queries\u001b[39m\u001b[38;5;124m\\\u001b[39m\u001b[38;5;124mqueries\u001b[39m\u001b[38;5;124m\\\u001b[39m\u001b[38;5;124mraw.tsv\u001b[39m\u001b[38;5;124m\"\u001b[39m,\n\u001b[0;32m      5\u001b[0m         collection\u001b[38;5;241m=\u001b[39m \u001b[38;5;124mr\u001b[39m\u001b[38;5;124m\"\u001b[39m\u001b[38;5;124m..\u001b[39m\u001b[38;5;124m\\\u001b[39m\u001b[38;5;124mdata\u001b[39m\u001b[38;5;124m\\\u001b[39m\u001b[38;5;124mmsmarco\u001b[39m\u001b[38;5;124m\\\u001b[39m\u001b[38;5;124mfull_collection\u001b[39m\u001b[38;5;124m\\\u001b[39m\u001b[38;5;124mraw.tsv\u001b[39m\u001b[38;5;124m\"\u001b[39m,\n\u001b[0;32m      6\u001b[0m         config\u001b[38;5;241m=\u001b[39mconfig,\n\u001b[0;32m      7\u001b[0m     )\n",
      "\u001b[1;31mNameError\u001b[0m: name 'Run' is not defined"
     ]
    }
   ],
   "source": [
    "# with Run().context(RunConfig(nranks=1, experiment=\"msmarco\")):\n",
    "#     trainer = Trainer(\n",
    "#         triples=  r\"..\\data\\msmarco\\splade_triplets\",\n",
    "#         queries=  r\"..\\data\\msmarco\\train_queries\\queries\\raw.tsv\",\n",
    "#         collection= r\"..\\data\\msmarco\\full_collection\\raw.tsv\",\n",
    "#         config=config,\n",
    "#     )"
   ]
  },
  {
   "cell_type": "code",
   "execution_count": null,
   "metadata": {
    "collapsed": false
   },
   "outputs": [],
   "source": [
    "# model =\n",
    "# iterations = 1\n",
    "# loss =\n",
    "# optimizer =\n",
    "# config = \"..\\conf\\config_splade++_cocondenser_ensembledistil_monogpu.yaml\"\n",
    "# scheduler =\n",
    "# train_loader =\n",
    "# val_loss_loader =\n",
    "# val_evaluator +\n",
    "# regularizer =\n",
    "#\n"
   ]
  },
  {
   "cell_type": "code",
   "execution_count": 23,
   "metadata": {
    "collapsed": false,
    "pycharm": {
     "name": "#%%bash\n"
    }
   },
   "outputs": [
    {
     "name": "stdout",
     "output_type": "stream",
     "text": [
      " Volume in drive C is Windows\n",
      " Volume Serial Number is C85C-4698\n",
      "\n",
      " Directory of C:\\Users\\jammo\\DataspellProjects\\capstone\\new_capstone_dir\\splade-colBERT\\splade\n",
      "\n",
      "10/02/2022  01:35 PM    <DIR>          .\n",
      "10/02/2022  01:35 PM    <DIR>          ..\n",
      "10/01/2022  11:52 AM    <DIR>          .ipynb_checkpoints\n",
      "09/26/2022  05:45 PM             6,799 conda_splade_env.yml\n",
      "10/02/2022  12:10 PM    <DIR>          conf\n",
      "10/01/2022  12:23 PM    <DIR>          data\n",
      "09/26/2022  05:45 PM    <DIR>          efficient_splade_pisa\n",
      "09/26/2022  05:45 PM    <DIR>          images\n",
      "10/02/2022  12:33 PM             9,352 inference_splade.ipynb\n",
      "09/26/2022  05:45 PM            33,764 LICENSE\n",
      "09/26/2022  05:45 PM            17,307 README.md\n",
      "09/26/2022  05:45 PM               743 setup.py\n",
      "10/01/2022  10:34 AM    <DIR>          splade\n",
      "10/02/2022  01:35 PM            17,556 splade_attempt_2.ipynb\n",
      "09/26/2022  05:45 PM    <DIR>          weights\n",
      "               6 File(s)         85,521 bytes\n",
      "               9 Dir(s)  56,088,412,160 bytes free\n"
     ]
    }
   ],
   "source": [
    "# trainer = SiameseTransformerTrainer(model=model, iterations=iterations, loss=loss, optimizer=optimizer,\n",
    "#                                     config=config, scheduler=scheduler,\n",
    "#                                     train_loader=train_loader, validation_loss_loader=val_loss_loader,\n",
    "#                                     validation_evaluator=val_evaluator,\n",
    "#                                     regularizer=regularizer)\n",
    "# trainer.train()"
   ]
  },
  {
   "cell_type": "code",
   "execution_count": 37,
   "metadata": {
    "collapsed": false
   },
   "outputs": [
    {
     "name": "stdout",
     "output_type": "stream",
     "text": [
      " Volume in drive C is Windows\n",
      " Volume Serial Number is C85C-4698\n",
      "\n",
      " Directory of C:\\Users\\jammo\\DataspellProjects\\capstone\\new_capstone_dir\\splade-colBERT\\splade\\data\\msmarco\\full_collection\n",
      "\n",
      "10/01/2022  12:23 PM    <DIR>          .\n",
      "10/01/2022  12:23 PM    <DIR>          ..\n",
      "04/20/2022  05:52 AM                 0 .skeleton\n",
      "04/20/2022  05:56 AM     3,047,524,442 raw.tsv\n",
      "               2 File(s)  3,047,524,442 bytes\n",
      "               2 Dir(s)  56,086,917,120 bytes free\n"
     ]
    }
   ],
   "source": [
    "ls data\\msmarco\\full_collection\\raw.tsv"
   ]
  },
  {
   "cell_type": "code",
   "execution_count": null,
   "metadata": {
    "collapsed": false
   },
   "outputs": [],
   "source": []
  }
 ],
 "metadata": {
  "kernelspec": {
   "display_name": "Python 3",
   "language": "python",
   "name": "python3"
  },
  "language_info": {
   "codemirror_mode": {
    "name": "ipython",
    "version": 2
   },
   "file_extension": ".py",
   "mimetype": "text/x-python",
   "name": "python",
   "nbconvert_exporter": "python",
   "pygments_lexer": "ipython2",
   "version": "2.7.6"
  }
 },
 "nbformat": 4,
 "nbformat_minor": 0
}
