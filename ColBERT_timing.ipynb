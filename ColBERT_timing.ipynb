{
 "cells": [
  {
   "cell_type": "code",
   "execution_count": 1,
   "id": "ef1a4081-a332-404b-ba35-d8920d108068",
   "metadata": {},
   "outputs": [],
   "source": [
    "from datetime import datetime, timedelta"
   ]
  },
  {
   "cell_type": "markdown",
   "id": "ab313f30-e19d-4b36-9549-16db0bdae0da",
   "metadata": {
    "tags": []
   },
   "source": [
    "# Timing"
   ]
  },
  {
   "cell_type": "markdown",
   "id": "6f48ff8b-f115-4576-bddc-318bd0d480e1",
   "metadata": {},
   "source": [
    "## Estimation"
   ]
  },
  {
   "cell_type": "code",
   "execution_count": 45,
   "id": "d3ca8182-de54-48ad-af6b-5ccd80097de7",
   "metadata": {},
   "outputs": [
    {
     "name": "stdout",
     "output_type": "stream",
     "text": [
      "current progress: 64.40677966101694%\n",
      "expected total duration: 0 days 4 hours 42 minutes 50 seconds left\n",
      "expected duration: 0 days 1 hours 40 minutes 40 seconds left\n",
      "Oct 19 2022, 19:01:44\n"
     ]
    }
   ],
   "source": [
    "current_iter = 228\n",
    "\n",
    "max_iter = 354\n",
    "start_time = datetime.strptime(\"Oct 19 2022, 14:18:54\", \"%b %d %Y, %H:%M:%S\")\n",
    "cur_time = datetime.now()\n",
    "time_since_start = cur_time - start_time\n",
    "iter_per_sec = current_iter/time_since_start.total_seconds()\n",
    "seconds_total = max_iter/iter_per_sec\n",
    "time_total = timedelta(seconds=seconds_total)\n",
    "seconds_left = (max_iter-current_iter)/iter_per_sec\n",
    "time_left = timedelta(seconds=seconds_left)\n",
    "\n",
    "print( f\"current progress: {current_iter/max_iter*100}%\")\n",
    "print( f\"expected total duration: {time_total.days} days {time_total.seconds//3600} hours {(time_total.seconds//60)%60} minutes {time_total.seconds%60} seconds left\" )\n",
    "print( f\"expected duration: {time_left.days} days {time_left.seconds//3600} hours {(time_left.seconds//60)%60} minutes {time_left.seconds%60} seconds left\" )\n",
    "print( (cur_time + time_left).strftime(\"%b %d %Y, %H:%M:%S\") )"
   ]
  },
  {
   "cell_type": "markdown",
   "id": "2ca111d8-3367-43be-896e-40be76705bb6",
   "metadata": {
    "tags": []
   },
   "source": [
    "## Duration"
   ]
  },
  {
   "cell_type": "code",
   "execution_count": 39,
   "id": "b8b5652a-601b-4841-8186-a107338d3eb0",
   "metadata": {
    "tags": []
   },
   "outputs": [],
   "source": [
    "def print_time_metrics(max_iter, start_ts, end_ts, ts_format=\"%b %d %Y, %H:%M:%S\", resume_iter=0):\n",
    "    start_time = datetime.strptime(start_ts, ts_format)\n",
    "    finish_time = datetime.strptime(end_ts, ts_format)\n",
    "    duration = finish_time - start_time\n",
    "    time_per_chunk = duration.total_seconds()/(max_iter-resume_iter)\n",
    "    print( f\"{time_per_chunk} seconds per iteration\" )\n",
    "    print( f\"total taken duration: {duration.days} days {duration.seconds//3600} hours {(duration.seconds//60)%60} minutes {duration.seconds%60} seconds left\" )\n",
    "    full_duration = timedelta(seconds=time_per_chunk*max_iter)\n",
    "    print( f\"expected total duration: {full_duration.days} days {full_duration.seconds//3600} hours {(full_duration.seconds//60)%60} minutes {full_duration.seconds%60} seconds left\" )"
   ]
  },
  {
   "cell_type": "markdown",
   "id": "b8567a78-5fdf-45bb-b5b6-e2925c970896",
   "metadata": {
    "tags": []
   },
   "source": [
    "## Local"
   ]
  },
  {
   "cell_type": "markdown",
   "id": "2a83d80e-4c32-479c-a64c-c3b1d9f98857",
   "metadata": {
    "jp-MarkdownHeadingCollapsed": true,
    "tags": []
   },
   "source": [
    "### Train"
   ]
  },
  {
   "cell_type": "code",
   "execution_count": 32,
   "id": "e0053d6a-1707-4894-a93b-2f2384f8958b",
   "metadata": {},
   "outputs": [
    {
     "name": "stdout",
     "output_type": "stream",
     "text": [
      "0.4630875 seconds per iteration\n",
      "total taken duration: 0 days 10 hours 17 minutes 27 seconds left\n",
      "expected total duration: 0 days 10 hours 17 minutes 27 seconds left\n"
     ]
    }
   ],
   "source": [
    "print_time_metrics(\n",
    "    resume_iter = 0, \n",
    "    max_iter = 80000,\n",
    "    start_ts = \"Oct 17 2022, 19:26:21\",\n",
    "    end_ts = \"Oct 18 2022, 05:43:48\",\n",
    ")"
   ]
  },
  {
   "cell_type": "code",
   "execution_count": 33,
   "id": "b56e8687-0cae-4620-a6dc-18676c965f48",
   "metadata": {},
   "outputs": [
    {
     "name": "stdout",
     "output_type": "stream",
     "text": [
      "0.5124 seconds per iteration\n",
      "total taken duration: 2 days 23 hours 10 minutes 0 seconds left\n",
      "expected total duration: 2 days 23 hours 10 minutes 0 seconds left\n"
     ]
    }
   ],
   "source": [
    "print_time_metrics(\n",
    "    resume_iter = 0,\n",
    "    max_iter = 500000,\n",
    "    start_ts = \"Sep 26 2022, 19:55:00\",\n",
    "    end_ts = \"Sep 29 2022, 19:05:00\",\n",
    ")"
   ]
  },
  {
   "cell_type": "markdown",
   "id": "ecbe152a-725d-4034-ab89-622cc17a8c41",
   "metadata": {},
   "source": [
    "### Index"
   ]
  },
  {
   "cell_type": "code",
   "execution_count": 24,
   "id": "4eb841db-9ac3-4918-93e5-af19c726fa64",
   "metadata": {},
   "outputs": [
    {
     "name": "stdout",
     "output_type": "stream",
     "text": [
      "43.59773371104816 seconds per chunk\n",
      "total taken duration: 0 days 4 hours 16 minutes 30 seconds left\n",
      "expected total duration: 0 days 4 hours 17 minutes 13 seconds left\n"
     ]
    }
   ],
   "source": [
    "print_time_metrics(\n",
    "    resume_iter = 1, \n",
    "    max_iter = 354,\n",
    "    start_ts = \"Oct 18, 11:39:40\",\n",
    "    end_ts = \"Oct 18, 15:56:10\",\n",
    "    ts_format = \"%b %d, %H:%M:%S\"\n",
    ")"
   ]
  },
  {
   "cell_type": "code",
   "execution_count": 42,
   "id": "8609c1dc-26ee-4b4e-8b55-d554b75cb5cc",
   "metadata": {},
   "outputs": [
    {
     "name": "stdout",
     "output_type": "stream",
     "text": [
      "41.632768361581924 seconds per iteration\n",
      "total taken duration: 0 days 4 hours 5 minutes 38 seconds left\n",
      "expected total duration: 0 days 4 hours 5 minutes 38 seconds left\n"
     ]
    }
   ],
   "source": [
    "print_time_metrics(\n",
    "    resume_iter = 0, \n",
    "    max_iter = 354,\n",
    "    start_ts = \"Oct 18 2022, 22:42:31\",\n",
    "    end_ts = \"Oct 19 2022, 02:48:09\",\n",
    ")"
   ]
  },
  {
   "cell_type": "code",
   "execution_count": 42,
   "id": "5146342a-7e28-472b-9460-7ef6ffcdbeb5",
   "metadata": {},
   "outputs": [
    {
     "name": "stdout",
     "output_type": "stream",
     "text": [
      "41.632768361581924 seconds per iteration\n",
      "total taken duration: 0 days 4 hours 5 minutes 38 seconds left\n",
      "expected total duration: 0 days 4 hours 5 minutes 38 seconds left\n"
     ]
    }
   ],
   "source": [
    "print_time_metrics(\n",
    "    resume_iter = 0, \n",
    "    max_iter = 354,\n",
    "    start_ts = \"Oct 19 2022, 08:17:55\",\n",
    "    end_ts = \"Oct 19 2022, 02:48:09\",\n",
    ")"
   ]
  },
  {
   "cell_type": "markdown",
   "id": "b8ba86bf-e420-43f0-ae2f-98a829b1d18e",
   "metadata": {},
   "source": [
    "### Retrieval"
   ]
  },
  {
   "cell_type": "code",
   "execution_count": 27,
   "id": "dae5886e-8826-44d3-862e-11d93350ee12",
   "metadata": {},
   "outputs": [
    {
     "name": "stdout",
     "output_type": "stream",
     "text": [
      "0.03195077799649827 seconds per iteration\n",
      "total taken duration: 0 days 0 hours 53 minutes 50 seconds left\n",
      "expected total duration: 0 days 0 hours 53 minutes 50 seconds left\n"
     ]
    }
   ],
   "source": [
    "print_time_metrics(\n",
    "    max_iter = 101093,\n",
    "    start_ts = \"Oct 19 2022, 06:32:36\",\n",
    "    end_ts = \"Oct 19 2022, 07:26:26\",\n",
    ")"
   ]
  },
  {
   "cell_type": "code",
   "execution_count": 40,
   "id": "88cf2491-703c-4c2b-847c-bfa8b6fdc6b9",
   "metadata": {},
   "outputs": [
    {
     "name": "stdout",
     "output_type": "stream",
     "text": [
      "0.030971481704964735 seconds per iteration\n",
      "total taken duration: 0 days 0 hours 52 minutes 11 seconds left\n",
      "expected total duration: 0 days 0 hours 52 minutes 11 seconds left\n"
     ]
    }
   ],
   "source": [
    "print_time_metrics(\n",
    "    max_iter = 101093,\n",
    "    start_ts = \"Oct 18 2022, 18:48:51\",\n",
    "    end_ts = \"Oct 18 2022, 19:41:02\",\n",
    ")"
   ]
  },
  {
   "cell_type": "markdown",
   "id": "24f2d357-5382-466d-af74-7dc9310bf3b2",
   "metadata": {},
   "source": [
    "## EC2"
   ]
  },
  {
   "cell_type": "markdown",
   "id": "503bc909-aad9-4ffc-84b7-a0013954505d",
   "metadata": {},
   "source": [
    "### Index"
   ]
  },
  {
   "cell_type": "code",
   "execution_count": 28,
   "id": "407e8a6d-53e5-442e-8c55-a287e409a474",
   "metadata": {},
   "outputs": [
    {
     "name": "stdout",
     "output_type": "stream",
     "text": [
      "125.78911564625851 seconds per chunk\n",
      "total taken duration: 0 days 5 hours 8 minutes 11 seconds left\n",
      "expected total duration: 0 days 12 hours 22 minutes 9 seconds left\n"
     ]
    }
   ],
   "source": [
    "print_time_metrics(\n",
    "    resume_iter = 207,\n",
    "    max_iter = 354,\n",
    "    start_ts = \"Oct 08 2022, 02:06:22\",\n",
    "    end_ts = \"Oct 08 2022, 07:14:33\",\n",
    ")"
   ]
  },
  {
   "cell_type": "markdown",
   "id": "b6c9fd2c-58aa-4b25-8a0f-8066e739fa89",
   "metadata": {},
   "source": [
    "### Retrieval"
   ]
  },
  {
   "cell_type": "code",
   "execution_count": 41,
   "id": "38ca646c-7c4c-493e-ba49-94b0824581f4",
   "metadata": {},
   "outputs": [
    {
     "name": "stdout",
     "output_type": "stream",
     "text": [
      "0.024749488095120335 seconds per iteration\n",
      "total taken duration: 0 days 0 hours 41 minutes 42 seconds left\n",
      "expected total duration: 0 days 0 hours 41 minutes 42 seconds left\n"
     ]
    }
   ],
   "source": [
    "print_time_metrics(\n",
    "    resume_iter = 0,\n",
    "    max_iter = 101093,\n",
    "    start_ts = \"Oct 08 2022, 07:33:26\",\n",
    "    end_ts = \"Oct 08 2022, 08:15:08\",\n",
    ")"
   ]
  },
  {
   "cell_type": "markdown",
   "id": "97a23ea2-6566-47ba-be86-7f869ed5027b",
   "metadata": {},
   "source": [
    "# Pull Stats"
   ]
  },
  {
   "cell_type": "code",
   "execution_count": 2,
   "id": "822c0d45-920d-44fa-bd9f-14a885124238",
   "metadata": {},
   "outputs": [],
   "source": [
    "import re\n",
    "import os\n",
    "import pandas as pd\n",
    "import numpy as np"
   ]
  },
  {
   "cell_type": "code",
   "execution_count": 3,
   "id": "547a6ec8-2fe1-4eae-b97f-97b10080daab",
   "metadata": {},
   "outputs": [
    {
     "data": {
      "text/plain": [
       "20"
      ]
     },
     "execution_count": 3,
     "metadata": {},
     "output_type": "execute_result"
    }
   ],
   "source": [
    "all_model_results = []\n",
    "for file_path, file_name in [(x.path, x.name) for x in os.scandir(r\"ColBERT\\experiments\\msmarco_500.000\\retrieval\") if x.name.endswith(\"log\")]:    \n",
    "    model_param = {}\n",
    "    model_step = \"\"\n",
    "    for data in re.split(r'(?<=[0-9])\\.(?=[^0-9])|(?<=[a-z])\\.(?=[^0-9])', file_name):\n",
    "        if \"=\" in data:\n",
    "            data_split = data.split(\"=\")\n",
    "            model_param[data_split[0]] = data_split[1]\n",
    "        elif 'msmarco' in data:\n",
    "            model_param['num_steps'] = \"\".join(data.split(\".\")[1:])\n",
    "\n",
    "    with open(file_path, \"r\") as file:\n",
    "        results = file.readlines()\n",
    "\n",
    "    model_metrics = {}\n",
    "    for m in [x for x in results if (\"MRR@\" in x or \"Recall@\" in x) and \"only for ranked\" not in x and \"=\" in x]:\n",
    "        key, val = m.split(\"#>\")[-1].split(\"=\")\n",
    "        model_metrics[key.strip()] = float(val)\n",
    "    model_param.update(model_metrics)\n",
    "    all_model_results.append(model_param)\n",
    "len(all_model_results)"
   ]
  },
  {
   "cell_type": "code",
   "execution_count": 4,
   "id": "8e637b9e-ca33-475c-b9d4-2283412f4538",
   "metadata": {},
   "outputs": [
    {
     "name": "stdout",
     "output_type": "stream",
     "text": [
      "(20, 10)\n"
     ]
    },
    {
     "data": {
      "text/html": [
       "<div>\n",
       "<style scoped>\n",
       "    .dataframe tbody tr th:only-of-type {\n",
       "        vertical-align: middle;\n",
       "    }\n",
       "\n",
       "    .dataframe tbody tr th {\n",
       "        vertical-align: top;\n",
       "    }\n",
       "\n",
       "    .dataframe thead th {\n",
       "        text-align: right;\n",
       "    }\n",
       "</style>\n",
       "<table border=\"1\" class=\"dataframe\">\n",
       "  <thead>\n",
       "    <tr style=\"text-align: right;\">\n",
       "      <th></th>\n",
       "      <th>num_steps</th>\n",
       "      <th>nbits</th>\n",
       "      <th>prune</th>\n",
       "      <th>prune_type</th>\n",
       "      <th>ranking</th>\n",
       "      <th>MRR@10</th>\n",
       "      <th>Recall@50</th>\n",
       "      <th>Recall@100</th>\n",
       "      <th>Recall@200</th>\n",
       "      <th>Recall@1000</th>\n",
       "    </tr>\n",
       "  </thead>\n",
       "  <tbody>\n",
       "    <tr>\n",
       "      <th>14</th>\n",
       "      <td>400000</td>\n",
       "      <td>2</td>\n",
       "      <td>0.2</td>\n",
       "      <td>attention_no_dense</td>\n",
       "      <td>1000</td>\n",
       "      <td>0.353181</td>\n",
       "      <td>0.796348</td>\n",
       "      <td>0.847427</td>\n",
       "      <td>0.883021</td>\n",
       "      <td>0.919341</td>\n",
       "    </tr>\n",
       "    <tr>\n",
       "      <th>5</th>\n",
       "      <td>400000</td>\n",
       "      <td>2</td>\n",
       "      <td>0.1</td>\n",
       "      <td>attention</td>\n",
       "      <td>1000</td>\n",
       "      <td>0.358179</td>\n",
       "      <td>0.809066</td>\n",
       "      <td>0.861275</td>\n",
       "      <td>0.897166</td>\n",
       "      <td>0.932763</td>\n",
       "    </tr>\n",
       "    <tr>\n",
       "      <th>16</th>\n",
       "      <td>400000</td>\n",
       "      <td>2</td>\n",
       "      <td>0</td>\n",
       "      <td>NaN</td>\n",
       "      <td>1000</td>\n",
       "      <td>0.357418</td>\n",
       "      <td>0.807960</td>\n",
       "      <td>0.859794</td>\n",
       "      <td>0.895890</td>\n",
       "      <td>0.930948</td>\n",
       "    </tr>\n",
       "  </tbody>\n",
       "</table>\n",
       "</div>"
      ],
      "text/plain": [
       "   num_steps nbits prune          prune_type ranking    MRR@10  Recall@50  \\\n",
       "14    400000     2   0.2  attention_no_dense    1000  0.353181   0.796348   \n",
       "5     400000     2   0.1           attention    1000  0.358179   0.809066   \n",
       "16    400000     2     0                 NaN    1000  0.357418   0.807960   \n",
       "\n",
       "    Recall@100  Recall@200  Recall@1000  \n",
       "14    0.847427    0.883021     0.919341  \n",
       "5     0.861275    0.897166     0.932763  \n",
       "16    0.859794    0.895890     0.930948  "
      ]
     },
     "execution_count": 4,
     "metadata": {},
     "output_type": "execute_result"
    }
   ],
   "source": [
    "df = pd.DataFrame(all_model_results)\n",
    "df.prune.fillna(0, inplace=True)\n",
    "print(df.shape)\n",
    "df.sample(3)"
   ]
  },
  {
   "cell_type": "code",
   "execution_count": 5,
   "id": "d0fa7a0f-7da0-4d8a-8a85-086ec1aa0629",
   "metadata": {},
   "outputs": [
    {
     "name": "stderr",
     "output_type": "stream",
     "text": [
      "C:\\Users\\Kevin\\AppData\\Local\\Temp\\ipykernel_11168\\2763620925.py:3: DeprecationWarning: `np.float` is a deprecated alias for the builtin `float`. To silence this warning, use `float` by itself. Doing this will not modify any behavior and is safe. If you specifically wanted the numpy scalar type, use `np.float64` here.\n",
      "Deprecated in NumPy 1.20; for more details and guidance: https://numpy.org/devdocs/release/1.20.0-notes.html#deprecations\n",
      "  df[col] = df[col].astype(np.float)*100\n"
     ]
    }
   ],
   "source": [
    "for col in df.columns:\n",
    "    if \"@\" in col:\n",
    "        df[col] = df[col].astype(np.float)*100"
   ]
  },
  {
   "cell_type": "code",
   "execution_count": 6,
   "id": "b2828774-abaf-4958-a782-6a0911ef80b0",
   "metadata": {},
   "outputs": [
    {
     "data": {
      "text/html": [
       "<div>\n",
       "<style scoped>\n",
       "    .dataframe tbody tr th:only-of-type {\n",
       "        vertical-align: middle;\n",
       "    }\n",
       "\n",
       "    .dataframe tbody tr th {\n",
       "        vertical-align: top;\n",
       "    }\n",
       "\n",
       "    .dataframe thead th {\n",
       "        text-align: right;\n",
       "    }\n",
       "</style>\n",
       "<table border=\"1\" class=\"dataframe\">\n",
       "  <thead>\n",
       "    <tr style=\"text-align: right;\">\n",
       "      <th></th>\n",
       "      <th>num_steps</th>\n",
       "      <th>nbits</th>\n",
       "      <th>prune</th>\n",
       "      <th>prune_type</th>\n",
       "      <th>ranking</th>\n",
       "      <th>MRR@10</th>\n",
       "      <th>Recall@50</th>\n",
       "      <th>Recall@100</th>\n",
       "      <th>Recall@200</th>\n",
       "      <th>Recall@1000</th>\n",
       "    </tr>\n",
       "  </thead>\n",
       "  <tbody>\n",
       "    <tr>\n",
       "      <th>17</th>\n",
       "      <td>500000</td>\n",
       "      <td>1</td>\n",
       "      <td>0</td>\n",
       "      <td>NaN</td>\n",
       "      <td>100</td>\n",
       "      <td>34.616486</td>\n",
       "      <td>77.931346</td>\n",
       "      <td>82.585915</td>\n",
       "      <td>NaN</td>\n",
       "      <td>NaN</td>\n",
       "    </tr>\n",
       "    <tr>\n",
       "      <th>18</th>\n",
       "      <td>500000</td>\n",
       "      <td>2</td>\n",
       "      <td>0</td>\n",
       "      <td>NaN</td>\n",
       "      <td>100</td>\n",
       "      <td>35.116619</td>\n",
       "      <td>78.231644</td>\n",
       "      <td>82.710215</td>\n",
       "      <td>NaN</td>\n",
       "      <td>NaN</td>\n",
       "    </tr>\n",
       "    <tr>\n",
       "      <th>14</th>\n",
       "      <td>400000</td>\n",
       "      <td>2</td>\n",
       "      <td>0.2</td>\n",
       "      <td>attention_no_dense</td>\n",
       "      <td>1000</td>\n",
       "      <td>35.318104</td>\n",
       "      <td>79.634778</td>\n",
       "      <td>84.742704</td>\n",
       "      <td>88.302086</td>\n",
       "      <td>91.934099</td>\n",
       "    </tr>\n",
       "    <tr>\n",
       "      <th>19</th>\n",
       "      <td>80000</td>\n",
       "      <td>2</td>\n",
       "      <td>0</td>\n",
       "      <td>NaN</td>\n",
       "      <td>100</td>\n",
       "      <td>35.483604</td>\n",
       "      <td>81.370596</td>\n",
       "      <td>86.180953</td>\n",
       "      <td>NaN</td>\n",
       "      <td>NaN</td>\n",
       "    </tr>\n",
       "    <tr>\n",
       "      <th>11</th>\n",
       "      <td>400000</td>\n",
       "      <td>2</td>\n",
       "      <td>0.15</td>\n",
       "      <td>dense</td>\n",
       "      <td>1000</td>\n",
       "      <td>35.609901</td>\n",
       "      <td>80.561343</td>\n",
       "      <td>85.769729</td>\n",
       "      <td>89.443395</td>\n",
       "      <td>92.923369</td>\n",
       "    </tr>\n",
       "    <tr>\n",
       "      <th>15</th>\n",
       "      <td>400000</td>\n",
       "      <td>2</td>\n",
       "      <td>0.2</td>\n",
       "      <td>dense</td>\n",
       "      <td>1000</td>\n",
       "      <td>35.651877</td>\n",
       "      <td>80.589922</td>\n",
       "      <td>85.685763</td>\n",
       "      <td>89.285569</td>\n",
       "      <td>92.879976</td>\n",
       "    </tr>\n",
       "    <tr>\n",
       "      <th>7</th>\n",
       "      <td>400000</td>\n",
       "      <td>2</td>\n",
       "      <td>0.1</td>\n",
       "      <td>dense</td>\n",
       "      <td>1000</td>\n",
       "      <td>35.738310</td>\n",
       "      <td>80.924107</td>\n",
       "      <td>86.065560</td>\n",
       "      <td>89.652650</td>\n",
       "      <td>93.220579</td>\n",
       "    </tr>\n",
       "    <tr>\n",
       "      <th>16</th>\n",
       "      <td>400000</td>\n",
       "      <td>2</td>\n",
       "      <td>0</td>\n",
       "      <td>NaN</td>\n",
       "      <td>1000</td>\n",
       "      <td>35.741835</td>\n",
       "      <td>80.795968</td>\n",
       "      <td>85.979404</td>\n",
       "      <td>89.589046</td>\n",
       "      <td>93.094840</td>\n",
       "    </tr>\n",
       "    <tr>\n",
       "      <th>3</th>\n",
       "      <td>400000</td>\n",
       "      <td>2</td>\n",
       "      <td>0.05</td>\n",
       "      <td>dense</td>\n",
       "      <td>1000</td>\n",
       "      <td>35.760545</td>\n",
       "      <td>80.928605</td>\n",
       "      <td>86.034732</td>\n",
       "      <td>89.668994</td>\n",
       "      <td>93.239921</td>\n",
       "    </tr>\n",
       "    <tr>\n",
       "      <th>1</th>\n",
       "      <td>400000</td>\n",
       "      <td>2</td>\n",
       "      <td>0.05</td>\n",
       "      <td>attention</td>\n",
       "      <td>1000</td>\n",
       "      <td>35.781703</td>\n",
       "      <td>80.848927</td>\n",
       "      <td>86.050626</td>\n",
       "      <td>89.628510</td>\n",
       "      <td>93.152686</td>\n",
       "    </tr>\n",
       "    <tr>\n",
       "      <th>4</th>\n",
       "      <td>400000</td>\n",
       "      <td>2</td>\n",
       "      <td>0.1</td>\n",
       "      <td>all</td>\n",
       "      <td>1000</td>\n",
       "      <td>35.787439</td>\n",
       "      <td>80.903115</td>\n",
       "      <td>86.084062</td>\n",
       "      <td>89.626921</td>\n",
       "      <td>93.222888</td>\n",
       "    </tr>\n",
       "    <tr>\n",
       "      <th>2</th>\n",
       "      <td>400000</td>\n",
       "      <td>2</td>\n",
       "      <td>0.05</td>\n",
       "      <td>attention_no_dense</td>\n",
       "      <td>1000</td>\n",
       "      <td>35.801308</td>\n",
       "      <td>80.847787</td>\n",
       "      <td>86.049426</td>\n",
       "      <td>89.648272</td>\n",
       "      <td>93.153946</td>\n",
       "    </tr>\n",
       "    <tr>\n",
       "      <th>5</th>\n",
       "      <td>400000</td>\n",
       "      <td>2</td>\n",
       "      <td>0.1</td>\n",
       "      <td>attention</td>\n",
       "      <td>1000</td>\n",
       "      <td>35.817927</td>\n",
       "      <td>80.906564</td>\n",
       "      <td>86.127455</td>\n",
       "      <td>89.716644</td>\n",
       "      <td>93.276296</td>\n",
       "    </tr>\n",
       "    <tr>\n",
       "      <th>0</th>\n",
       "      <td>400000</td>\n",
       "      <td>2</td>\n",
       "      <td>0.05</td>\n",
       "      <td>all</td>\n",
       "      <td>1000</td>\n",
       "      <td>35.820263</td>\n",
       "      <td>80.832194</td>\n",
       "      <td>86.062261</td>\n",
       "      <td>89.646353</td>\n",
       "      <td>93.184923</td>\n",
       "    </tr>\n",
       "    <tr>\n",
       "      <th>8</th>\n",
       "      <td>400000</td>\n",
       "      <td>2</td>\n",
       "      <td>0.15</td>\n",
       "      <td>all</td>\n",
       "      <td>1000</td>\n",
       "      <td>35.834838</td>\n",
       "      <td>81.002255</td>\n",
       "      <td>86.230433</td>\n",
       "      <td>89.793863</td>\n",
       "      <td>93.340590</td>\n",
       "    </tr>\n",
       "    <tr>\n",
       "      <th>12</th>\n",
       "      <td>400000</td>\n",
       "      <td>2</td>\n",
       "      <td>0.2</td>\n",
       "      <td>all</td>\n",
       "      <td>1000</td>\n",
       "      <td>35.835060</td>\n",
       "      <td>81.153094</td>\n",
       "      <td>86.319647</td>\n",
       "      <td>89.905418</td>\n",
       "      <td>93.525946</td>\n",
       "    </tr>\n",
       "    <tr>\n",
       "      <th>6</th>\n",
       "      <td>400000</td>\n",
       "      <td>2</td>\n",
       "      <td>0.1</td>\n",
       "      <td>attention_no_dense</td>\n",
       "      <td>1000</td>\n",
       "      <td>35.890338</td>\n",
       "      <td>80.964470</td>\n",
       "      <td>86.190669</td>\n",
       "      <td>89.748132</td>\n",
       "      <td>93.328925</td>\n",
       "    </tr>\n",
       "    <tr>\n",
       "      <th>10</th>\n",
       "      <td>400000</td>\n",
       "      <td>2</td>\n",
       "      <td>0.15</td>\n",
       "      <td>attention_no_dense</td>\n",
       "      <td>1000</td>\n",
       "      <td>35.932157</td>\n",
       "      <td>81.281502</td>\n",
       "      <td>86.494536</td>\n",
       "      <td>90.065104</td>\n",
       "      <td>93.563880</td>\n",
       "    </tr>\n",
       "    <tr>\n",
       "      <th>9</th>\n",
       "      <td>400000</td>\n",
       "      <td>2</td>\n",
       "      <td>0.15</td>\n",
       "      <td>attention</td>\n",
       "      <td>1000</td>\n",
       "      <td>35.935034</td>\n",
       "      <td>81.275205</td>\n",
       "      <td>86.467397</td>\n",
       "      <td>90.016283</td>\n",
       "      <td>93.606313</td>\n",
       "    </tr>\n",
       "    <tr>\n",
       "      <th>13</th>\n",
       "      <td>400000</td>\n",
       "      <td>2</td>\n",
       "      <td>0.2</td>\n",
       "      <td>attention</td>\n",
       "      <td>1000</td>\n",
       "      <td>36.023305</td>\n",
       "      <td>81.421996</td>\n",
       "      <td>86.580931</td>\n",
       "      <td>90.210455</td>\n",
       "      <td>93.717718</td>\n",
       "    </tr>\n",
       "  </tbody>\n",
       "</table>\n",
       "</div>"
      ],
      "text/plain": [
       "   num_steps nbits prune          prune_type ranking     MRR@10  Recall@50  \\\n",
       "17    500000     1     0                 NaN     100  34.616486  77.931346   \n",
       "18    500000     2     0                 NaN     100  35.116619  78.231644   \n",
       "14    400000     2   0.2  attention_no_dense    1000  35.318104  79.634778   \n",
       "19     80000     2     0                 NaN     100  35.483604  81.370596   \n",
       "11    400000     2  0.15               dense    1000  35.609901  80.561343   \n",
       "15    400000     2   0.2               dense    1000  35.651877  80.589922   \n",
       "7     400000     2   0.1               dense    1000  35.738310  80.924107   \n",
       "16    400000     2     0                 NaN    1000  35.741835  80.795968   \n",
       "3     400000     2  0.05               dense    1000  35.760545  80.928605   \n",
       "1     400000     2  0.05           attention    1000  35.781703  80.848927   \n",
       "4     400000     2   0.1                 all    1000  35.787439  80.903115   \n",
       "2     400000     2  0.05  attention_no_dense    1000  35.801308  80.847787   \n",
       "5     400000     2   0.1           attention    1000  35.817927  80.906564   \n",
       "0     400000     2  0.05                 all    1000  35.820263  80.832194   \n",
       "8     400000     2  0.15                 all    1000  35.834838  81.002255   \n",
       "12    400000     2   0.2                 all    1000  35.835060  81.153094   \n",
       "6     400000     2   0.1  attention_no_dense    1000  35.890338  80.964470   \n",
       "10    400000     2  0.15  attention_no_dense    1000  35.932157  81.281502   \n",
       "9     400000     2  0.15           attention    1000  35.935034  81.275205   \n",
       "13    400000     2   0.2           attention    1000  36.023305  81.421996   \n",
       "\n",
       "    Recall@100  Recall@200  Recall@1000  \n",
       "17   82.585915         NaN          NaN  \n",
       "18   82.710215         NaN          NaN  \n",
       "14   84.742704   88.302086    91.934099  \n",
       "19   86.180953         NaN          NaN  \n",
       "11   85.769729   89.443395    92.923369  \n",
       "15   85.685763   89.285569    92.879976  \n",
       "7    86.065560   89.652650    93.220579  \n",
       "16   85.979404   89.589046    93.094840  \n",
       "3    86.034732   89.668994    93.239921  \n",
       "1    86.050626   89.628510    93.152686  \n",
       "4    86.084062   89.626921    93.222888  \n",
       "2    86.049426   89.648272    93.153946  \n",
       "5    86.127455   89.716644    93.276296  \n",
       "0    86.062261   89.646353    93.184923  \n",
       "8    86.230433   89.793863    93.340590  \n",
       "12   86.319647   89.905418    93.525946  \n",
       "6    86.190669   89.748132    93.328925  \n",
       "10   86.494536   90.065104    93.563880  \n",
       "9    86.467397   90.016283    93.606313  \n",
       "13   86.580931   90.210455    93.717718  "
      ]
     },
     "execution_count": 6,
     "metadata": {},
     "output_type": "execute_result"
    }
   ],
   "source": [
    "df.sort_values(['MRR@10', 'Recall@100'])"
   ]
  },
  {
   "cell_type": "code",
   "execution_count": 7,
   "id": "c36d5f63-e187-459a-8a87-a2bdb60ee14d",
   "metadata": {},
   "outputs": [
    {
     "data": {
      "text/html": [
       "<div>\n",
       "<style scoped>\n",
       "    .dataframe tbody tr th:only-of-type {\n",
       "        vertical-align: middle;\n",
       "    }\n",
       "\n",
       "    .dataframe tbody tr th {\n",
       "        vertical-align: top;\n",
       "    }\n",
       "\n",
       "    .dataframe thead th {\n",
       "        text-align: right;\n",
       "    }\n",
       "</style>\n",
       "<table border=\"1\" class=\"dataframe\">\n",
       "  <thead>\n",
       "    <tr style=\"text-align: right;\">\n",
       "      <th></th>\n",
       "      <th></th>\n",
       "      <th></th>\n",
       "      <th></th>\n",
       "      <th>ranking</th>\n",
       "      <th>MRR@10</th>\n",
       "      <th>Recall@50</th>\n",
       "      <th>Recall@100</th>\n",
       "      <th>Recall@200</th>\n",
       "      <th>Recall@1000</th>\n",
       "    </tr>\n",
       "    <tr>\n",
       "      <th>num_steps</th>\n",
       "      <th>nbits</th>\n",
       "      <th>prune_type</th>\n",
       "      <th>prune</th>\n",
       "      <th></th>\n",
       "      <th></th>\n",
       "      <th></th>\n",
       "      <th></th>\n",
       "      <th></th>\n",
       "      <th></th>\n",
       "    </tr>\n",
       "  </thead>\n",
       "  <tbody>\n",
       "    <tr>\n",
       "      <th rowspan=\"17\" valign=\"top\">400000</th>\n",
       "      <th rowspan=\"17\" valign=\"top\">2</th>\n",
       "      <th rowspan=\"4\" valign=\"top\">all</th>\n",
       "      <th>0.05</th>\n",
       "      <td>1000</td>\n",
       "      <td>35.820263</td>\n",
       "      <td>80.832194</td>\n",
       "      <td>86.062261</td>\n",
       "      <td>89.646353</td>\n",
       "      <td>93.184923</td>\n",
       "    </tr>\n",
       "    <tr>\n",
       "      <th>0.1</th>\n",
       "      <td>1000</td>\n",
       "      <td>35.787439</td>\n",
       "      <td>80.903115</td>\n",
       "      <td>86.084062</td>\n",
       "      <td>89.626921</td>\n",
       "      <td>93.222888</td>\n",
       "    </tr>\n",
       "    <tr>\n",
       "      <th>0.15</th>\n",
       "      <td>1000</td>\n",
       "      <td>35.834838</td>\n",
       "      <td>81.002255</td>\n",
       "      <td>86.230433</td>\n",
       "      <td>89.793863</td>\n",
       "      <td>93.340590</td>\n",
       "    </tr>\n",
       "    <tr>\n",
       "      <th>0.2</th>\n",
       "      <td>1000</td>\n",
       "      <td>35.835060</td>\n",
       "      <td>81.153094</td>\n",
       "      <td>86.319647</td>\n",
       "      <td>89.905418</td>\n",
       "      <td>93.525946</td>\n",
       "    </tr>\n",
       "    <tr>\n",
       "      <th rowspan=\"4\" valign=\"top\">attention</th>\n",
       "      <th>0.05</th>\n",
       "      <td>1000</td>\n",
       "      <td>35.781703</td>\n",
       "      <td>80.848927</td>\n",
       "      <td>86.050626</td>\n",
       "      <td>89.628510</td>\n",
       "      <td>93.152686</td>\n",
       "    </tr>\n",
       "    <tr>\n",
       "      <th>0.1</th>\n",
       "      <td>1000</td>\n",
       "      <td>35.817927</td>\n",
       "      <td>80.906564</td>\n",
       "      <td>86.127455</td>\n",
       "      <td>89.716644</td>\n",
       "      <td>93.276296</td>\n",
       "    </tr>\n",
       "    <tr>\n",
       "      <th>0.15</th>\n",
       "      <td>1000</td>\n",
       "      <td>35.935034</td>\n",
       "      <td>81.275205</td>\n",
       "      <td>86.467397</td>\n",
       "      <td>90.016283</td>\n",
       "      <td>93.606313</td>\n",
       "    </tr>\n",
       "    <tr>\n",
       "      <th>0.2</th>\n",
       "      <td>1000</td>\n",
       "      <td>36.023305</td>\n",
       "      <td>81.421996</td>\n",
       "      <td>86.580931</td>\n",
       "      <td>90.210455</td>\n",
       "      <td>93.717718</td>\n",
       "    </tr>\n",
       "    <tr>\n",
       "      <th rowspan=\"4\" valign=\"top\">attention_no_dense</th>\n",
       "      <th>0.05</th>\n",
       "      <td>1000</td>\n",
       "      <td>35.801308</td>\n",
       "      <td>80.847787</td>\n",
       "      <td>86.049426</td>\n",
       "      <td>89.648272</td>\n",
       "      <td>93.153946</td>\n",
       "    </tr>\n",
       "    <tr>\n",
       "      <th>0.1</th>\n",
       "      <td>1000</td>\n",
       "      <td>35.890338</td>\n",
       "      <td>80.964470</td>\n",
       "      <td>86.190669</td>\n",
       "      <td>89.748132</td>\n",
       "      <td>93.328925</td>\n",
       "    </tr>\n",
       "    <tr>\n",
       "      <th>0.15</th>\n",
       "      <td>1000</td>\n",
       "      <td>35.932157</td>\n",
       "      <td>81.281502</td>\n",
       "      <td>86.494536</td>\n",
       "      <td>90.065104</td>\n",
       "      <td>93.563880</td>\n",
       "    </tr>\n",
       "    <tr>\n",
       "      <th>0.2</th>\n",
       "      <td>1000</td>\n",
       "      <td>35.318104</td>\n",
       "      <td>79.634778</td>\n",
       "      <td>84.742704</td>\n",
       "      <td>88.302086</td>\n",
       "      <td>91.934099</td>\n",
       "    </tr>\n",
       "    <tr>\n",
       "      <th rowspan=\"4\" valign=\"top\">dense</th>\n",
       "      <th>0.05</th>\n",
       "      <td>1000</td>\n",
       "      <td>35.760545</td>\n",
       "      <td>80.928605</td>\n",
       "      <td>86.034732</td>\n",
       "      <td>89.668994</td>\n",
       "      <td>93.239921</td>\n",
       "    </tr>\n",
       "    <tr>\n",
       "      <th>0.1</th>\n",
       "      <td>1000</td>\n",
       "      <td>35.738310</td>\n",
       "      <td>80.924107</td>\n",
       "      <td>86.065560</td>\n",
       "      <td>89.652650</td>\n",
       "      <td>93.220579</td>\n",
       "    </tr>\n",
       "    <tr>\n",
       "      <th>0.15</th>\n",
       "      <td>1000</td>\n",
       "      <td>35.609901</td>\n",
       "      <td>80.561343</td>\n",
       "      <td>85.769729</td>\n",
       "      <td>89.443395</td>\n",
       "      <td>92.923369</td>\n",
       "    </tr>\n",
       "    <tr>\n",
       "      <th>0.2</th>\n",
       "      <td>1000</td>\n",
       "      <td>35.651877</td>\n",
       "      <td>80.589922</td>\n",
       "      <td>85.685763</td>\n",
       "      <td>89.285569</td>\n",
       "      <td>92.879976</td>\n",
       "    </tr>\n",
       "    <tr>\n",
       "      <th>NaN</th>\n",
       "      <th>0</th>\n",
       "      <td>1000</td>\n",
       "      <td>35.741835</td>\n",
       "      <td>80.795968</td>\n",
       "      <td>85.979404</td>\n",
       "      <td>89.589046</td>\n",
       "      <td>93.094840</td>\n",
       "    </tr>\n",
       "    <tr>\n",
       "      <th rowspan=\"2\" valign=\"top\">500000</th>\n",
       "      <th>1</th>\n",
       "      <th>NaN</th>\n",
       "      <th>0</th>\n",
       "      <td>100</td>\n",
       "      <td>34.616486</td>\n",
       "      <td>77.931346</td>\n",
       "      <td>82.585915</td>\n",
       "      <td>NaN</td>\n",
       "      <td>NaN</td>\n",
       "    </tr>\n",
       "    <tr>\n",
       "      <th>2</th>\n",
       "      <th>NaN</th>\n",
       "      <th>0</th>\n",
       "      <td>100</td>\n",
       "      <td>35.116619</td>\n",
       "      <td>78.231644</td>\n",
       "      <td>82.710215</td>\n",
       "      <td>NaN</td>\n",
       "      <td>NaN</td>\n",
       "    </tr>\n",
       "    <tr>\n",
       "      <th>80000</th>\n",
       "      <th>2</th>\n",
       "      <th>NaN</th>\n",
       "      <th>0</th>\n",
       "      <td>100</td>\n",
       "      <td>35.483604</td>\n",
       "      <td>81.370596</td>\n",
       "      <td>86.180953</td>\n",
       "      <td>NaN</td>\n",
       "      <td>NaN</td>\n",
       "    </tr>\n",
       "  </tbody>\n",
       "</table>\n",
       "</div>"
      ],
      "text/plain": [
       "                                         ranking     MRR@10  Recall@50  \\\n",
       "num_steps nbits prune_type         prune                                 \n",
       "400000    2     all                0.05     1000  35.820263  80.832194   \n",
       "                                   0.1      1000  35.787439  80.903115   \n",
       "                                   0.15     1000  35.834838  81.002255   \n",
       "                                   0.2      1000  35.835060  81.153094   \n",
       "                attention          0.05     1000  35.781703  80.848927   \n",
       "                                   0.1      1000  35.817927  80.906564   \n",
       "                                   0.15     1000  35.935034  81.275205   \n",
       "                                   0.2      1000  36.023305  81.421996   \n",
       "                attention_no_dense 0.05     1000  35.801308  80.847787   \n",
       "                                   0.1      1000  35.890338  80.964470   \n",
       "                                   0.15     1000  35.932157  81.281502   \n",
       "                                   0.2      1000  35.318104  79.634778   \n",
       "                dense              0.05     1000  35.760545  80.928605   \n",
       "                                   0.1      1000  35.738310  80.924107   \n",
       "                                   0.15     1000  35.609901  80.561343   \n",
       "                                   0.2      1000  35.651877  80.589922   \n",
       "                NaN                0        1000  35.741835  80.795968   \n",
       "500000    1     NaN                0         100  34.616486  77.931346   \n",
       "          2     NaN                0         100  35.116619  78.231644   \n",
       "80000     2     NaN                0         100  35.483604  81.370596   \n",
       "\n",
       "                                          Recall@100  Recall@200  Recall@1000  \n",
       "num_steps nbits prune_type         prune                                       \n",
       "400000    2     all                0.05    86.062261   89.646353    93.184923  \n",
       "                                   0.1     86.084062   89.626921    93.222888  \n",
       "                                   0.15    86.230433   89.793863    93.340590  \n",
       "                                   0.2     86.319647   89.905418    93.525946  \n",
       "                attention          0.05    86.050626   89.628510    93.152686  \n",
       "                                   0.1     86.127455   89.716644    93.276296  \n",
       "                                   0.15    86.467397   90.016283    93.606313  \n",
       "                                   0.2     86.580931   90.210455    93.717718  \n",
       "                attention_no_dense 0.05    86.049426   89.648272    93.153946  \n",
       "                                   0.1     86.190669   89.748132    93.328925  \n",
       "                                   0.15    86.494536   90.065104    93.563880  \n",
       "                                   0.2     84.742704   88.302086    91.934099  \n",
       "                dense              0.05    86.034732   89.668994    93.239921  \n",
       "                                   0.1     86.065560   89.652650    93.220579  \n",
       "                                   0.15    85.769729   89.443395    92.923369  \n",
       "                                   0.2     85.685763   89.285569    92.879976  \n",
       "                NaN                0       85.979404   89.589046    93.094840  \n",
       "500000    1     NaN                0       82.585915         NaN          NaN  \n",
       "          2     NaN                0       82.710215         NaN          NaN  \n",
       "80000     2     NaN                0       86.180953         NaN          NaN  "
      ]
     },
     "execution_count": 7,
     "metadata": {},
     "output_type": "execute_result"
    }
   ],
   "source": [
    "df.groupby(['num_steps','nbits','prune_type','prune'], dropna=False).first()"
   ]
  },
  {
   "cell_type": "code",
   "execution_count": 8,
   "id": "0254a4e6-c3eb-415c-988d-ae7ecec3cb0c",
   "metadata": {},
   "outputs": [],
   "source": [
    "import matplotlib.pyplot as plt"
   ]
  },
  {
   "cell_type": "code",
   "execution_count": 9,
   "id": "5361a4b1-6ada-4b21-9876-d904847a746d",
   "metadata": {},
   "outputs": [],
   "source": [
    "base_df = df[(df.num_steps == \"400000\")]"
   ]
  },
  {
   "cell_type": "code",
   "execution_count": 10,
   "id": "79e038b8-ae40-447d-a8e3-170865926f49",
   "metadata": {},
   "outputs": [
    {
     "data": {
      "image/png": "[encoded data removed]",
      "text/plain": [
       "<Figure size 640x480 with 1 Axes>"
      ]
     },
     "metadata": {},
     "output_type": "display_data"
    },
    {
     "data": {
      "image/png": "[encoded data removed]",
      "text/plain": [
       "<Figure size 640x480 with 1 Axes>"
      ]
     },
     "metadata": {},
     "output_type": "display_data"
    }
   ],
   "source": [
    "for metric in [\"MRR@10\", \"Recall@1000\"]:\n",
    "    for prune_type in ['all', 'attention', 'attention_no_dense', 'dense']:\n",
    "        plt.plot(\n",
    "            [0,0.05,0.1,0.15,0.2],\n",
    "            np.pad(\n",
    "                np.concatenate( \n",
    "                    [base_df[(base_df.prune == 0)][metric].values, \n",
    "                    base_df[(base_df.prune_type == prune_type)][metric].values,\n",
    "                ]), \n",
    "                (0,5), constant_values=np.nan)[:5],\n",
    "            label =f'prune_{prune_type}'\n",
    "        )\n",
    "    plt.xticks([0,0.05,0.1,0.15,0.2]);\n",
    "    plt.title(f\"Effects of Pruning on {metric}\")\n",
    "    plt.ylabel(metric)\n",
    "    plt.xlabel(\"prune amount\")\n",
    "    plt.legend();\n",
    "    plt.grid(True, axis='both', linestyle=(0, (1,5)))\n",
    "    plt.show()"
   ]
  },
  {
   "cell_type": "markdown",
   "id": "6d676e8d-0c63-4a8d-b651-65d17791c266",
   "metadata": {},
   "source": [
    "# Remove Unused Dev Queries"
   ]
  },
  {
   "cell_type": "code",
   "execution_count": 6,
   "id": "5288b7a8-6805-4f10-b9fe-c5d3fe69a5a4",
   "metadata": {},
   "outputs": [],
   "source": [
    "from collections import defaultdict\n",
    "from tqdm.auto import tqdm"
   ]
  },
  {
   "cell_type": "code",
   "execution_count": 7,
   "id": "12ef99f2-5915-41c2-b103-afb8e662a859",
   "metadata": {},
   "outputs": [
    {
     "data": {
      "application/vnd.jupyter.widget-view+json": {
       "model_id": "1f4d8cd3dab84f6b89779aebbd75b07d",
       "version_major": 2,
       "version_minor": 0
      },
      "text/plain": [
       "0it [00:00, ?it/s]"
      ]
     },
     "metadata": {},
     "output_type": "display_data"
    },
    {
     "data": {
      "text/plain": [
       "55578"
      ]
     },
     "execution_count": 7,
     "metadata": {},
     "output_type": "execute_result"
    }
   ],
   "source": [
    "qid2positives = defaultdict(list)\n",
    "qid2ranking = defaultdict(list)\n",
    "qid2mrr = {}\n",
    "qid2recall = {depth: {} for depth in [50, 100, 200, 1000]}#, 5000, 10000]}\n",
    "\n",
    "with open(r'data/qrels.dev.tsv') as f:\n",
    "    for line in tqdm(f):\n",
    "        qid, _, pid, label = map(int, line.strip().split())\n",
    "        assert label == 1\n",
    "\n",
    "        qid2positives[qid].append(pid)\n",
    "len(qid2positives)"
   ]
  },
  {
   "cell_type": "code",
   "execution_count": 9,
   "id": "5133c72b-98ae-4212-9636-77b4281808ed",
   "metadata": {},
   "outputs": [
    {
     "data": {
      "text/plain": [
       "101093"
      ]
     },
     "execution_count": 9,
     "metadata": {},
     "output_type": "execute_result"
    }
   ],
   "source": [
    "queries = dict()\n",
    "with open(r\"data/queries.dev.tsv\", encoding='utf-8') as f:\n",
    "    for line in f:\n",
    "        qid, query, *_ = line.strip().split('\\t')\n",
    "        qid = int(qid)\n",
    "\n",
    "        assert (qid not in queries), (\"Query QID\", qid, \"is repeated!\")\n",
    "        queries[qid] = query\n",
    "len(queries)"
   ]
  },
  {
   "cell_type": "code",
   "execution_count": 12,
   "id": "39fd70cd-fca1-4b2f-8f76-c1de662185aa",
   "metadata": {},
   "outputs": [
    {
     "data": {
      "text/plain": [
       "55578"
      ]
     },
     "execution_count": 12,
     "metadata": {},
     "output_type": "execute_result"
    }
   ],
   "source": [
    "queries_cleaned = {k:v for k,v in queries.items() if k in qid2positives}\n",
    "len(queries_cleaned)"
   ]
  },
  {
   "cell_type": "code",
   "execution_count": 15,
   "id": "f1e9a24b-ac68-43aa-9828-a77e350e9944",
   "metadata": {},
   "outputs": [],
   "source": [
    "with open(r\"data/queries.dev_clean.tsv\", 'w', encoding='utf-8') as f:\n",
    "    for qid, content in queries_cleaned.items():\n",
    "        content = f'{qid}\\t{content}\\n'\n",
    "        f.write(content)"
   ]
  }
 ],
 "metadata": {
  "kernelspec": {
   "display_name": "Python 3 (ipykernel)",
   "language": "python",
   "name": "python3"
  },
  "language_info": {
   "codemirror_mode": {
    "name": "ipython",
    "version": 3
   },
   "file_extension": ".py",
   "mimetype": "text/x-python",
   "name": "python",
   "nbconvert_exporter": "python",
   "pygments_lexer": "ipython3",
   "version": "3.9.13"
  }
 },
 "nbformat": 4,
 "nbformat_minor": 5
}
