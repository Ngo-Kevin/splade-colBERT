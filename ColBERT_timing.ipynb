{
 "cells": [
  {
   "cell_type": "code",
   "execution_count": 6,
   "id": "ef1a4081-a332-404b-ba35-d8920d108068",
   "metadata": {},
   "outputs": [],
   "source": [
    "from datetime import datetime, timedelta"
   ]
  },
  {
   "cell_type": "markdown",
   "id": "ab313f30-e19d-4b36-9549-16db0bdae0da",
   "metadata": {
    "tags": []
   },
   "source": [
    "# Timing"
   ]
  },
  {
   "cell_type": "markdown",
   "id": "6f48ff8b-f115-4576-bddc-318bd0d480e1",
   "metadata": {},
   "source": [
    "## Estimation"
   ]
  },
  {
   "cell_type": "code",
   "execution_count": 45,
   "id": "d3ca8182-de54-48ad-af6b-5ccd80097de7",
   "metadata": {},
   "outputs": [
    {
     "name": "stdout",
     "output_type": "stream",
     "text": [
      "current progress: 64.40677966101694%\n",
      "expected total duration: 0 days 4 hours 42 minutes 50 seconds left\n",
      "expected duration: 0 days 1 hours 40 minutes 40 seconds left\n",
      "Oct 19 2022, 19:01:44\n"
     ]
    }
   ],
   "source": [
    "current_iter = 228\n",
    "\n",
    "max_iter = 354\n",
    "start_time = datetime.strptime(\"Oct 19 2022, 14:18:54\", \"%b %d %Y, %H:%M:%S\")\n",
    "cur_time = datetime.now()\n",
    "time_since_start = cur_time - start_time\n",
    "iter_per_sec = current_iter/time_since_start.total_seconds()\n",
    "seconds_total = max_iter/iter_per_sec\n",
    "time_total = timedelta(seconds=seconds_total)\n",
    "seconds_left = (max_iter-current_iter)/iter_per_sec\n",
    "time_left = timedelta(seconds=seconds_left)\n",
    "\n",
    "print( f\"current progress: {current_iter/max_iter*100}%\")\n",
    "print( f\"expected total duration: {time_total.days} days {time_total.seconds//3600} hours {(time_total.seconds//60)%60} minutes {time_total.seconds%60} seconds left\" )\n",
    "print( f\"expected duration: {time_left.days} days {time_left.seconds//3600} hours {(time_left.seconds//60)%60} minutes {time_left.seconds%60} seconds left\" )\n",
    "print( (cur_time + time_left).strftime(\"%b %d %Y, %H:%M:%S\") )"
   ]
  },
  {
   "cell_type": "markdown",
   "id": "2ca111d8-3367-43be-896e-40be76705bb6",
   "metadata": {
    "tags": []
   },
   "source": [
    "## Duration"
   ]
  },
  {
   "cell_type": "code",
   "execution_count": 39,
   "id": "b8b5652a-601b-4841-8186-a107338d3eb0",
   "metadata": {
    "tags": []
   },
   "outputs": [],
   "source": [
    "def print_time_metrics(max_iter, start_ts, end_ts, ts_format=\"%b %d %Y, %H:%M:%S\", resume_iter=0):\n",
    "    start_time = datetime.strptime(start_ts, ts_format)\n",
    "    finish_time = datetime.strptime(end_ts, ts_format)\n",
    "    duration = finish_time - start_time\n",
    "    time_per_chunk = duration.total_seconds()/(max_iter-resume_iter)\n",
    "    print( f\"{time_per_chunk} seconds per iteration\" )\n",
    "    print( f\"total taken duration: {duration.days} days {duration.seconds//3600} hours {(duration.seconds//60)%60} minutes {duration.seconds%60} seconds left\" )\n",
    "    full_duration = timedelta(seconds=time_per_chunk*max_iter)\n",
    "    print( f\"expected total duration: {full_duration.days} days {full_duration.seconds//3600} hours {(full_duration.seconds//60)%60} minutes {full_duration.seconds%60} seconds left\" )"
   ]
  },
  {
   "cell_type": "markdown",
   "id": "b8567a78-5fdf-45bb-b5b6-e2925c970896",
   "metadata": {
    "tags": []
   },
   "source": [
    "## Local"
   ]
  },
  {
   "cell_type": "markdown",
   "id": "2a83d80e-4c32-479c-a64c-c3b1d9f98857",
   "metadata": {
    "jp-MarkdownHeadingCollapsed": true,
    "tags": []
   },
   "source": [
    "### Train"
   ]
  },
  {
   "cell_type": "code",
   "execution_count": 32,
   "id": "e0053d6a-1707-4894-a93b-2f2384f8958b",
   "metadata": {},
   "outputs": [
    {
     "name": "stdout",
     "output_type": "stream",
     "text": [
      "0.4630875 seconds per iteration\n",
      "total taken duration: 0 days 10 hours 17 minutes 27 seconds left\n",
      "expected total duration: 0 days 10 hours 17 minutes 27 seconds left\n"
     ]
    }
   ],
   "source": [
    "print_time_metrics(\n",
    "    resume_iter = 0, \n",
    "    max_iter = 80000,\n",
    "    start_ts = \"Oct 17 2022, 19:26:21\",\n",
    "    end_ts = \"Oct 18 2022, 05:43:48\",\n",
    ")"
   ]
  },
  {
   "cell_type": "code",
   "execution_count": 33,
   "id": "b56e8687-0cae-4620-a6dc-18676c965f48",
   "metadata": {},
   "outputs": [
    {
     "name": "stdout",
     "output_type": "stream",
     "text": [
      "0.5124 seconds per iteration\n",
      "total taken duration: 2 days 23 hours 10 minutes 0 seconds left\n",
      "expected total duration: 2 days 23 hours 10 minutes 0 seconds left\n"
     ]
    }
   ],
   "source": [
    "print_time_metrics(\n",
    "    resume_iter = 0,\n",
    "    max_iter = 500000,\n",
    "    start_ts = \"Sep 26 2022, 19:55:00\",\n",
    "    end_ts = \"Sep 29 2022, 19:05:00\",\n",
    ")"
   ]
  },
  {
   "cell_type": "markdown",
   "id": "ecbe152a-725d-4034-ab89-622cc17a8c41",
   "metadata": {},
   "source": [
    "### Index"
   ]
  },
  {
   "cell_type": "code",
   "execution_count": 24,
   "id": "4eb841db-9ac3-4918-93e5-af19c726fa64",
   "metadata": {},
   "outputs": [
    {
     "name": "stdout",
     "output_type": "stream",
     "text": [
      "43.59773371104816 seconds per chunk\n",
      "total taken duration: 0 days 4 hours 16 minutes 30 seconds left\n",
      "expected total duration: 0 days 4 hours 17 minutes 13 seconds left\n"
     ]
    }
   ],
   "source": [
    "print_time_metrics(\n",
    "    resume_iter = 1, \n",
    "    max_iter = 354,\n",
    "    start_ts = \"Oct 18, 11:39:40\",\n",
    "    end_ts = \"Oct 18, 15:56:10\",\n",
    "    ts_format = \"%b %d, %H:%M:%S\"\n",
    ")"
   ]
  },
  {
   "cell_type": "code",
   "execution_count": 42,
   "id": "8609c1dc-26ee-4b4e-8b55-d554b75cb5cc",
   "metadata": {},
   "outputs": [
    {
     "name": "stdout",
     "output_type": "stream",
     "text": [
      "41.632768361581924 seconds per iteration\n",
      "total taken duration: 0 days 4 hours 5 minutes 38 seconds left\n",
      "expected total duration: 0 days 4 hours 5 minutes 38 seconds left\n"
     ]
    }
   ],
   "source": [
    "print_time_metrics(\n",
    "    resume_iter = 0, \n",
    "    max_iter = 354,\n",
    "    start_ts = \"Oct 18 2022, 22:42:31\",\n",
    "    end_ts = \"Oct 19 2022, 02:48:09\",\n",
    ")"
   ]
  },
  {
   "cell_type": "code",
   "execution_count": 42,
   "id": "5146342a-7e28-472b-9460-7ef6ffcdbeb5",
   "metadata": {},
   "outputs": [
    {
     "name": "stdout",
     "output_type": "stream",
     "text": [
      "41.632768361581924 seconds per iteration\n",
      "total taken duration: 0 days 4 hours 5 minutes 38 seconds left\n",
      "expected total duration: 0 days 4 hours 5 minutes 38 seconds left\n"
     ]
    }
   ],
   "source": [
    "print_time_metrics(\n",
    "    resume_iter = 0, \n",
    "    max_iter = 354,\n",
    "    start_ts = \"Oct 19 2022, 08:17:55\",\n",
    "    end_ts = \"Oct 19 2022, 02:48:09\",\n",
    ")"
   ]
  },
  {
   "cell_type": "markdown",
   "id": "b8ba86bf-e420-43f0-ae2f-98a829b1d18e",
   "metadata": {},
   "source": [
    "### Retrieval"
   ]
  },
  {
   "cell_type": "code",
   "execution_count": 27,
   "id": "dae5886e-8826-44d3-862e-11d93350ee12",
   "metadata": {},
   "outputs": [
    {
     "name": "stdout",
     "output_type": "stream",
     "text": [
      "0.03195077799649827 seconds per iteration\n",
      "total taken duration: 0 days 0 hours 53 minutes 50 seconds left\n",
      "expected total duration: 0 days 0 hours 53 minutes 50 seconds left\n"
     ]
    }
   ],
   "source": [
    "print_time_metrics(\n",
    "    max_iter = 101093,\n",
    "    start_ts = \"Oct 19 2022, 06:32:36\",\n",
    "    end_ts = \"Oct 19 2022, 07:26:26\",\n",
    ")"
   ]
  },
  {
   "cell_type": "code",
   "execution_count": 40,
   "id": "88cf2491-703c-4c2b-847c-bfa8b6fdc6b9",
   "metadata": {},
   "outputs": [
    {
     "name": "stdout",
     "output_type": "stream",
     "text": [
      "0.030971481704964735 seconds per iteration\n",
      "total taken duration: 0 days 0 hours 52 minutes 11 seconds left\n",
      "expected total duration: 0 days 0 hours 52 minutes 11 seconds left\n"
     ]
    }
   ],
   "source": [
    "print_time_metrics(\n",
    "    max_iter = 101093,\n",
    "    start_ts = \"Oct 18 2022, 18:48:51\",\n",
    "    end_ts = \"Oct 18 2022, 19:41:02\",\n",
    ")"
   ]
  },
  {
   "cell_type": "markdown",
   "id": "24f2d357-5382-466d-af74-7dc9310bf3b2",
   "metadata": {},
   "source": [
    "## EC2"
   ]
  },
  {
   "cell_type": "markdown",
   "id": "503bc909-aad9-4ffc-84b7-a0013954505d",
   "metadata": {},
   "source": [
    "### Index"
   ]
  },
  {
   "cell_type": "code",
   "execution_count": 28,
   "id": "407e8a6d-53e5-442e-8c55-a287e409a474",
   "metadata": {},
   "outputs": [
    {
     "name": "stdout",
     "output_type": "stream",
     "text": [
      "125.78911564625851 seconds per chunk\n",
      "total taken duration: 0 days 5 hours 8 minutes 11 seconds left\n",
      "expected total duration: 0 days 12 hours 22 minutes 9 seconds left\n"
     ]
    }
   ],
   "source": [
    "print_time_metrics(\n",
    "    resume_iter = 207,\n",
    "    max_iter = 354,\n",
    "    start_ts = \"Oct 08 2022, 02:06:22\",\n",
    "    end_ts = \"Oct 08 2022, 07:14:33\",\n",
    ")"
   ]
  },
  {
   "cell_type": "markdown",
   "id": "b6c9fd2c-58aa-4b25-8a0f-8066e739fa89",
   "metadata": {},
   "source": [
    "### Retrieval"
   ]
  },
  {
   "cell_type": "code",
   "execution_count": 41,
   "id": "38ca646c-7c4c-493e-ba49-94b0824581f4",
   "metadata": {},
   "outputs": [
    {
     "name": "stdout",
     "output_type": "stream",
     "text": [
      "0.024749488095120335 seconds per iteration\n",
      "total taken duration: 0 days 0 hours 41 minutes 42 seconds left\n",
      "expected total duration: 0 days 0 hours 41 minutes 42 seconds left\n"
     ]
    }
   ],
   "source": [
    "print_time_metrics(\n",
    "    resume_iter = 0,\n",
    "    max_iter = 101093,\n",
    "    start_ts = \"Oct 08 2022, 07:33:26\",\n",
    "    end_ts = \"Oct 08 2022, 08:15:08\",\n",
    ")"
   ]
  }
 ],
 "metadata": {
  "kernelspec": {
   "display_name": "Python 3 (ipykernel)",
   "language": "python",
   "name": "python3"
  },
  "language_info": {
   "codemirror_mode": {
    "name": "ipython",
    "version": 3
   },
   "file_extension": ".py",
   "mimetype": "text/x-python",
   "name": "python",
   "nbconvert_exporter": "python",
   "pygments_lexer": "ipython3",
   "version": "3.9.13"
  }
 },
 "nbformat": 4,
 "nbformat_minor": 5
}
